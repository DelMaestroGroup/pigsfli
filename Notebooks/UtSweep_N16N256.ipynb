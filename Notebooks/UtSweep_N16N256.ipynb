{
 "cells": [
  {
   "cell_type": "markdown",
   "metadata": {},
   "source": [
    "## U/t sweep"
   ]
  },
  {
   "cell_type": "code",
   "execution_count": 15,
   "metadata": {},
   "outputs": [],
   "source": [
    "import numpy as np\n",
    "import matplotlib.pyplot as plt"
   ]
  },
  {
   "cell_type": "code",
   "execution_count": 16,
   "metadata": {},
   "outputs": [],
   "source": [
    "colors = ['salmon','dodgerblue','mediumseagreen']\n",
    "colors = ['#FFA0A0','#1e90ff','#3cb371','#966fd6','#F0B365','#666666','#FEDD00']\n",
    "colors_light = ['#FFEDED','#6BDDFF','#89FFBE','#ece6ff','#f7ecde','#eeeeee','#fef7e1']"
   ]
  },
  {
   "cell_type": "code",
   "execution_count": 17,
   "metadata": {},
   "outputs": [],
   "source": [
    "# Load exact data\n",
    "data_ED = np.loadtxt(\"/Users/ecasiano/Desktop/PaperData/PaperData/EDSweep/spatEE_gs_16_16_08_+0.500_+100.000_141.dat\")\n",
    "S2_ED = data_ED[:,4]\n",
    "U_ED = data_ED[:,0]"
   ]
  },
  {
   "cell_type": "code",
   "execution_count": 18,
   "metadata": {},
   "outputs": [],
   "source": [
    "# Simulation data for β=8.0\n",
    "U = np.array([0.500000,0.730000,1.065800,1.556100,2.272000,3.300000,4.843100,7.071100,10.323900,16.666667, 22.007100, 32.130800,46.911700,68.492100,100.000000])\n",
    "S2_beta8 = np.array([1.630047060518235, 1.5703652796002112, 1.507430446978029, 1.4377928779510818, 1.352829546274818, 1.2273869204222319, 0.8788882219391739, 0.3672017251603274, 0.15928207764217242, 0.05898650434908755, 0.03207936618390503, 0.015234203001274323, 0.007388753215261015, 0.003543275840845231,0.0017396321921139125])\n",
    "S2_beta8_err= np.array([0.000312837152680006, 0.00026544762798955417, 0.00029905034006532603, 0.00026413375730581994, 0.00028261182836896776, 0.00025235054185815923, 0.00021330931901034187, 0.0002207092884847, 0.00017991918555043928, 0.0001169798199006142, 0.0013047099803009362, 0.0004593015758100737, 6.302947943649481e-05, 4.720596219888969e-05,4.052558943743949e-05])"
   ]
  },
  {
   "cell_type": "code",
   "execution_count": 19,
   "metadata": {},
   "outputs": [],
   "source": [
    "# Simulation data for β=4.0\n",
    "S2_beta4 = np.array([1.6868264766613954, 1.6120771761942205, 1.536038122931756, 1.4560212337634384, 1.3664474755693035, 1.2408982523129064, 0.9298155469322051, 0.3773134455495643, 0.1592995616655873, 0.058688554237845934, 0.03345359541624713, 0.01570723433024003, 0.007500136912308202, 0.0031021067762761288,0.001561726221648626])\n",
    "S2_beta4_err = np.array([0.00020044954395468352, 0.0002051429266090227, 0.0001756112781378431, 0.00018164779200884013, 0.0011255663131833392, 0.0001711686047496351, 0.0001662671315359506, 0.0001734829556421395, 0.0001901101771667297, 0.00014175799869843477, 0.00013455947088369155, 0.00012303279555955492, 6.22335831597337e-05, 0.0002723235914914792,4.562892542236415e-05])"
   ]
  },
  {
   "cell_type": "code",
   "execution_count": 20,
   "metadata": {},
   "outputs": [],
   "source": [
    "# Simulation data for β=2.0\n",
    "S2_beta2 = np.array([1.8051083294918644, 1.7207695003689463, 1.630186786513241, 1.5339911152021086, 1.4292868177250404, 1.3052491096563852, 1.0875673240985575, 0.5329847092736065, 0.16522482003063563, 0.05903480981091445, 0.03366471481216628, 0.015786243309651036, 0.007579541076472147, 0.004225923368733449, 0.0018783911312578359])\n",
    "S2_beta2_err = np.array([0.000177000650525815, 0.00018333473004043154, 0.00014604527034312717, 0.0001437650684056088, 0.000130142921090066, 0.00011967519663138708, 0.0001249605096223464, 0.00017457752024494473, 0.0001362038126757987, 9.86929041132866e-05, 7.82175195557874e-05, 6.17773856561838e-05, 4.863764887381229e-05, 0.0005897522278986942, 3.625634318562608e-05])"
   ]
  },
  {
   "cell_type": "code",
   "execution_count": 21,
   "metadata": {},
   "outputs": [],
   "source": [
    "# Simulation data for β=1.0\n",
    "S2_beta1 = np.array([1.9459126982871058, 1.8663652043019112, 1.7817770316186852, 1.6829784449384508, 1.5727218827926288, 1.4496066779994585, 1.2879903884638837, 1.009837532197397, 0.38478590491834364, 0.06220617866211373, 0.03380428384001455, 0.016454066356483207, 0.007657521941005984, 0.003942759689599682, 0.0021733842232976])\n",
    "S2_beta1_err = np.array([0.00013515868516109853, 0.002987146856459112, 0.00012810251041093487, 0.00012208696433348954, 0.00011234755133266266, 0.00011158615040650442, 0.0016267072685854777, 8.897923390070946e-05, 8.684285627228312e-05, 9.247630233425648e-05, 7.672325014394484e-05, 0.00046723267452857594, 3.766189477730464e-05, 3.38178421559142e-05, 3.086389870708455e-05])"
   ]
  },
  {
   "cell_type": "code",
   "execution_count": 22,
   "metadata": {},
   "outputs": [],
   "source": [
    "# Extrapolated data for β large\n",
    "S2s_extrapolated = np.array([1.6156150234068303, 1.5694076086589193, 1.5072311926100799, 1.4400472089238747, 1.3491392555625747, 1.2288726341586773, 0.8751683790987755, 0.3671126283924669, 0.15938249324937237, 0.05907417214946625, 0.03367479180340462, 0.01588728101438945, 0.007236771641036834, 0.0034226537158845802, 0.001732112962342956])\n",
    "S2s_extrapolated_err = np.array([0.003527381510594486, 0.0014673986390165332, 0.003939062702089423, 0.0030652050488908554, 0.0021206567728591454, 0.003146249738696877, 0.0007502829663701376, 0.0006181048179824724, 0.0005012451667065351, 0.00010848581581552149, 8.469792958202551e-05, 0.000346025677136763, 5.3899483681983876e-05, 0.0004722869940240065, 6.616196943435604e-05])"
   ]
  },
  {
   "cell_type": "code",
   "execution_count": 23,
   "metadata": {},
   "outputs": [],
   "source": [
    "# N=256 data\n",
    "U = np.array([0.500000,0.730000,1.065800,1.556100,2.272000,3.300000,4.843100,7.071100,10.323900,16.666667, 22.007100, 32.130800,46.911700,68.492100,100.000000])\n",
    "\n",
    "# Simulation extrapolated values for β -> \\infty\n",
    "S2s_extrapolated_N256 = np.array([2.5239912695238833, 2.368975442192509, 2.3090741214420825, 2.2019141108981692, 2.093738396091782, 1.9300737357448878, 0.8884881377552545, 0.3567373904081745, 0.16637587650780666, 0.04989772299081139, 0.04053236606704449, 0.01709983362102333, 0.008594450746295904, 0.0036169306970674003, 0.0011448982636767387])\n",
    "S2s_extrapolated_err_N256 = np.array([0.02938587934834009, 0.003893065606697477, 0.025757753542229228, 0.04424636186799337, 0.024884672686184245, 0.02757335387200755, 0.36975346836835743, 0.0028536334412077274, 0.007670275864618744, 0.0025824048263460436, 0.0026457513229081434, 0.001926782747414821, 0.003194842975139299, 0.00018105680733479152, 0.0016265373281066243])\n"
   ]
  },
  {
   "cell_type": "code",
   "execution_count": 24,
   "metadata": {},
   "outputs": [
    {
     "data": {
      "text/plain": [
       "(15, 15)"
      ]
     },
     "execution_count": 24,
     "metadata": {},
     "output_type": "execute_result"
    }
   ],
   "source": [
    "len(S2s_extrapolated_N256),len(U)"
   ]
  },
  {
   "cell_type": "code",
   "execution_count": 25,
   "metadata": {},
   "outputs": [
    {
     "data": {
      "image/png": "[encoded data removed]",
      "text/plain": [
       "<Figure size 333.549x412.289 with 2 Axes>"
      ]
     },
     "metadata": {
      "needs_background": "light"
     },
     "output_type": "display_data"
    }
   ],
   "source": [
    "with plt.style.context('../IOP_large.mplstyle2'):\n",
    "\n",
    "    # Plot exact data points\n",
    "    fig,ax = plt.subplots(2,1,sharex=True)\n",
    "    ax1=ax[0]\n",
    "    ax2=ax[1]\n",
    "    \n",
    "    ax1.set_xscale(\"log\")\n",
    "    \n",
    "    # Plot exact results\n",
    "    ax1.plot(U_ED,S2_ED,'-k',zorder=-5,label=\"Exact\",color=\"#444444\",mfc=\"None\")\n",
    "    ax1.set_xlabel(r\"\")\n",
    "    ax1.set_ylabel(r\"$S_2(\\ell=8)$\")\n",
    "    ax1.axvline(3.3,zorder=-6,color=\"#cccccc\",ls=\"--\")\n",
    "    # ax1.tick_params(direction='in') # not working in x log scale\n",
    "\n",
    "\n",
    "    # Plot simulation data for β=1.0\n",
    "    ax1.errorbar(U,S2_beta1, yerr=S2_beta1_err, fmt='.', capsize=5,color=colors[0],\n",
    "               mfc=colors_light[0],label=r\"$\\beta=1.0$\",marker='s',zorder=1,alpha=0.50);\n",
    "\n",
    "    # Plot simulation data for β=2.0\n",
    "    ax1.errorbar(U,S2_beta2, yerr=S2_beta2_err, fmt='.', capsize=5,color=colors[1],\n",
    "               mfc=colors_light[1],label=r\"$\\beta=2.0$\",marker='o',zorder=2,alpha=0.50);\n",
    "\n",
    "    # Plot simulation data for β=4.0\n",
    "    ax1.errorbar(U,S2_beta4, yerr=S2_beta4_err, fmt='.', capsize=5,color=colors[2],\n",
    "               mfc=colors_light[2],label=r\"$\\beta=4.0$\",marker='^',zorder=3,alpha=0.50);\n",
    "\n",
    "    # Plot simulation data for β=8.0\n",
    "    ax1.errorbar(U,S2_beta8, yerr=S2_beta8_err, fmt='.', capsize=5,color=colors[3],\n",
    "               mfc=colors_light[3],label=r\"$\\beta=8.0$\",marker='d',zorder=4,alpha=0.50)\n",
    "    \n",
    "    # Plot simulation data for β=large extrapolation\n",
    "    ax1.errorbar(U[0:],S2s_extrapolated, yerr=S2s_extrapolated_err, fmt='.', capsize=5,\n",
    "               label=r\"$\\beta\\to\\infty$\",marker=\".\",zorder=5,color='k',\n",
    "                mfc='gold',ms=8,elinewidth=0.5,mew=0.5)\n",
    "    \n",
    "\n",
    "    # # Set plot limits\n",
    "    ax1.set_xlim(np.min(U_ED)*0.92,np.max(U_ED)*1.08)\n",
    "    \n",
    "    # Set tick parameters\n",
    "    ax1.tick_params(direction='in',which='both')\n",
    "    \n",
    "    # Annotate system information\n",
    "    ax1.annotate(r\"$M=16$\",(0.18,0.60+0.18),\n",
    "                xycoords='figure fraction')\n",
    "    ax1.annotate(r\"$N=16$\",(0.18,0.60+0.12),\n",
    "                xycoords='figure fraction')\n",
    "    ax1.annotate(r\"$\\ell=8$\",(0.18,0.60+0.06),\n",
    "                xycoords='figure fraction')\n",
    "    ax1.annotate(r\"$D=1$\",(0.18,0.60+0.00),\n",
    "                xycoords='figure fraction')\n",
    "\n",
    "    # Set legend\n",
    "    ax1.legend(frameon=False);\n",
    "    \n",
    "    # N=32 sweep\n",
    "    \n",
    "    ax2.set_xscale(\"log\")\n",
    "    ax2.set_xlabel(r\"$U/t$\")\n",
    "    ax2.set_ylabel(r\"$S_2(\\ell=128)$\")\n",
    "    ax2.axvline(3.3,zorder=-6,color=\"#cccccc\",ls=\"--\")\n",
    "\n",
    "    # ---------- Bottom Plot ------------- #\n",
    "    # Plot simulation data for β=large extrapolation\n",
    "    ax2.errorbar(U,S2s_extrapolated_N256, yerr=S2s_extrapolated_err_N256, fmt='.', capsize=5,\n",
    "               label=r\"$\\beta\\to\\infty$\",marker=\".\",zorder=5,color='k',\n",
    "                mfc='gold',ms=8,mew=0.5,elinewidth=0.5)\n",
    "\n",
    "    # # Set plot limits\n",
    "    ax2.set_xlim(np.min(U)*0.92,np.max(U)*1.08)\n",
    "    # ax2.set_ylim(np.min(S2_beta4)*0.00,np.max(S2_beta1)*1.05);\n",
    "    \n",
    "    # Set tick parameters\n",
    "    ax2.tick_params(direction='in',which='both')\n",
    "    \n",
    "    # Set legend\n",
    "    ax2.legend(frameon=False);\n",
    "    \n",
    "    # Adjust vertical space between subplots\n",
    "    fig.subplots_adjust(hspace=0.023)\n",
    "    \n",
    "    # Annotate system information\n",
    "    ax2.annotate(r\"$M=256$\",(0.18,0.15+0.18),\n",
    "                xycoords='figure fraction')\n",
    "    ax2.annotate(r\"$N=256$\",(0.18,0.15+0.12),\n",
    "                xycoords='figure fraction')\n",
    "    ax2.annotate(r\"$\\ell=128$\",(0.18,0.15+0.06),\n",
    "                xycoords='figure fraction')\n",
    "    ax2.annotate(r\"$D=1$\",(0.18,0.15+0.00),\n",
    "                xycoords='figure fraction')\n",
    "\n",
    "\n",
    "    # Save figure\n",
    "    plt.savefig(\"/Users/ecasiano/Desktop/papers-latticepigs/Figures/interactionStrengthSweep_N16N256.pdf\",dpi=300)\n",
    "    plt.savefig(\"interactionStrengthSweep_N16.png\",dpi=300)"
   ]
  },
  {
   "cell_type": "code",
   "execution_count": 26,
   "metadata": {},
   "outputs": [],
   "source": [
    "# Compare extrapolation with exact values"
   ]
  },
  {
   "cell_type": "code",
   "execution_count": 14,
   "metadata": {},
   "outputs": [],
   "source": [
    "data_ED = np.loadtxt(\"/Users/ecasiano/Desktop/PaperData/PaperData/EDSweep/spatEE_gs_16_16_08.dat\")\n",
    "S2_ED = data_ED[:,4]\n",
    "U_ED = data_ED[:,0]"
   ]
  },
  {
   "cell_type": "code",
   "execution_count": 14,
   "metadata": {},
   "outputs": [
    {
     "data": {
      "text/plain": [
       "array([  0.5     ,   0.730011,   1.065832,   1.556137,   2.271994,\n",
       "         3.3     ,   4.843125,   7.071068,  10.323912,  16.666667,\n",
       "        22.007102,  32.130845,  46.911728,  68.492137, 100.      ])"
      ]
     },
     "execution_count": 14,
     "metadata": {},
     "output_type": "execute_result"
    }
   ],
   "source": [
    "U_ED"
   ]
  },
  {
   "cell_type": "code",
   "execution_count": 15,
   "metadata": {},
   "outputs": [
    {
     "name": "stdout",
     "output_type": "stream",
     "text": [
      "U/t        S2 (exact)  S2 (extrapolated)  σ            (N=16)\n",
      "0.500000   1.6187      1.6203 +/- 0.0049  0.3292σ\n",
      "0.730000   1.5642      1.5634 +/- 0.0030  0.2596σ\n",
      "1.065800   1.5043      1.5057 +/- 0.0028  0.4945σ\n",
      "1.556100   1.4361      1.4376 +/- 0.0024  0.6223σ\n",
      "2.272000   1.3524      1.3511 +/- 0.0034  0.3624σ\n",
      "3.300000   1.2267      1.2249 +/- 0.0022  0.8069σ\n"
     ]
    }
   ],
   "source": [
    "# Test extrapolation for N=16\n",
    "\n",
    "S2_ED = data_ED[:,4][0:6]\n",
    "S2s_extrapolated = np.array([1.6203046051671894, 1.563381907027884, 1.505657820410446, 1.4375845024948415, 1.3511187020721573, 1.2248893747838085])\n",
    "S2s_extrapolated_err = np.array([0.004851857569332986, 0.0029968310575077092, 0.0027976247959600985, 0.002380777626535738, 0.003446337868204126, 0.0022369830087609773])\n",
    "print(\"U/t        S2 (exact)  S2 (extrapolated)  σ            (N=16)\")\n",
    "for i,u in enumerate(U[0:6]):\n",
    "    rel_err = np.abs((S2s_extrapolated[i]-S2_ED[i])/S2_ED[i])\n",
    "    print(f\"{u:0.6f}   {S2_ED[i]:0.4f}      {S2s_extrapolated[i]:0.4f} +/- {S2s_extrapolated_err[i]:0.4f}  {np.abs(S2s_extrapolated[i]-S2_ED[i])/S2s_extrapolated_err[i]:0.4f}σ\")\n",
    "\n",
    "\n"
   ]
  },
  {
   "cell_type": "code",
   "execution_count": 14,
   "metadata": {},
   "outputs": [
    {
     "name": "stdout",
     "output_type": "stream",
     "text": [
      "\n"
     ]
    }
   ],
   "source": [
    "print()"
   ]
  },
  {
   "cell_type": "code",
   "execution_count": 15,
   "metadata": {},
   "outputs": [
    {
     "data": {
      "text/plain": [
       "11.414462081128807"
      ]
     },
     "execution_count": 15,
     "metadata": {},
     "output_type": "execute_result"
    }
   ],
   "source": [
    "np.abs((1.6187 - 1.625172)) / 0.000567"
   ]
  },
  {
   "cell_type": "code",
   "execution_count": 78,
   "metadata": {},
   "outputs": [
    {
     "data": {
      "text/plain": [
       "1.625739"
      ]
     },
     "execution_count": 78,
     "metadata": {},
     "output_type": "execute_result"
    }
   ],
   "source": [
    "1.625172 + 0.000567"
   ]
  },
  {
   "cell_type": "code",
   "execution_count": 81,
   "metadata": {},
   "outputs": [
    {
     "data": {
      "text/plain": [
       "6.720481927710676"
      ]
     },
     "execution_count": 81,
     "metadata": {},
     "output_type": "execute_result"
    }
   ],
   "source": [
    "np.abs((1.6187 - 1.621489)) / 0.000415"
   ]
  },
  {
   "cell_type": "code",
   "execution_count": 82,
   "metadata": {},
   "outputs": [
    {
     "data": {
      "text/plain": [
       "4.438511326860745"
      ]
     },
     "execution_count": 82,
     "metadata": {},
     "output_type": "execute_result"
    }
   ],
   "source": [
    "np.abs((1.6187 - 1.621443)) / 0.000618"
   ]
  },
  {
   "cell_type": "code",
   "execution_count": 95,
   "metadata": {},
   "outputs": [
    {
     "data": {
      "text/plain": [
       "0.33071975923852287"
      ]
     },
     "execution_count": 95,
     "metadata": {},
     "output_type": "execute_result"
    }
   ],
   "source": [
    "np.abs((1.6187 - 1.6203046051671894)) / 0.004851857569332986"
   ]
  },
  {
   "cell_type": "code",
   "execution_count": 85,
   "metadata": {},
   "outputs": [
    {
     "data": {
      "text/plain": [
       "0.3307914262160096"
      ]
     },
     "execution_count": 85,
     "metadata": {},
     "output_type": "execute_result"
    }
   ],
   "source": []
  },
  {
   "cell_type": "code",
   "execution_count": null,
   "metadata": {},
   "outputs": [],
   "source": []
  }
 ],
 "metadata": {
  "kernelspec": {
   "display_name": "Python 3",
   "language": "python",
   "name": "python3"
  },
  "language_info": {
   "codemirror_mode": {
    "name": "ipython",
    "version": 3
   },
   "file_extension": ".py",
   "mimetype": "text/x-python",
   "name": "python",
   "nbconvert_exporter": "python",
   "pygments_lexer": "ipython3",
   "version": "3.8.5"
  }
 },
 "nbformat": 4,
 "nbformat_minor": 4
}
