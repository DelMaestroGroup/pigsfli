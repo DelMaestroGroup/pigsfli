{
 "cells": [
  {
   "cell_type": "code",
   "execution_count": 116,
   "metadata": {},
   "outputs": [],
   "source": [
    "import numpy as np\n",
    "import matplotlib.pyplot as plt"
   ]
  },
  {
   "cell_type": "code",
   "execution_count": 117,
   "metadata": {},
   "outputs": [],
   "source": [
    "def generate_correlated_data(autocorrelation_time, number_of_uncorrelated_measurements, scale_randn=0.0):\n",
    "    τ = autocorrelation_time\n",
    "    _N = number_of_uncorrelated_measurements\n",
    "    ΔMC_data = 1.0/(τ - 1)\n",
    "    N = _N*τ\n",
    "    _data = np.random.rand(_N)\n",
    "    data = np.zeros(N)\n",
    "    for i in range(_N):\n",
    "        if np.random.rand() < 0.5:\n",
    "            for j in range(τ):\n",
    "                data[i*τ + j] = _data[i] - 0.5 + ΔMC_data*j*(np.random.randn()*scale_randn + 1.0)\n",
    "        else:\n",
    "            for j in range(τ):\n",
    "                data[i*τ + j] = _data[i] + 0.5 - ΔMC_data*j*(np.random.randn()*scale_randn + 1.0)\n",
    "    return data"
   ]
  },
  {
   "cell_type": "code",
   "execution_count": 118,
   "metadata": {},
   "outputs": [],
   "source": [
    "def autocorrelation_function(time,scale,autocorrelation_time):\n",
    "    return scale*np.exp(-time/autocorrelation_time)\n",
    "\n",
    "def generate_correlated_data2(autocorrelation_time, number_of_measurements, scale_randn=0.0):\n",
    "    τ = autocorrelation_time\n",
    "    N = number_of_measurements\n",
    "    _data = np.random.rand(N)\n",
    "    data = np.zeros(N)\n",
    "    for i in range(N):\n",
    "        for j in range(i+1):\n",
    "            data[i] += _data[j]*autocorrelation_function(i-j,1.0,autocorrelation_time)\n",
    "    return data"
   ]
  },
  {
   "cell_type": "code",
   "execution_count": 119,
   "metadata": {},
   "outputs": [],
   "source": [
    "def generate_correlated_data3(autocorrelation_time, number_of_measurements, scale_randn=0.0):\n",
    "    τ = autocorrelation_time\n",
    "    N = number_of_measurements\n",
    "    _data = np.random.rand(N)\n",
    "    data = np.zeros(N)\n",
    "    for i in range(N):\n",
    "        data[i] = (_data[:i]*autocorrelation_function(np.arange(i),1.0,autocorrelation_time)[::-1]).sum()\n",
    "    return data"
   ]
  },
  {
   "cell_type": "code",
   "execution_count": 120,
   "metadata": {},
   "outputs": [],
   "source": [
    "# autocorrelation_time = 30\n",
    "# number_of_uncorrelated_measurements = 10000\n",
    "# data_correlated = generate_correlated_data(autocorrelation_time, number_of_uncorrelated_measurements)\n",
    "# MC_steps = np.arange(data_correlated.shape[0])"
   ]
  },
  {
   "cell_type": "code",
   "execution_count": 121,
   "metadata": {},
   "outputs": [
    {
     "ename": "KeyboardInterrupt",
     "evalue": "",
     "output_type": "error",
     "traceback": [
      "\u001b[0;31m---------------------------------------------------------------------------\u001b[0m",
      "\u001b[0;31mKeyboardInterrupt\u001b[0m                         Traceback (most recent call last)",
      "\u001b[0;32m<ipython-input-121-4578cbeba9a6>\u001b[0m in \u001b[0;36m<module>\u001b[0;34m\u001b[0m\n\u001b[1;32m      1\u001b[0m \u001b[0mautocorrelation_time\u001b[0m \u001b[0;34m=\u001b[0m \u001b[0;36m60\u001b[0m\u001b[0;34m\u001b[0m\u001b[0;34m\u001b[0m\u001b[0m\n\u001b[1;32m      2\u001b[0m \u001b[0mnumber_of_measurements\u001b[0m \u001b[0;34m=\u001b[0m \u001b[0;36m100000\u001b[0m\u001b[0;34m\u001b[0m\u001b[0;34m\u001b[0m\u001b[0m\n\u001b[0;32m----> 3\u001b[0;31m \u001b[0mdata_correlated\u001b[0m \u001b[0;34m=\u001b[0m \u001b[0mgenerate_correlated_data3\u001b[0m\u001b[0;34m(\u001b[0m\u001b[0mautocorrelation_time\u001b[0m\u001b[0;34m,\u001b[0m \u001b[0mnumber_of_measurements\u001b[0m\u001b[0;34m)\u001b[0m\u001b[0;34m\u001b[0m\u001b[0;34m\u001b[0m\u001b[0m\n\u001b[0m\u001b[1;32m      4\u001b[0m \u001b[0mMC_steps\u001b[0m \u001b[0;34m=\u001b[0m \u001b[0mnp\u001b[0m\u001b[0;34m.\u001b[0m\u001b[0marange\u001b[0m\u001b[0;34m(\u001b[0m\u001b[0mdata_correlated\u001b[0m\u001b[0;34m.\u001b[0m\u001b[0mshape\u001b[0m\u001b[0;34m[\u001b[0m\u001b[0;36m0\u001b[0m\u001b[0;34m]\u001b[0m\u001b[0;34m)\u001b[0m\u001b[0;34m\u001b[0m\u001b[0;34m\u001b[0m\u001b[0m\n",
      "\u001b[0;32m<ipython-input-119-fde7e8c2b2a3>\u001b[0m in \u001b[0;36mgenerate_correlated_data3\u001b[0;34m(autocorrelation_time, number_of_measurements, scale_randn)\u001b[0m\n\u001b[1;32m      5\u001b[0m     \u001b[0mdata\u001b[0m \u001b[0;34m=\u001b[0m \u001b[0mnp\u001b[0m\u001b[0;34m.\u001b[0m\u001b[0mzeros\u001b[0m\u001b[0;34m(\u001b[0m\u001b[0mN\u001b[0m\u001b[0;34m)\u001b[0m\u001b[0;34m\u001b[0m\u001b[0;34m\u001b[0m\u001b[0m\n\u001b[1;32m      6\u001b[0m     \u001b[0;32mfor\u001b[0m \u001b[0mi\u001b[0m \u001b[0;32min\u001b[0m \u001b[0mrange\u001b[0m\u001b[0;34m(\u001b[0m\u001b[0mN\u001b[0m\u001b[0;34m)\u001b[0m\u001b[0;34m:\u001b[0m\u001b[0;34m\u001b[0m\u001b[0;34m\u001b[0m\u001b[0m\n\u001b[0;32m----> 7\u001b[0;31m         \u001b[0mdata\u001b[0m\u001b[0;34m[\u001b[0m\u001b[0mi\u001b[0m\u001b[0;34m]\u001b[0m \u001b[0;34m=\u001b[0m \u001b[0;34m(\u001b[0m\u001b[0m_data\u001b[0m\u001b[0;34m[\u001b[0m\u001b[0;34m:\u001b[0m\u001b[0mi\u001b[0m\u001b[0;34m]\u001b[0m\u001b[0;34m*\u001b[0m\u001b[0mautocorrelation_function\u001b[0m\u001b[0;34m(\u001b[0m\u001b[0mnp\u001b[0m\u001b[0;34m.\u001b[0m\u001b[0marange\u001b[0m\u001b[0;34m(\u001b[0m\u001b[0mi\u001b[0m\u001b[0;34m)\u001b[0m\u001b[0;34m,\u001b[0m\u001b[0;36m1.0\u001b[0m\u001b[0;34m,\u001b[0m\u001b[0mautocorrelation_time\u001b[0m\u001b[0;34m)\u001b[0m\u001b[0;34m[\u001b[0m\u001b[0;34m:\u001b[0m\u001b[0;34m:\u001b[0m\u001b[0;34m-\u001b[0m\u001b[0;36m1\u001b[0m\u001b[0;34m]\u001b[0m\u001b[0;34m)\u001b[0m\u001b[0;34m.\u001b[0m\u001b[0msum\u001b[0m\u001b[0;34m(\u001b[0m\u001b[0;34m)\u001b[0m\u001b[0;34m\u001b[0m\u001b[0;34m\u001b[0m\u001b[0m\n\u001b[0m\u001b[1;32m      8\u001b[0m     \u001b[0;32mreturn\u001b[0m \u001b[0mdata\u001b[0m\u001b[0;34m\u001b[0m\u001b[0;34m\u001b[0m\u001b[0m\n",
      "\u001b[0;32m<ipython-input-118-cbba562f73ab>\u001b[0m in \u001b[0;36mautocorrelation_function\u001b[0;34m(time, scale, autocorrelation_time)\u001b[0m\n\u001b[1;32m      1\u001b[0m \u001b[0;32mdef\u001b[0m \u001b[0mautocorrelation_function\u001b[0m\u001b[0;34m(\u001b[0m\u001b[0mtime\u001b[0m\u001b[0;34m,\u001b[0m\u001b[0mscale\u001b[0m\u001b[0;34m,\u001b[0m\u001b[0mautocorrelation_time\u001b[0m\u001b[0;34m)\u001b[0m\u001b[0;34m:\u001b[0m\u001b[0;34m\u001b[0m\u001b[0;34m\u001b[0m\u001b[0m\n\u001b[0;32m----> 2\u001b[0;31m     \u001b[0;32mreturn\u001b[0m \u001b[0mscale\u001b[0m\u001b[0;34m*\u001b[0m\u001b[0mnp\u001b[0m\u001b[0;34m.\u001b[0m\u001b[0mexp\u001b[0m\u001b[0;34m(\u001b[0m\u001b[0;34m-\u001b[0m\u001b[0mtime\u001b[0m\u001b[0;34m/\u001b[0m\u001b[0mautocorrelation_time\u001b[0m\u001b[0;34m)\u001b[0m\u001b[0;34m\u001b[0m\u001b[0;34m\u001b[0m\u001b[0m\n\u001b[0m\u001b[1;32m      3\u001b[0m \u001b[0;34m\u001b[0m\u001b[0m\n\u001b[1;32m      4\u001b[0m \u001b[0;32mdef\u001b[0m \u001b[0mgenerate_correlated_data2\u001b[0m\u001b[0;34m(\u001b[0m\u001b[0mautocorrelation_time\u001b[0m\u001b[0;34m,\u001b[0m \u001b[0mnumber_of_measurements\u001b[0m\u001b[0;34m,\u001b[0m \u001b[0mscale_randn\u001b[0m\u001b[0;34m=\u001b[0m\u001b[0;36m0.0\u001b[0m\u001b[0;34m)\u001b[0m\u001b[0;34m:\u001b[0m\u001b[0;34m\u001b[0m\u001b[0;34m\u001b[0m\u001b[0m\n\u001b[1;32m      5\u001b[0m     \u001b[0mτ\u001b[0m \u001b[0;34m=\u001b[0m \u001b[0mautocorrelation_time\u001b[0m\u001b[0;34m\u001b[0m\u001b[0;34m\u001b[0m\u001b[0m\n",
      "\u001b[0;31mKeyboardInterrupt\u001b[0m: "
     ]
    }
   ],
   "source": [
    "# autocorrelation_time = 60\n",
    "# number_of_measurements = 100000\n",
    "# data_correlated = generate_correlated_data3(autocorrelation_time, number_of_measurements)\n",
    "# MC_steps = np.arange(data_correlated.shape[0])"
   ]
  },
  {
   "cell_type": "code",
   "execution_count": null,
   "metadata": {},
   "outputs": [],
   "source": [
    "# Load data\n",
    "data_correlated = np.loadtxt(\"1D_20_20_10_3.300000_1.000000_4.000000_1_K_1968_square.dat\")\n",
    "MC_steps = np.arange(data_correlated.shape[0])\n",
    "data_correlated"
   ]
  },
  {
   "cell_type": "code",
   "execution_count": null,
   "metadata": {},
   "outputs": [],
   "source": [
    "fig, ax = plt.subplots(figsize=(8,4.5), dpi=120, constrained_layout=True)\n",
    "ax.plot(MC_steps,data_correlated)"
   ]
  },
  {
   "cell_type": "code",
   "execution_count": null,
   "metadata": {},
   "outputs": [],
   "source": [
    "fig, ax = plt.subplots(figsize=(8,4.5), dpi=120, constrained_layout=True)\n",
    "ax.plot(MC_steps,data_correlated,marker=\"o\")\n",
    "ax.set_xlim(0,1000)"
   ]
  },
  {
   "cell_type": "markdown",
   "metadata": {},
   "source": [
    "$$ C(t) = \\frac{\\frac{1}{N-t}\\sum_{i=1}^{N-t}{X_{i}X_{i+t}-{\\left\\langle{X}\\right\\rangle^2}}}{\\left\\langle{X^2}\\right\\rangle-{\\left\\langle{X}\\right\\rangle^2}} \\sim e^{\\frac{t}{\\tau_\\mathrm{exp}}} $$"
   ]
  },
  {
   "cell_type": "code",
   "execution_count": null,
   "metadata": {},
   "outputs": [],
   "source": [
    "def autocorrelation(data):\n",
    "    N = data.shape[0]\n",
    "    _autocorrelation = np.zeros(N)\n",
    "    for Δt in range(N-1):\n",
    "        denom = np.mean(data[:N - Δt]**2) - np.mean(data[:N - Δt])**2 #Variance at t0\n",
    "        num = np.mean(data[:N - Δt]*data[Δt:]) - np.mean(data[:N - Δt])*np.mean(data[Δt:])\n",
    "        _autocorrelation[Δt] = num/denom\n",
    "    return _autocorrelation"
   ]
  },
  {
   "cell_type": "code",
   "execution_count": null,
   "metadata": {},
   "outputs": [],
   "source": []
  },
  {
   "cell_type": "code",
   "execution_count": null,
   "metadata": {},
   "outputs": [],
   "source": [
    "_autocorrelation = autocorrelation(data_correlated)\n",
    "\n",
    "# Eliminate nans (there's usually just a few)\n",
    "_autocorrelation = _autocorrelation[np.logical_not(np.isnan(_autocorrelation))]\n",
    "\n",
    "time_separation = np.arange(_autocorrelation.shape[0])"
   ]
  },
  {
   "cell_type": "code",
   "execution_count": null,
   "metadata": {},
   "outputs": [],
   "source": [
    "np.size(_autocorrelation)"
   ]
  },
  {
   "cell_type": "code",
   "execution_count": null,
   "metadata": {},
   "outputs": [],
   "source": [
    "np.sum(np.isfinite(_autocorrelation))"
   ]
  },
  {
   "cell_type": "code",
   "execution_count": null,
   "metadata": {},
   "outputs": [],
   "source": []
  },
  {
   "cell_type": "code",
   "execution_count": null,
   "metadata": {},
   "outputs": [],
   "source": [
    "from scipy.optimize import curve_fit"
   ]
  },
  {
   "cell_type": "code",
   "execution_count": null,
   "metadata": {},
   "outputs": [],
   "source": [
    "def autocorrelation_function(time,scale,autocorrelation_time):\n",
    "    return scale*np.exp(-time/autocorrelation_time)"
   ]
  },
  {
   "cell_type": "code",
   "execution_count": null,
   "metadata": {},
   "outputs": [],
   "source": [
    "popt, perr = curve_fit(autocorrelation_function, time_separation, _autocorrelation)"
   ]
  },
  {
   "cell_type": "markdown",
   "metadata": {},
   "source": [
    "$$ \\tau_\\mathrm{int}=\\sum_k \\frac{C(k)}{C(0)}$$"
   ]
  },
  {
   "cell_type": "code",
   "execution_count": null,
   "metadata": {},
   "outputs": [],
   "source": [
    "def integrated_autocorrelation_time(data):\n",
    "    data_mean_squared = np.mean(data)**2\n",
    "    variance = np.mean(data**2) - data_mean_squared\n",
    "    τ_int_auto = 0.0\n",
    "    N = data.shape[0]\n",
    "    for Δt in range(N):\n",
    "        τ_int_auto += np.mean(data[:N - Δt]*data[Δt:]) - data_mean_squared\n",
    "    return τ_int_auto/variance"
   ]
  },
  {
   "cell_type": "code",
   "execution_count": null,
   "metadata": {},
   "outputs": [],
   "source": [
    "autocorrelation_time_int = integrated_autocorrelation_time(data_correlated)"
   ]
  },
  {
   "cell_type": "code",
   "execution_count": null,
   "metadata": {},
   "outputs": [],
   "source": []
  },
  {
   "cell_type": "code",
   "execution_count": null,
   "metadata": {},
   "outputs": [],
   "source": [
    "fig,ax = plt.subplots(figsize=(8,4.5), dpi=240, constrained_layout=True)\n",
    "ax.plot(time_separation, _autocorrelation,color='dodgerblue')\n",
    "ax.plot(time_separation, autocorrelation_function(time_separation,*popt),color='mediumseagreen')\n",
    "#ax.plot(time_separation, autocorrelation_function(time_separation, 1.0, autocorrelation_time_int))\n",
    "ax.axhline(1/np.exp(1.0),color='salmon')\n",
    "# ax.axvline(autocorrelation_time,linestyle=\":\",color='k')\n",
    "ax.set_xlim((0,1000))\n",
    "ax.set_ylim(1e-4,1)\n",
    "ax.set_yscale('log')\n",
    "plt.savefig(\"act_kinetic_truncated.pdf\",dpi=300)"
   ]
  },
  {
   "cell_type": "code",
   "execution_count": null,
   "metadata": {},
   "outputs": [],
   "source": [
    "print(\"τ_auto: {}\".format(popt[1])) # from fitting\n",
    "print(\"4τ_auto: {}\".format(4*popt[1]))\n",
    "print(\"τ_auto_int: {}\".format(autocorrelation_time_int)) # from using estimate\n",
    "# print(\"τ_exact: {}\".format(autocorrelation_time))"
   ]
  },
  {
   "cell_type": "code",
   "execution_count": null,
   "metadata": {},
   "outputs": [],
   "source": []
  },
  {
   "cell_type": "code",
   "execution_count": null,
   "metadata": {},
   "outputs": [],
   "source": []
  },
  {
   "cell_type": "code",
   "execution_count": null,
   "metadata": {},
   "outputs": [],
   "source": []
  },
  {
   "cell_type": "code",
   "execution_count": null,
   "metadata": {},
   "outputs": [],
   "source": []
  }
 ],
 "metadata": {
  "kernelspec": {
   "display_name": "Python 3",
   "language": "python",
   "name": "python3"
  },
  "language_info": {
   "codemirror_mode": {
    "name": "ipython",
    "version": 3
   },
   "file_extension": ".py",
   "mimetype": "text/x-python",
   "name": "python",
   "nbconvert_exporter": "python",
   "pygments_lexer": "ipython3",
   "version": "3.8.5"
  }
 },
 "nbformat": 4,
 "nbformat_minor": 4
}
