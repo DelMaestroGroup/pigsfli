{
 "cells": [
  {
   "cell_type": "markdown",
   "metadata": {},
   "source": [
    "# Binning analysis"
   ]
  },
  {
   "cell_type": "code",
   "execution_count": 1,
   "metadata": {},
   "outputs": [],
   "source": [
    "# Statistical analysis library for Monte Carlo Data\n",
    "import math as m\n",
    "import numpy as np\n",
    "import os.path\n",
    "import sys\n",
    "import matplotlib.pyplot as plt"
   ]
  },
  {
   "cell_type": "code",
   "execution_count": 2,
   "metadata": {},
   "outputs": [],
   "source": [
    "#!/usr/bin/python\n",
    "# pimcstat.py\n",
    "# Chris Herdman\n",
    "# 11.30.2012\n",
    "# \n",
    "\n",
    "\n",
    "# -----------------------------------------------------------------------------\n",
    "# -----------------------------------------------------------------------------\n",
    "# Begin bin function\n",
    "# -----------------------------------------------------------------------------\n",
    "# Returns error as a funciton of bin level (D)\n",
    "# Requires raw Monte Carlo bin data in horizontal rows\n",
    "# -----------------------------------------------------------------------------\n",
    "def bindata(MC):\n",
    "    \n",
    "    # minimum number of MC bins required\n",
    "    min_bin = 32\n",
    "\n",
    "    # initialize B to MC data\n",
    "    B = MC\n",
    "\n",
    "    # Resize if 1D array\n",
    "    if B.ndim == 1:\n",
    "        B.resize(B.shape[0],1)\n",
    "\n",
    "    try:\n",
    "        # Define number of binning levels\n",
    "        Nl = int(m.floor(m.log(B.shape[0]/min_bin,2))+1)\n",
    "\n",
    "    except:\n",
    "        print(\"Not enough bins. Need {} bins and have {} bins. Setting binning level to 1.\".format(min_bin,B.shape[0]))\n",
    "        Nl = 1\n",
    "\n",
    "    # initialize D\n",
    "    D = np.zeros((Nl,B.shape[1]))\n",
    "    \n",
    "    # First level of binning is raw data\n",
    "    D[0,:] = np.std(MC,0)/m.sqrt(B.shape[0]-1)\n",
    "    \n",
    "    # Binning loop over levels l\n",
    "    for l in range(1,Nl):\n",
    "        \n",
    "        # Bin pairs of bins: if odd # of bins, truncate first bin\n",
    "        if ((B.shape[0] % 2) == 0):\n",
    "            B = (B[::2,:]+ B[1::2,:])/2\n",
    "        else:\n",
    "            B = (B[1::2,:]+ B[2::2,:])/2\n",
    "        \n",
    "        # Error at level l\n",
    "        D[l,:] = np.std(B,0)/m.sqrt(B.shape[0]-1)\n",
    "    \n",
    "    return D\n",
    "# -----------------------------------------------------------------------------\n",
    "# end of bin function\n",
    "# -----------------------------------------------------------------------------\n",
    "# -----------------------------------------------------------------------------\n",
    "\n",
    "# -----------------------------------------------------------------------------\n",
    "# -----------------------------------------------------------------------------\n",
    "# Begin autocorr function\n",
    "# -----------------------------------------------------------------------------\n",
    "# Returns autocorrelation as a funciton of MC update time\n",
    "# Averages dt over entire MC run, from dt=1 to dt=T/2\n",
    "# -----------------------------------------------------------------------------\n",
    "def autocorr(MC):\n",
    "    \n",
    "    # Reshape MC to 2D array if column vector\n",
    "    if MC.ndim == 1:\n",
    "        MC.resize(MC.shape[0],1)\n",
    "    \n",
    "    # Number of MC bins\n",
    "    T = MC.shape[0]\n",
    "    \n",
    "    # Number of AC steps\n",
    "    Nt = T//2+1\n",
    "    \n",
    "    ac = np.zeros((Nt,MC.shape[1]))\n",
    "    dac = np.zeros((Nt,MC.shape[1]))\n",
    "    \n",
    "    A2 = np.average(MC,0)**2\n",
    "    dA2 = np.sqrt(2*A2)*np.std(MC,0)/np.sqrt(T)\n",
    "    AA = np.average(MC*MC,0)\n",
    "    dAA = np.std(MC*MC,0)/np.sqrt(T)\n",
    "    ac[0,:] = np.ones((1,MC.shape[1]))\n",
    "    for dt in range(1,Nt):\n",
    "        AtA0 = MC[:-dt,:]*MC[dt:,:]\n",
    "        ac[dt,:] = (np.average(AtA0,0)-A2)/(AA-A2)\n",
    "        dac[dt,:] = np.sqrt( (ac[dt,:]**2)*( \\\n",
    "                    (np.std(AtA0,0)**2/AtA0.shape[0]+dA2**2)/ \\\n",
    "                    (np.average(AtA0,0)-A2)**2 + (dAA**2+dA2**2)/(AA-A2)**2) )\n",
    "    \n",
    "    return {'correlation':ac, 'error':dac}\n",
    "    \n",
    "# -----------------------------------------------------------------------------\n",
    "# end of autocorr function\n",
    "# -----------------------------------------------------------------------------\n",
    "# -----------------------------------------------------------------------------\n",
    "\n",
    "# -----------------------------------------------------------------------------\n",
    "# -----------------------------------------------------------------------------\n",
    "# Begin bin_ac function\n",
    "# -----------------------------------------------------------------------------\n",
    "# Returns estimate of autocorrelation time in bins from binning analysis (tau)\n",
    "# Requires processed bins from bin function\n",
    "# -----------------------------------------------------------------------------\n",
    "def bin_ac(D,dD=None):\n",
    "    \n",
    "    if D.ndim == 1:\n",
    "        D.resize((len(D),1))\n",
    "        if dD is not None:\n",
    "            dD.resize((len(dD),1))\n",
    "        \n",
    "    # initialize autocorrelation time\n",
    "    tau = np.zeros(D.shape[1])\n",
    "    dtau = np.zeros(D.shape[1])\n",
    "    \n",
    "    #Loop of columns of D to compute tau,CF\n",
    "    for c in range(D.shape[1]):\n",
    "        if D[0,c] != 0.0:\n",
    "            tau[c] = 0.5*((D[-1,c]/D[0,c])**2-1)\n",
    "            if dD is not None:\n",
    "                dtau[c] = np.sqrt(tau[c]**2*( (dD[-1,c]/D[-1,c])**2 + \\\n",
    "                                   (dD[0,c]/D[0,c])**2 ) )\n",
    "            \n",
    "    return {'tau':tau,'dtau':dtau}\n",
    "# -----------------------------------------------------------------------------\n",
    "# end of bin_ac function\n",
    "# -----------------------------------------------------------------------------\n",
    "# -----------------------------------------------------------------------------"
   ]
  },
  {
   "cell_type": "code",
   "execution_count": 3,
   "metadata": {},
   "outputs": [],
   "source": [
    "# Load data\n",
    "K_SF = np.loadtxt(\"1D_4_4_2_3.300000_1.000000_8.000000_100_K_1968_square.dat\")\n",
    "V_SF = np.loadtxt(\"1D_4_4_2_3.300000_1.000000_8.000000_100_V_1968_square.dat\")"
   ]
  },
  {
   "cell_type": "code",
   "execution_count": 4,
   "metadata": {},
   "outputs": [],
   "source": [
    "# Compute error as a function of bin levelb\n",
    "binned_K_SF = bindata(K_SF)\n",
    "binned_V_SF = bindata(V_SF)"
   ]
  },
  {
   "cell_type": "code",
   "execution_count": 9,
   "metadata": {},
   "outputs": [
    {
     "name": "stdout",
     "output_type": "stream",
     "text": [
      "<K> = -7.0154 +/- 0.0110\n",
      "<V> = 2.5290 +/- 0.0111\n"
     ]
    }
   ],
   "source": [
    "print(\"<K> = %.4f +/- %.4f\"%(np.mean(K_SF[500:]),binned_K_SF.max()))\n",
    "print(\"<V> = %.4f +/- %.4f\"%(np.mean(V_SF[500:]),binned_V_SF.max()))"
   ]
  },
  {
   "cell_type": "code",
   "execution_count": null,
   "metadata": {},
   "outputs": [],
   "source": []
  },
  {
   "cell_type": "code",
   "execution_count": null,
   "metadata": {},
   "outputs": [],
   "source": []
  },
  {
   "cell_type": "code",
   "execution_count": null,
   "metadata": {},
   "outputs": [],
   "source": []
  },
  {
   "cell_type": "code",
   "execution_count": null,
   "metadata": {},
   "outputs": [],
   "source": []
  },
  {
   "cell_type": "code",
   "execution_count": null,
   "metadata": {},
   "outputs": [],
   "source": []
  },
  {
   "cell_type": "code",
   "execution_count": null,
   "metadata": {},
   "outputs": [],
   "source": []
  },
  {
   "cell_type": "code",
   "execution_count": 98,
   "metadata": {},
   "outputs": [
    {
     "data": {
      "text/plain": [
       "Text(0.5, 0, 'bin level')"
      ]
     },
     "execution_count": 98,
     "metadata": {},
     "output_type": "execute_result"
    },
    {
     "data": {
      "image/png": "[encoded data removed]",
      "text/plain": [
       "<Figure size 432x288 with 1 Axes>"
      ]
     },
     "metadata": {
      "needs_background": "light"
     },
     "output_type": "display_data"
    }
   ],
   "source": [
    "# Plot\n",
    "plt.plot(binned_K_SF,'o')\n",
    "plt.ylabel(r'$\\langle K \\rangle \\; error$')\n",
    "plt.xlabel('bin level')"
   ]
  },
  {
   "cell_type": "code",
   "execution_count": 99,
   "metadata": {},
   "outputs": [
    {
     "data": {
      "text/plain": [
       "Text(0.5, 0, 'bin level')"
      ]
     },
     "execution_count": 99,
     "metadata": {},
     "output_type": "execute_result"
    },
    {
     "data": {
      "image/png": "[encoded data removed]",
      "text/plain": [
       "<Figure size 432x288 with 1 Axes>"
      ]
     },
     "metadata": {
      "needs_background": "light"
     },
     "output_type": "display_data"
    }
   ],
   "source": [
    "# Plot\n",
    "plt.plot(binned_V_SF,'o')\n",
    "plt.ylabel(r'$\\langle V \\rangle \\; error$')\n",
    "plt.xlabel('bin level')"
   ]
  },
  {
   "cell_type": "code",
   "execution_count": null,
   "metadata": {},
   "outputs": [],
   "source": []
  },
  {
   "cell_type": "code",
   "execution_count": null,
   "metadata": {},
   "outputs": [],
   "source": []
  },
  {
   "cell_type": "code",
   "execution_count": null,
   "metadata": {},
   "outputs": [],
   "source": []
  },
  {
   "cell_type": "code",
   "execution_count": null,
   "metadata": {},
   "outputs": [],
   "source": []
  },
  {
   "cell_type": "code",
   "execution_count": null,
   "metadata": {},
   "outputs": [],
   "source": []
  },
  {
   "cell_type": "code",
   "execution_count": 76,
   "metadata": {},
   "outputs": [
    {
     "data": {
      "text/plain": [
       "array([0.23710807])"
      ]
     },
     "execution_count": 76,
     "metadata": {},
     "output_type": "execute_result"
    }
   ],
   "source": [
    "0.5*((max(binned_K_SF)/binned_K_SF[0])**2 - 1)"
   ]
  },
  {
   "cell_type": "code",
   "execution_count": 77,
   "metadata": {},
   "outputs": [
    {
     "data": {
      "text/plain": [
       "({'tau': array([0.04703892]), 'dtau': array([0.])},\n",
       " {'tau': array([-0.04815816]), 'dtau': array([0.])})"
      ]
     },
     "execution_count": 77,
     "metadata": {},
     "output_type": "execute_result"
    }
   ],
   "source": [
    "# Estimate autocorrelation times from binned data\n",
    "bin_ac(binned_K_SF),bin_ac(binned_V_SF)"
   ]
  },
  {
   "cell_type": "code",
   "execution_count": 78,
   "metadata": {},
   "outputs": [
    {
     "data": {
      "text/plain": [
       "({'correlation': array([[ 1.00000000e+00],\n",
       "         [ 2.23631209e-01],\n",
       "         [ 1.82177940e-02],\n",
       "         ...,\n",
       "         [-8.34865278e-03],\n",
       "         [-1.36325392e-04],\n",
       "         [-4.22975348e-03]]),\n",
       "  'error': array([[0.        ],\n",
       "         [0.01861117],\n",
       "         [0.01333038],\n",
       "         ...,\n",
       "         [0.01614654],\n",
       "         [0.0159768 ],\n",
       "         [0.01655622]])},\n",
       " {'correlation': array([[ 1.        ],\n",
       "         [ 0.18343623],\n",
       "         [-0.00246278],\n",
       "         ...,\n",
       "         [ 0.00218828],\n",
       "         [-0.00331877],\n",
       "         [-0.00331877]]),\n",
       "  'error': array([[0.        ],\n",
       "         [0.06953748],\n",
       "         [0.00105954],\n",
       "         ...,\n",
       "         [0.00555008],\n",
       "         [0.0008185 ],\n",
       "         [0.0008185 ]])})"
      ]
     },
     "execution_count": 78,
     "metadata": {},
     "output_type": "execute_result"
    }
   ],
   "source": [
    "# Compute autocorrelation times from MC data\n",
    "autocorr(K_SF),autocorr(V_SF)"
   ]
  },
  {
   "cell_type": "code",
   "execution_count": null,
   "metadata": {},
   "outputs": [],
   "source": []
  }
 ],
 "metadata": {
  "kernelspec": {
   "display_name": "Python 3",
   "language": "python",
   "name": "python3"
  },
  "language_info": {
   "codemirror_mode": {
    "name": "ipython",
    "version": 3
   },
   "file_extension": ".py",
   "mimetype": "text/x-python",
   "name": "python",
   "nbconvert_exporter": "python",
   "pygments_lexer": "ipython3",
   "version": "3.8.5"
  }
 },
 "nbformat": 4,
 "nbformat_minor": 4
}
