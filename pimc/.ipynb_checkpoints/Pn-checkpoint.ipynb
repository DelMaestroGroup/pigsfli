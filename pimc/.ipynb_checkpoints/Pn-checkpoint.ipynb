{
 "cells": [
  {
   "cell_type": "code",
   "execution_count": 1,
   "metadata": {},
   "outputs": [],
   "source": [
    "import numpy as np\n",
    "import matplotlib.pyplot as plt"
   ]
  },
  {
   "cell_type": "code",
   "execution_count": 2,
   "metadata": {},
   "outputs": [],
   "source": [
    "data = np.loadtxt(\"4_4_2_1D_1.000000_1.000000_1.000000_100000000_42_can_Pn_2-mA.dat\")"
   ]
  },
  {
   "cell_type": "code",
   "execution_count": 3,
   "metadata": {},
   "outputs": [
    {
     "data": {
      "text/plain": [
       "array([12208., 12188., 12250., 12132., 12420., 11774., 11818., 11762.,\n",
       "       12174., 11766., 11554., 12332., 11890., 11376., 11838., 11592.,\n",
       "       12464., 12506., 12358., 11982., 12172., 12350., 12214., 12434.,\n",
       "       11754., 11932., 12134., 12386., 11788., 11560., 11582., 11910.,\n",
       "       11978., 11916., 12526., 11824., 11904., 12902., 11866., 11368.,\n",
       "       12354., 12240., 11624., 11774., 12310., 11418., 11812., 12176.,\n",
       "       12144., 12866., 12484., 12334., 11564., 11464., 12562., 12172.,\n",
       "       12422., 12158., 11738., 11576., 12400., 11700., 11544., 11670.,\n",
       "       11748., 11866., 11886., 12694., 12218., 11778., 12286., 11974.,\n",
       "       12292., 12176., 12186., 11846.])"
      ]
     },
     "execution_count": 3,
     "metadata": {},
     "output_type": "execute_result"
    }
   ],
   "source": [
    "np.sum(data,axis=1)"
   ]
  },
  {
   "cell_type": "code",
   "execution_count": 4,
   "metadata": {},
   "outputs": [],
   "source": [
    "# Trick to broadcast the above array\n",
    "# Will allow to divide each data row by norm\n",
    "row_wise_norms = np.sum(data,axis=1)[:,None]"
   ]
  },
  {
   "cell_type": "code",
   "execution_count": 9,
   "metadata": {},
   "outputs": [],
   "source": [
    "Pns = data/row_wise_norms;"
   ]
  },
  {
   "cell_type": "code",
   "execution_count": 6,
   "metadata": {},
   "outputs": [
    {
     "data": {
      "text/plain": [
       "array([1., 1., 1., 1., 1., 1., 1., 1., 1., 1., 1., 1., 1., 1., 1., 1., 1.,\n",
       "       1., 1., 1., 1., 1., 1., 1., 1., 1., 1., 1., 1., 1., 1., 1., 1., 1.,\n",
       "       1., 1., 1., 1., 1., 1., 1., 1., 1., 1., 1., 1., 1., 1., 1., 1., 1.,\n",
       "       1., 1., 1., 1., 1., 1., 1., 1., 1., 1., 1., 1., 1., 1., 1., 1., 1.,\n",
       "       1., 1., 1., 1., 1., 1., 1., 1.])"
      ]
     },
     "execution_count": 6,
     "metadata": {},
     "output_type": "execute_result"
    }
   ],
   "source": [
    "# Check normalization\n",
    "np.sum(Pns,axis=1)"
   ]
  },
  {
   "cell_type": "code",
   "execution_count": 7,
   "metadata": {},
   "outputs": [
    {
     "data": {
      "text/plain": [
       "array([0.03735472, 0.24658362, 0.43261416, 0.2448797 , 0.0385678 ])"
      ]
     },
     "execution_count": 7,
     "metadata": {},
     "output_type": "execute_result"
    }
   ],
   "source": [
    "Pns_mean = np.mean(Pns,axis=0)\n",
    "Pns_mean"
   ]
  },
  {
   "cell_type": "code",
   "execution_count": 48,
   "metadata": {},
   "outputs": [],
   "source": [
    "# Normalize after doing the Jacknife\n",
    "# Don't do row-wise normalization"
   ]
  },
  {
   "cell_type": "code",
   "execution_count": null,
   "metadata": {},
   "outputs": [],
   "source": []
  }
 ],
 "metadata": {
  "kernelspec": {
   "display_name": "Python 3",
   "language": "python",
   "name": "python3"
  },
  "language_info": {
   "codemirror_mode": {
    "name": "ipython",
    "version": 3
   },
   "file_extension": ".py",
   "mimetype": "text/x-python",
   "name": "python",
   "nbconvert_exporter": "python",
   "pygments_lexer": "ipython3",
   "version": "3.7.6"
  }
 },
 "nbformat": 4,
 "nbformat_minor": 4
}
