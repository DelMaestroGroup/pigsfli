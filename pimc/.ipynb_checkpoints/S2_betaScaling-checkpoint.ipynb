{
 "cells": [
  {
   "cell_type": "code",
   "execution_count": 36,
   "metadata": {},
   "outputs": [],
   "source": [
    "import numpy as np\n",
    "import matplotlib.pyplot as plt"
   ]
  },
  {
   "cell_type": "code",
   "execution_count": 37,
   "metadata": {},
   "outputs": [
    {
     "data": {
      "text/plain": [
       "array([[1.000000e-01, 1.074625e+00, 1.245000e-03],\n",
       "       [1.000000e+00, 8.927940e-01, 2.069000e-03],\n",
       "       [2.000000e+00, 8.898620e-01, 2.676000e-03],\n",
       "       [3.000000e+00, 8.871900e-01, 2.673000e-03],\n",
       "       [4.000000e+00, 8.893710e-01, 3.061000e-03],\n",
       "       [5.000000e+00, 8.849950e-01, 2.877000e-03]])"
      ]
     },
     "execution_count": 37,
     "metadata": {},
     "output_type": "execute_result"
    }
   ],
   "source": [
    "data = np.loadtxt(\"betaScaling_2_2_1_10.0000_1000000000_0.dat\")\n",
    "data"
   ]
  },
  {
   "cell_type": "code",
   "execution_count": 38,
   "metadata": {},
   "outputs": [
    {
     "data": {
      "text/plain": [
       "array([0.001245, 0.002069, 0.002676, 0.002673, 0.003061, 0.002877])"
      ]
     },
     "execution_count": 38,
     "metadata": {},
     "output_type": "execute_result"
    }
   ],
   "source": [
    "betas = data[:,0]\n",
    "S2s = data[:,1]\n",
    "errors = data[:,2]\n",
    "errors"
   ]
  },
  {
   "cell_type": "code",
   "execution_count": 39,
   "metadata": {},
   "outputs": [
    {
     "data": {
      "image/png": "[encoded data removed]",
      "text/plain": [
       "<Figure size 432x288 with 1 Axes>"
      ]
     },
     "metadata": {
      "needs_background": "light"
     },
     "output_type": "display_data"
    }
   ],
   "source": [
    "fig,ax1 = plt.subplots()\n",
    "plt.errorbar(betas, S2s, yerr=errors, fmt='.', capsize=3);\n",
    "ax1.plot(betas,S2s,color='lightskyblue')\n",
    "ax1.set_ylabel(r'$S_2$')\n",
    "ax1.set_xlabel(r'$\\beta$')\n",
    "ax1.axhline(0.8872711176466627,color='#cccccc',zorder=-10)\n",
    "ax1.annotate('$L=2,N=2,\\ell_A=1,U=10.0,sweeps=10^9$',(0.40,0.80),xycoords='figure fraction')\n",
    "ax1.tick_params(axis='both',direction='in')\n",
    "plt.savefig(\"betaScaling_2_2_1_10.0000_1000000000_0.pdf\")"
   ]
  },
  {
   "cell_type": "code",
   "execution_count": null,
   "metadata": {},
   "outputs": [],
   "source": []
  },
  {
   "cell_type": "code",
   "execution_count": null,
   "metadata": {},
   "outputs": [],
   "source": []
  }
 ],
 "metadata": {
  "kernelspec": {
   "display_name": "Python 3",
   "language": "python",
   "name": "python3"
  },
  "language_info": {
   "codemirror_mode": {
    "name": "ipython",
    "version": 3
   },
   "file_extension": ".py",
   "mimetype": "text/x-python",
   "name": "python",
   "nbconvert_exporter": "python",
   "pygments_lexer": "ipython3",
   "version": "3.7.6"
  }
 },
 "nbformat": 4,
 "nbformat_minor": 4
}
