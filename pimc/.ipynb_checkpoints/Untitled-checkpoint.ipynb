{
 "cells": [
  {
   "cell_type": "code",
   "execution_count": 197,
   "id": "brilliant-latitude",
   "metadata": {},
   "outputs": [],
   "source": [
    "import numpy as np\n",
    "import matplotlib.pyplot as plt"
   ]
  },
  {
   "cell_type": "code",
   "execution_count": 206,
   "id": "laughing-acrobat",
   "metadata": {},
   "outputs": [],
   "source": [
    "V_data = np.loadtxt(\"1D_4_4_2_3.300000_1.000000_6.000000_400000_1000_V_42_square.dat\")\n",
    "K_data = np.loadtxt(\"1D_4_4_2_3.300000_1.000000_6.000000_400000_1000_K_42_square.dat\")"
   ]
  },
  {
   "cell_type": "code",
   "execution_count": 207,
   "id": "otherwise-tomato",
   "metadata": {},
   "outputs": [
    {
     "data": {
      "text/plain": [
       "(500, 500)"
      ]
     },
     "execution_count": 207,
     "metadata": {},
     "output_type": "execute_result"
    }
   ],
   "source": [
    "V_data.size,K_data.size"
   ]
  },
  {
   "cell_type": "code",
   "execution_count": 208,
   "id": "settled-maximum",
   "metadata": {},
   "outputs": [
    {
     "data": {
      "text/plain": [
       "(500, 500)"
      ]
     },
     "execution_count": 208,
     "metadata": {},
     "output_type": "execute_result"
    }
   ],
   "source": [
    "V = V_data[~np.isnan(V_data)][:]\n",
    "K = K_data[~np.isnan(K_data)][:]\n",
    "\n",
    "V.size,K.size"
   ]
  },
  {
   "cell_type": "code",
   "execution_count": 209,
   "id": "three-cassette",
   "metadata": {},
   "outputs": [
    {
     "data": {
      "text/plain": [
       "(2.5491848642802934, -7.030734484445605)"
      ]
     },
     "execution_count": 209,
     "metadata": {},
     "output_type": "execute_result"
    }
   ],
   "source": [
    "np.mean(V_data),np.mean(K_data)"
   ]
  },
  {
   "cell_type": "code",
   "execution_count": 210,
   "id": "uniform-chemical",
   "metadata": {},
   "outputs": [
    {
     "data": {
      "text/plain": [
       "(2.5491848642802934, -7.030734484445605)"
      ]
     },
     "execution_count": 210,
     "metadata": {},
     "output_type": "execute_result"
    }
   ],
   "source": [
    "np.mean(V),np.mean(K)"
   ]
  },
  {
   "cell_type": "code",
   "execution_count": 211,
   "id": "competent-forum",
   "metadata": {},
   "outputs": [],
   "source": [
    "num_samples = np.arange(1,V.size+1)\n",
    "V_cumsum = np.cumsum(V)\n",
    "V_running_avg = np.divide(V_cumsum,num_samples)\n",
    "\n",
    "num_samples_K = np.arange(1,K.size+1)\n",
    "K_cumsum = np.cumsum(K)\n",
    "K_running_avg = np.divide(K_cumsum,num_samples)"
   ]
  },
  {
   "cell_type": "code",
   "execution_count": 204,
   "id": "everyday-operation",
   "metadata": {},
   "outputs": [
    {
     "data": {
      "text/plain": [
       "2.5489347093084618"
      ]
     },
     "execution_count": 204,
     "metadata": {},
     "output_type": "execute_result"
    },
    {
     "data": {
      "image/png": "[encoded data removed]",
      "text/plain": [
       "<Figure size 432x288 with 1 Axes>"
      ]
     },
     "metadata": {
      "needs_background": "light"
     },
     "output_type": "display_data"
    }
   ],
   "source": [
    "plt.plot(num_samples[:],V_running_avg[:])\n",
    "plt.axhline(2.548976013564859)\n",
    "V_running_avg[-1]"
   ]
  },
  {
   "cell_type": "code",
   "execution_count": 205,
   "id": "uniform-afternoon",
   "metadata": {},
   "outputs": [
    {
     "data": {
      "text/plain": [
       "-7.030945859870957"
      ]
     },
     "execution_count": 205,
     "metadata": {},
     "output_type": "execute_result"
    },
    {
     "data": {
      "image/png": "[encoded data removed]",
      "text/plain": [
       "<Figure size 432x288 with 1 Axes>"
      ]
     },
     "metadata": {
      "needs_background": "light"
     },
     "output_type": "display_data"
    }
   ],
   "source": [
    "plt.plot(num_samples[:],K_running_avg[:])\n",
    "plt.axhline(-7.032152613680843)\n",
    "K_running_avg[-1]"
   ]
  },
  {
   "cell_type": "code",
   "execution_count": null,
   "id": "aging-enhancement",
   "metadata": {},
   "outputs": [],
   "source": []
  },
  {
   "cell_type": "code",
   "execution_count": null,
   "id": "demographic-steps",
   "metadata": {},
   "outputs": [],
   "source": []
  },
  {
   "cell_type": "code",
   "execution_count": null,
   "id": "deadly-reset",
   "metadata": {},
   "outputs": [],
   "source": []
  },
  {
   "cell_type": "code",
   "execution_count": null,
   "id": "leading-hydrogen",
   "metadata": {},
   "outputs": [],
   "source": []
  }
 ],
 "metadata": {
  "kernelspec": {
   "display_name": "Python 3",
   "language": "python",
   "name": "python3"
  },
  "language_info": {
   "codemirror_mode": {
    "name": "ipython",
    "version": 3
   },
   "file_extension": ".py",
   "mimetype": "text/x-python",
   "name": "python",
   "nbconvert_exporter": "python",
   "pygments_lexer": "ipython3",
   "version": "3.7.10"
  }
 },
 "nbformat": 4,
 "nbformat_minor": 5
}
