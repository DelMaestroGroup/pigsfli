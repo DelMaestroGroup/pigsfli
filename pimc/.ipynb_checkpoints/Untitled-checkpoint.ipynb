{
 "cells": [
  {
   "cell_type": "code",
   "execution_count": 12,
   "id": "square-judgment",
   "metadata": {},
   "outputs": [],
   "source": [
    "import numpy as np\n",
    "import matplotlib.pyplot as plt"
   ]
  },
  {
   "cell_type": "code",
   "execution_count": 13,
   "id": "olympic-payment",
   "metadata": {},
   "outputs": [
    {
     "name": "stdout",
     "output_type": "stream",
     "text": [
      "2.5492563252467364\n"
     ]
    },
    {
     "data": {
      "image/png": "[encoded data removed]",
      "text/plain": [
       "<Figure size 432x288 with 1 Axes>"
      ]
     },
     "metadata": {
      "needs_background": "light"
     },
     "output_type": "display_data"
    }
   ],
   "source": [
    "for seed in range(1):\n",
    "#     V_data = np.loadtxt(\"/Users/ecasiano/Desktop/Data/1D_4_4_2_3.300000_1.000000_3.000000_10000_1000/1D_4_4_2_3.300000_1.000000_3.000000_10000_1000_V_\"+str(seed)+\"_square.dat\")\n",
    "    V_data = np.loadtxt(\"1D_4_4_2_3.300000_1.000000_10.000000_1000000_1000000_V_42_square.dat\")\n",
    "    \n",
    "    V_data = V_data[~np.isnan(V_data)][:]\n",
    "    \n",
    "    num_samples = np.arange(1,V_data.size+1)\n",
    "    V_cumsum = np.cumsum(V_data)\n",
    "    V_running_avg = np.divide(V_cumsum,num_samples)\n",
    "    \n",
    "    plt.plot(num_samples,V_running_avg)\n",
    "    plt.axhline(2.548976013564859)\n",
    "#     print(V_running_avg[-1])\n",
    "#     plt.show()\n",
    "\n",
    "print(V_running_avg[-1])\n"
   ]
  },
  {
   "cell_type": "code",
   "execution_count": 14,
   "id": "based-match",
   "metadata": {},
   "outputs": [
    {
     "name": "stdout",
     "output_type": "stream",
     "text": [
      "-7.0316936417821685\n"
     ]
    },
    {
     "data": {
      "image/png": "[encoded data removed]",
      "text/plain": [
       "<Figure size 432x288 with 1 Axes>"
      ]
     },
     "metadata": {
      "needs_background": "light"
     },
     "output_type": "display_data"
    }
   ],
   "source": [
    "for seed in range(1):\n",
    "#     K_data = np.loadtxt(\"/Users/ecasiano/Desktop/Data/1D_4_4_2_3.300000_1.000000_6.000000_10000_1000/1D_4_4_2_3.300000_1.000000_6.000000_10000_1000_K_\"+str(seed)+\"_square.dat\")\n",
    "    K_data = np.loadtxt(\"1D_4_4_2_3.300000_1.000000_10.000000_1000000_1000000_K_42_square.dat\")\n",
    "\n",
    "#     K = K_data[~np.isnan(K_data)][:]\n",
    "\n",
    "    num_samples_K = np.arange(1,K_data.size+1)\n",
    "    K_cumsum = np.cumsum(K_data)\n",
    "    K_running_avg = np.divide(K_cumsum,num_samples_K)\n",
    "    \n",
    "    plt.plot(num_samples_K,K_running_avg)\n",
    "    plt.axhline(-7.032152613680843)\n",
    "    \n",
    "print(K_running_avg[-1])\n",
    "    \n",
    "#     plt.show()"
   ]
  },
  {
   "cell_type": "code",
   "execution_count": 15,
   "id": "different-diving",
   "metadata": {},
   "outputs": [
    {
     "data": {
      "text/plain": [
       "((28706,), (28706,))"
      ]
     },
     "execution_count": 15,
     "metadata": {},
     "output_type": "execute_result"
    }
   ],
   "source": [
    "K_data.shape,V_data.shape"
   ]
  },
  {
   "cell_type": "code",
   "execution_count": null,
   "id": "boring-humidity",
   "metadata": {},
   "outputs": [],
   "source": []
  },
  {
   "cell_type": "code",
   "execution_count": null,
   "id": "abstract-mexican",
   "metadata": {},
   "outputs": [],
   "source": []
  },
  {
   "cell_type": "code",
   "execution_count": null,
   "id": "broadband-microphone",
   "metadata": {},
   "outputs": [],
   "source": []
  }
 ],
 "metadata": {
  "kernelspec": {
   "display_name": "Python 3",
   "language": "python",
   "name": "python3"
  },
  "language_info": {
   "codemirror_mode": {
    "name": "ipython",
    "version": 3
   },
   "file_extension": ".py",
   "mimetype": "text/x-python",
   "name": "python",
   "nbconvert_exporter": "python",
   "pygments_lexer": "ipython3",
   "version": "3.7.10"
  }
 },
 "nbformat": 4,
 "nbformat_minor": 5
}
