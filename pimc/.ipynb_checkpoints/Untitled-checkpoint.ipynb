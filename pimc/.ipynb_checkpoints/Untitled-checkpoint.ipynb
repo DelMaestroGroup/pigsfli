{
 "cells": [
  {
   "cell_type": "code",
   "execution_count": 20,
   "id": "pleasant-parking",
   "metadata": {},
   "outputs": [],
   "source": [
    "import numpy as np"
   ]
  },
  {
   "cell_type": "code",
   "execution_count": 21,
   "id": "dramatic-ordinary",
   "metadata": {},
   "outputs": [],
   "source": [
    "data = np.loadtxt(\"1D_4_4_2_3.300000_1.000000_4.000000_1000_1000_K_42_square.dat\")"
   ]
  },
  {
   "cell_type": "code",
   "execution_count": 22,
   "id": "central-continuity",
   "metadata": {},
   "outputs": [
    {
     "data": {
      "text/plain": [
       "(-6.994023045380369, 0.6507475648892327)"
      ]
     },
     "execution_count": 22,
     "metadata": {},
     "output_type": "execute_result"
    }
   ],
   "source": [
    "np.mean(data),np.std(data)"
   ]
  },
  {
   "cell_type": "code",
   "execution_count": 23,
   "id": "rational-bench",
   "metadata": {},
   "outputs": [],
   "source": [
    "data = np.loadtxt(\"1D_4_4_2_3.300000_1.000000_4.000000_1000_1000_V_42_square.dat\")"
   ]
  },
  {
   "cell_type": "code",
   "execution_count": 24,
   "id": "satisfactory-citizen",
   "metadata": {},
   "outputs": [
    {
     "data": {
      "text/plain": [
       "(2.473564673769675, 0.49690315937143026)"
      ]
     },
     "execution_count": 24,
     "metadata": {},
     "output_type": "execute_result"
    }
   ],
   "source": [
    "np.mean(data),np.std(data)"
   ]
  },
  {
   "cell_type": "code",
   "execution_count": null,
   "id": "innocent-contest",
   "metadata": {},
   "outputs": [],
   "source": []
  }
 ],
 "metadata": {
  "kernelspec": {
   "display_name": "Python 3",
   "language": "python",
   "name": "python3"
  },
  "language_info": {
   "codemirror_mode": {
    "name": "ipython",
    "version": 3
   },
   "file_extension": ".py",
   "mimetype": "text/x-python",
   "name": "python",
   "nbconvert_exporter": "python",
   "pygments_lexer": "ipython3",
   "version": "3.7.10"
  }
 },
 "nbformat": 4,
 "nbformat_minor": 5
}
