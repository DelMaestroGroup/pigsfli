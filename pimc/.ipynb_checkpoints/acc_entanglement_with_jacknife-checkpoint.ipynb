{
 "cells": [
  {
   "cell_type": "code",
   "execution_count": 1,
   "metadata": {},
   "outputs": [],
   "source": [
    "import matplotlib.pyplot as plt\n",
    "import numpy as np"
   ]
  },
  {
   "cell_type": "code",
   "execution_count": 2,
   "metadata": {},
   "outputs": [],
   "source": [
    "np.set_printoptions(precision=8)"
   ]
  },
  {
   "cell_type": "code",
   "execution_count": 3,
   "metadata": {},
   "outputs": [],
   "source": [
    "n=4"
   ]
  },
  {
   "cell_type": "code",
   "execution_count": 4,
   "metadata": {},
   "outputs": [],
   "source": [
    "data_Pn_squared_m1 = np.loadtxt(\"8_8_4_1D_3.300000_2.000000_1.000000_10000000000_42_can_Pn_1-mA.dat\")\n",
    "data_Pn_squared_m2 = np.loadtxt(\"8_8_4_1D_3.300000_2.000000_1.000000_10000000000_42_can_Pn_2-mA.dat\")\n",
    "data_Pn_squared_m3 = np.loadtxt(\"8_8_4_1D_3.300000_2.000000_1.000000_10000000000_42_can_Pn_3-mA.dat\")\n",
    "data_Pn_squared_m4 = np.loadtxt(\"8_8_4_1D_3.300000_2.000000_1.000000_10000000000_42_can_Pn_4-mA.dat\")\n",
    "\n",
    "data = np.loadtxt(\"8_8_4_1D_3.300000_2.000000_1.000000_10000000000_42_can_SWAP_\"+str(n)+\"-n-sector.dat\")"
   ]
  },
  {
   "cell_type": "code",
   "execution_count": 5,
   "metadata": {},
   "outputs": [],
   "source": [
    "Pn_squared_m1_col_sum = np.sum(data_Pn_squared_m1,axis=0)\n",
    "Pn_squared_m2_col_sum = np.sum(data_Pn_squared_m2,axis=0)\n",
    "Pn_squared_m3_col_sum = np.sum(data_Pn_squared_m3,axis=0)\n",
    "Pn_squared_m4_col_sum = np.sum(data_Pn_squared_m4,axis=0)\n",
    "\n",
    "SWAP_col_sum = np.sum(data,axis=0)"
   ]
  },
  {
   "cell_type": "markdown",
   "metadata": {},
   "source": [
    "### Jacknife notes"
   ]
  },
  {
   "cell_type": "code",
   "execution_count": 6,
   "metadata": {},
   "outputs": [
    {
     "name": "stderr",
     "output_type": "stream",
     "text": [
      "/opt/anaconda3/lib/python3.7/site-packages/ipykernel_launcher.py:12: RuntimeWarning: divide by zero encountered in log\n",
      "  if sys.path[0] == '':\n"
     ]
    },
    {
     "data": {
      "text/plain": [
       "array([[       inf, 4.74067018, 2.25921692, 1.41121168],\n",
       "       [       inf, 4.74076224, 2.25921515, 1.41121141],\n",
       "       [       inf, 4.74076552, 2.2591527 , 1.4112187 ],\n",
       "       ...,\n",
       "       [       inf, 4.74073922, 2.25918161, 1.41120406],\n",
       "       [       inf, 4.74074909, 2.25917904, 1.41119859],\n",
       "       [       inf, 4.74073265, 2.25917229, 1.41125465]])"
      ]
     },
     "execution_count": 6,
     "metadata": {},
     "output_type": "execute_result"
    }
   ],
   "source": [
    "S2_i = []\n",
    "for i in range(data.shape[0]):\n",
    "    Pn_squared_m1_col_sum_i = Pn_squared_m1_col_sum - data_Pn_squared_m1[i]\n",
    "    Pn_squared_m2_col_sum_i = Pn_squared_m2_col_sum - data_Pn_squared_m2[i]\n",
    "    Pn_squared_m3_col_sum_i = Pn_squared_m3_col_sum - data_Pn_squared_m3[i]\n",
    "    Pn_squared_m4_col_sum_i = Pn_squared_m4_col_sum - data_Pn_squared_m4[i]\n",
    "    \n",
    "    SWAP_col_sum_i =  SWAP_col_sum - data[i]\n",
    "    \n",
    "    l = 4*[0]\n",
    "    \n",
    "#     l[0] = -np.log(SWAP_col_sum_i[1]/Pn_squared_m1_col_sum_i[n])\n",
    "#     l[1] = -np.log(SWAP_col_sum_i[2]/Pn_squared_m2_col_sum_i[n])\n",
    "#     l[2] = -np.log(SWAP_col_sum_i[3]/Pn_squared_m3_col_sum_i[n])\n",
    "    l[3] = -np.log(SWAP_col_sum_i[4]/Pn_squared_m4_col_sum_i[n])\n",
    "    \n",
    "    S2_i.append(l)\n",
    "\n",
    "S2_i = np.array(S2_i)\n",
    "S2_i"
   ]
  },
  {
   "cell_type": "code",
   "execution_count": 20,
   "metadata": {},
   "outputs": [
    {
     "data": {
      "text/plain": [
       "array([-2.50985072e-05,  1.28212861e-02])"
      ]
     },
     "execution_count": 20,
     "metadata": {},
     "output_type": "execute_result"
    }
   ],
   "source": [
    "S2_mean = np.mean(S2_i,axis=0)\n",
    "S2_mean"
   ]
  },
  {
   "cell_type": "code",
   "execution_count": 21,
   "metadata": {},
   "outputs": [],
   "source": [
    "N_rows = S2_i.shape[0]"
   ]
  },
  {
   "cell_type": "code",
   "execution_count": 22,
   "metadata": {},
   "outputs": [
    {
     "data": {
      "text/plain": [
       "array([0.00021189, 0.00225042])"
      ]
     },
     "execution_count": 22,
     "metadata": {},
     "output_type": "execute_result"
    }
   ],
   "source": [
    "S2_err = np.std(S2_i,axis=0)\n",
    "S2_err *= np.sqrt(N_rows-1)\n",
    "S2_err"
   ]
  },
  {
   "cell_type": "code",
   "execution_count": 11,
   "metadata": {},
   "outputs": [
    {
     "name": "stdout",
     "output_type": "stream",
     "text": [
      "<S2> = 1.111824 +/- 0.052137\n"
     ]
    }
   ],
   "source": [
    "print(f'<S2> = {S_mean:.6f} +/- {S_err:.6f}')"
   ]
  },
  {
   "cell_type": "code",
   "execution_count": null,
   "metadata": {},
   "outputs": [],
   "source": []
  }
 ],
 "metadata": {
  "kernelspec": {
   "display_name": "Python 3",
   "language": "python",
   "name": "python3"
  },
  "language_info": {
   "codemirror_mode": {
    "name": "ipython",
    "version": 3
   },
   "file_extension": ".py",
   "mimetype": "text/x-python",
   "name": "python",
   "nbconvert_exporter": "python",
   "pygments_lexer": "ipython3",
   "version": "3.7.6"
  }
 },
 "nbformat": 4,
 "nbformat_minor": 4
}
