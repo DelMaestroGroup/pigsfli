{
 "cells": [
  {
   "cell_type": "code",
   "execution_count": 1,
   "metadata": {},
   "outputs": [],
   "source": [
    "import matplotlib.pyplot as plt\n",
    "import numpy as np"
   ]
  },
  {
   "cell_type": "code",
   "execution_count": 2,
   "metadata": {},
   "outputs": [],
   "source": [
    "np.set_printoptions(precision = 8)"
   ]
  },
  {
   "cell_type": "markdown",
   "metadata": {},
   "source": [
    "### $\\beta$-scaling (but the original estimator)"
   ]
  },
  {
   "cell_type": "code",
   "execution_count": 3,
   "metadata": {},
   "outputs": [
    {
     "data": {
      "text/plain": [
       "(64,)"
      ]
     },
     "execution_count": 3,
     "metadata": {},
     "output_type": "execute_result"
    }
   ],
   "source": [
    "data = np.loadtxt(\"binary_state_histogram_0.000000_1.000000_.dat\")\n",
    "np.shape(data)"
   ]
  },
  {
   "cell_type": "code",
   "execution_count": 4,
   "metadata": {},
   "outputs": [],
   "source": [
    "all_possible_binary_states=np.loadtxt(\"all_possible_binary_states.dat\",dtype=str)\n",
    "# all_possible_binary_states"
   ]
  },
  {
   "cell_type": "code",
   "execution_count": 5,
   "metadata": {},
   "outputs": [
    {
     "data": {
      "text/plain": [
       "array([ 0,  1,  2,  3,  4,  5,  6,  7,  8,  9, 10, 11, 12, 13, 14, 15, 16,\n",
       "       17, 18, 19, 20, 21, 22, 23, 24, 25, 26, 27, 28, 29, 30, 31, 32, 33,\n",
       "       34, 35, 36, 37, 38, 39, 40, 41, 42, 43, 44, 45, 46, 47, 48, 49, 50,\n",
       "       51, 52, 53, 54, 55, 56, 57, 58, 59, 60, 61, 62, 63])"
      ]
     },
     "execution_count": 5,
     "metadata": {},
     "output_type": "execute_result"
    }
   ],
   "source": [
    "np.arange(64)"
   ]
  },
  {
   "cell_type": "code",
   "execution_count": 6,
   "metadata": {},
   "outputs": [
    {
     "data": {
      "text/plain": [
       "<BarContainer object of 64 artists>"
      ]
     },
     "execution_count": 6,
     "metadata": {},
     "output_type": "execute_result"
    },
    {
     "data": {
      "image/png": "[encoded data removed]",
      "text/plain": [
       "<Figure size 432x288 with 1 Axes>"
      ]
     },
     "metadata": {
      "needs_background": "light"
     },
     "output_type": "display_data"
    }
   ],
   "source": [
    "plt.bar(np.arange(64),data,label=r'$\\rm{swappable}$',color='salmon')"
   ]
  },
  {
   "cell_type": "code",
   "execution_count": 7,
   "metadata": {},
   "outputs": [
    {
     "name": "stdout",
     "output_type": "stream",
     "text": [
      "0 0001000100\n",
      "1 0001000101\n",
      "2 0001000110\n",
      "3 0001000111\n",
      "4 0001001000\n",
      "5 0001001001\n",
      "6 0001001010\n",
      "7 0001001011\n",
      "8 0001010000\n",
      "10 0001010010\n",
      "12 0001100000\n",
      "13 0001100001\n",
      "16 0010000100\n",
      "17 0010000101\n",
      "18 0010000110\n",
      "19 0010000111\n",
      "20 0010001000\n",
      "21 0010001001\n",
      "22 0010001010\n",
      "23 0010001011\n",
      "24 0010010000\n",
      "26 0010010010\n",
      "28 0010100000\n",
      "29 0010100001\n",
      "32 0100000100\n",
      "34 0100000110\n",
      "36 0100001000\n",
      "38 0100001010\n",
      "40 0100010000\n",
      "41 0100010001\n",
      "42 0100010010\n",
      "43 0100010011\n",
      "44 0100100000\n",
      "47 0100100011\n",
      "48 1000000100\n",
      "49 1000000101\n",
      "52 1000001000\n",
      "53 1000001001\n",
      "56 1000010000\n",
      "59 1000010011\n",
      "60 1000100000\n",
      "61 1000100001\n",
      "62 1000100010\n",
      "63 1000100011\n"
     ]
    }
   ],
   "source": [
    "ctr=0\n",
    "for i,counts in enumerate(data):\n",
    "    if counts:\n",
    "        ctr+=1\n",
    "        print(i,all_possible_binary_states[i][-10:])"
   ]
  },
  {
   "cell_type": "code",
   "execution_count": 8,
   "metadata": {},
   "outputs": [
    {
     "data": {
      "text/plain": [
       "44"
      ]
     },
     "execution_count": 8,
     "metadata": {},
     "output_type": "execute_result"
    }
   ],
   "source": [
    "ctr"
   ]
  },
  {
   "cell_type": "code",
   "execution_count": null,
   "metadata": {},
   "outputs": [],
   "source": []
  },
  {
   "cell_type": "code",
   "execution_count": 30,
   "metadata": {},
   "outputs": [
    {
     "data": {
      "text/plain": [
       "array(['00000000000000000000000001000100',\n",
       "       '00000000000000000000000001000101',\n",
       "       '00000000000000000000000001000110',\n",
       "       '00000000000000000000000001000111',\n",
       "       '00000000000000000000000001001000',\n",
       "       '00000000000000000000000001001001',\n",
       "       '00000000000000000000000001001010',\n",
       "       '00000000000000000000000001001011',\n",
       "       '00000000000000000000000001010000',\n",
       "       '00000000000000000000000001010001',\n",
       "       '00000000000000000000000001010010',\n",
       "       '00000000000000000000000001010011',\n",
       "       '00000000000000000000000001100000',\n",
       "       '00000000000000000000000001100001',\n",
       "       '00000000000000000000000001100010',\n",
       "       '00000000000000000000000001100011',\n",
       "       '00000000000000000000000010000100',\n",
       "       '00000000000000000000000010000101',\n",
       "       '00000000000000000000000010000110',\n",
       "       '00000000000000000000000010000111',\n",
       "       '00000000000000000000000010001000',\n",
       "       '00000000000000000000000010001001',\n",
       "       '00000000000000000000000010001010',\n",
       "       '00000000000000000000000010001011',\n",
       "       '00000000000000000000000010010000',\n",
       "       '00000000000000000000000010010001',\n",
       "       '00000000000000000000000010010010',\n",
       "       '00000000000000000000000010010011',\n",
       "       '00000000000000000000000010100000',\n",
       "       '00000000000000000000000010100001',\n",
       "       '00000000000000000000000010100010',\n",
       "       '00000000000000000000000010100011',\n",
       "       '00000000000000000000000100000100',\n",
       "       '00000000000000000000000100000101',\n",
       "       '00000000000000000000000100000110',\n",
       "       '00000000000000000000000100000111',\n",
       "       '00000000000000000000000100001000',\n",
       "       '00000000000000000000000100001001',\n",
       "       '00000000000000000000000100001010',\n",
       "       '00000000000000000000000100001011',\n",
       "       '00000000000000000000000100010000',\n",
       "       '00000000000000000000000100010001',\n",
       "       '00000000000000000000000100010010',\n",
       "       '00000000000000000000000100010011',\n",
       "       '00000000000000000000000100100000',\n",
       "       '00000000000000000000000100100001',\n",
       "       '00000000000000000000000100100010',\n",
       "       '00000000000000000000000100100011',\n",
       "       '00000000000000000000001000000100',\n",
       "       '00000000000000000000001000000101',\n",
       "       '00000000000000000000001000000110',\n",
       "       '00000000000000000000001000000111',\n",
       "       '00000000000000000000001000001000',\n",
       "       '00000000000000000000001000001001',\n",
       "       '00000000000000000000001000001010',\n",
       "       '00000000000000000000001000001011',\n",
       "       '00000000000000000000001000010000',\n",
       "       '00000000000000000000001000010001',\n",
       "       '00000000000000000000001000010010',\n",
       "       '00000000000000000000001000010011',\n",
       "       '00000000000000000000001000100000',\n",
       "       '00000000000000000000001000100001',\n",
       "       '00000000000000000000001000100010',\n",
       "       '00000000000000000000001000100011'], dtype='<U32')"
      ]
     },
     "execution_count": 30,
     "metadata": {},
     "output_type": "execute_result"
    }
   ],
   "source": [
    "all_possible_binary_states"
   ]
  },
  {
   "cell_type": "code",
   "execution_count": 15,
   "metadata": {},
   "outputs": [
    {
     "data": {
      "text/plain": [
       "'0001 0100'"
      ]
     },
     "execution_count": 15,
     "metadata": {},
     "output_type": "execute_result"
    }
   ],
   "source": [
    "all_possible_binary_states[idx][-10:][:4]+' '+\n",
    "all_possible_binary_states[idx][-10:][4:8]+' '+\n",
    "all_possible_binary_states[idx][-10:][8:10]"
   ]
  },
  {
   "cell_type": "code",
   "execution_count": null,
   "metadata": {},
   "outputs": [],
   "source": []
  }
 ],
 "metadata": {
  "kernelspec": {
   "display_name": "Python 3",
   "language": "python",
   "name": "python3"
  },
  "language_info": {
   "codemirror_mode": {
    "name": "ipython",
    "version": 3
   },
   "file_extension": ".py",
   "mimetype": "text/x-python",
   "name": "python",
   "nbconvert_exporter": "python",
   "pygments_lexer": "ipython3",
   "version": "3.7.6"
  }
 },
 "nbformat": 4,
 "nbformat_minor": 4
}
