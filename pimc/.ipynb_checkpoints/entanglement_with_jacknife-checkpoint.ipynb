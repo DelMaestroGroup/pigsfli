{
 "cells": [
  {
   "cell_type": "code",
   "execution_count": 1,
   "metadata": {},
   "outputs": [],
   "source": [
    "import matplotlib.pyplot as plt\n",
    "import numpy as np"
   ]
  },
  {
   "cell_type": "code",
   "execution_count": 2,
   "metadata": {},
   "outputs": [],
   "source": [
    "np.set_printoptions(precision=8)"
   ]
  },
  {
   "cell_type": "markdown",
   "metadata": {},
   "source": [
    "### $\\beta$-scaling (but the original estimator)"
   ]
  },
  {
   "cell_type": "code",
   "execution_count": 3,
   "metadata": {},
   "outputs": [
    {
     "data": {
      "text/plain": [
       "array([[ 79.,  43.,  79.],\n",
       "       [ 91.,  66.,  44.],\n",
       "       [113.,  42.,  46.],\n",
       "       [ 95.,  63.,  43.]])"
      ]
     },
     "execution_count": 3,
     "metadata": {},
     "output_type": "execute_result"
    }
   ],
   "source": [
    "data = np.loadtxt(\"4_1_2_1.000000_2.000000_1.000000_1000000_0_1D_can_SWAP.dat\")\n",
    "np.shape(data)\n",
    "data[:4]"
   ]
  },
  {
   "cell_type": "code",
   "execution_count": 4,
   "metadata": {},
   "outputs": [
    {
     "data": {
      "text/plain": [
       "array([2394., 1446., 1185.])"
      ]
     },
     "execution_count": 4,
     "metadata": {},
     "output_type": "execute_result"
    }
   ],
   "source": [
    "P = np.sum(data,axis=0)\n",
    "P"
   ]
  },
  {
   "cell_type": "code",
   "execution_count": 5,
   "metadata": {},
   "outputs": [
    {
     "data": {
      "text/plain": [
       "array([[0., 0., 0.],\n",
       "       [0., 0., 0.],\n",
       "       [0., 0., 0.],\n",
       "       [0., 0., 0.],\n",
       "       [0., 0., 0.],\n",
       "       [0., 0., 0.],\n",
       "       [0., 0., 0.],\n",
       "       [0., 0., 0.],\n",
       "       [0., 0., 0.],\n",
       "       [0., 0., 0.],\n",
       "       [0., 0., 0.],\n",
       "       [0., 0., 0.],\n",
       "       [0., 0., 0.],\n",
       "       [0., 0., 0.],\n",
       "       [0., 0., 0.],\n",
       "       [0., 0., 0.],\n",
       "       [0., 0., 0.],\n",
       "       [0., 0., 0.],\n",
       "       [0., 0., 0.],\n",
       "       [0., 0., 0.],\n",
       "       [0., 0., 0.],\n",
       "       [0., 0., 0.],\n",
       "       [0., 0., 0.],\n",
       "       [0., 0., 0.],\n",
       "       [0., 0., 0.]])"
      ]
     },
     "execution_count": 5,
     "metadata": {},
     "output_type": "execute_result"
    }
   ],
   "source": [
    "pj = np.zeros(data.shape)\n",
    "pj"
   ]
  },
  {
   "cell_type": "code",
   "execution_count": 6,
   "metadata": {},
   "outputs": [
    {
     "data": {
      "text/plain": [
       "array([[2394., 1446., 1185.],\n",
       "       [2394., 1446., 1185.],\n",
       "       [2394., 1446., 1185.],\n",
       "       [2394., 1446., 1185.],\n",
       "       [2394., 1446., 1185.],\n",
       "       [2394., 1446., 1185.],\n",
       "       [2394., 1446., 1185.],\n",
       "       [2394., 1446., 1185.],\n",
       "       [2394., 1446., 1185.],\n",
       "       [2394., 1446., 1185.],\n",
       "       [2394., 1446., 1185.],\n",
       "       [2394., 1446., 1185.],\n",
       "       [2394., 1446., 1185.],\n",
       "       [2394., 1446., 1185.],\n",
       "       [2394., 1446., 1185.],\n",
       "       [2394., 1446., 1185.],\n",
       "       [2394., 1446., 1185.],\n",
       "       [2394., 1446., 1185.],\n",
       "       [2394., 1446., 1185.],\n",
       "       [2394., 1446., 1185.],\n",
       "       [2394., 1446., 1185.],\n",
       "       [2394., 1446., 1185.],\n",
       "       [2394., 1446., 1185.],\n",
       "       [2394., 1446., 1185.],\n",
       "       [2394., 1446., 1185.]])"
      ]
     },
     "execution_count": 6,
     "metadata": {},
     "output_type": "execute_result"
    }
   ],
   "source": [
    "for i in range(data.shape[1]):\n",
    "    pj[:,i]=P[i]\n",
    "pj"
   ]
  },
  {
   "cell_type": "code",
   "execution_count": 7,
   "metadata": {},
   "outputs": [],
   "source": [
    "N_rows = data.shape[0]\n",
    "pj_bar = (pj-data)/(N_rows-1)"
   ]
  },
  {
   "cell_type": "code",
   "execution_count": 10,
   "metadata": {},
   "outputs": [
    {
     "data": {
      "text/plain": [
       "array([0.50079689, 0.51212912, 0.48528864, 0.50821919, 0.50362098,\n",
       "       0.48095974, 0.49665535, 0.49534387, 0.51169293, 0.49331306,\n",
       "       0.51979689, 0.48309421, 0.49662454, 0.4968414 , 0.49734423,\n",
       "       0.51619301, 0.49858204, 0.5278232 , 0.5093774 , 0.50966889,\n",
       "       0.50880484, 0.50118734, 0.51343092, 0.51574818, 0.52200379])"
      ]
     },
     "execution_count": 10,
     "metadata": {},
     "output_type": "execute_result"
    }
   ],
   "source": [
    "l_A=1\n",
    "S = -np.log(pj_bar[:,l_A]/pj_bar[:,0])\n",
    "S"
   ]
  },
  {
   "cell_type": "code",
   "execution_count": 11,
   "metadata": {},
   "outputs": [
    {
     "data": {
      "text/plain": [
       "0.5041816253736944"
      ]
     },
     "execution_count": 11,
     "metadata": {},
     "output_type": "execute_result"
    }
   ],
   "source": [
    "S_mean = np.mean(S)\n",
    "S_mean"
   ]
  },
  {
   "cell_type": "code",
   "execution_count": 42,
   "metadata": {},
   "outputs": [
    {
     "data": {
      "text/plain": [
       "0.02241717963776399"
      ]
     },
     "execution_count": 42,
     "metadata": {},
     "output_type": "execute_result"
    }
   ],
   "source": [
    "S_err = np.sqrt(N_rows-1)*np.std(S)\n",
    "S_err"
   ]
  },
  {
   "cell_type": "code",
   "execution_count": null,
   "metadata": {},
   "outputs": [],
   "source": []
  }
 ],
 "metadata": {
  "kernelspec": {
   "display_name": "Python 3",
   "language": "python",
   "name": "python3"
  },
  "language_info": {
   "codemirror_mode": {
    "name": "ipython",
    "version": 3
   },
   "file_extension": ".py",
   "mimetype": "text/x-python",
   "name": "python",
   "nbconvert_exporter": "python",
   "pygments_lexer": "ipython3",
   "version": "3.7.6"
  }
 },
 "nbformat": 4,
 "nbformat_minor": 4
}
