{
 "cells": [
  {
   "cell_type": "code",
   "execution_count": 374,
   "id": "global-interpretation",
   "metadata": {},
   "outputs": [],
   "source": [
    "import matplotlib.pyplot as plt\n",
    "import numpy as np"
   ]
  },
  {
   "cell_type": "code",
   "execution_count": 379,
   "id": "worth-cycling",
   "metadata": {},
   "outputs": [
    {
     "data": {
      "image/png": "[encoded data removed]",
      "text/plain": [
       "<Figure size 432x288 with 1 Axes>"
      ]
     },
     "metadata": {
      "needs_background": "light"
     },
     "output_type": "display_data"
    },
    {
     "name": "stdout",
     "output_type": "stream",
     "text": [
      "0.8567228014923314\n"
     ]
    }
   ],
   "source": [
    "# for seed in [29,39,69]:\n",
    "for seed in [3]:\n",
    "\n",
    "    l = 2\n",
    "\n",
    "#     S2_data = np.loadtxt(\"/Users/ecasiano/Desktop/Data/1D_4_4_2_3.300000_1.000000_3.000000_10000_1000/1D_4_4_2_3.300000_1.000000_3.000000_10000_1000_SWAP_\"+str(seed)+\"_square.dat\")\n",
    "#     S2_data = np.loadtxt(\"../1D_4_4_2_3.300000_1.000000_3.000000_10000_1000_SWAP_\"+str(seed)+\"_square.dat\")[:]\n",
    "    S2_data = np.loadtxt(\"../1D_4_4_2_3.300000_1.000000_3.000000_10000_1000_SWAP_3_square.dat\")[:]\n",
    "\n",
    "#     S2_data = S2_data[S2_data[:,0]!=0]\n",
    "    S2_cumsum = np.nan_to_num(np.cumsum(-np.log(S2_data[:,l]/S2_data[:,0])))\n",
    "\n",
    "    num_bins = S2_cumsum.shape[0]\n",
    "\n",
    "    S2_running_avg = np.zeros(num_bins)\n",
    "    for i in range(1,num_bins+1):\n",
    "        S2_running_avg[i-1] = S2_cumsum[i-1] / i\n",
    "\n",
    "    plt.plot(range(num_bins),S2_running_avg)\n",
    "    plt.axhline(0.861757259131563)\n",
    "#     plt.axhline(1.0487557642692404)\n",
    "#     plt.axhline(1.226694406837E+00)\n",
    "\n",
    "    plt.show()\n",
    "    print(S2_running_avg[-1])"
   ]
  },
  {
   "cell_type": "code",
   "execution_count": 376,
   "id": "small-requirement",
   "metadata": {},
   "outputs": [
    {
     "data": {
      "text/plain": [
       "(4000, 3)"
      ]
     },
     "execution_count": 376,
     "metadata": {},
     "output_type": "execute_result"
    }
   ],
   "source": [
    "S2_data.shape"
   ]
  },
  {
   "cell_type": "code",
   "execution_count": null,
   "id": "improving-confusion",
   "metadata": {},
   "outputs": [],
   "source": []
  },
  {
   "cell_type": "code",
   "execution_count": 308,
   "id": "induced-wagon",
   "metadata": {},
   "outputs": [],
   "source": [
    "S2acc_data = np.loadtxt(\"../1D_4_4_2_3.300000_1.000000_3.000000_10000_1000_SWAPn-mA2_2_square.dat\")\n",
    "data_asdf = np.loadtxt(\"../1D_4_4_2_3.300000_1.000000_3.000000_10000_1000_PnSquared-mA2_2_square.dat\")"
   ]
  },
  {
   "cell_type": "code",
   "execution_count": 311,
   "id": "composite-tenant",
   "metadata": {},
   "outputs": [
    {
     "data": {
      "text/plain": [
       "array([[   0.,  528., 8394., 1078.,    0.],\n",
       "       [   0., 1065., 7791., 1144.,    0.],\n",
       "       [   0., 1402., 7645.,  953.,    0.],\n",
       "       ...,\n",
       "       [   0.,  213., 8547.,  995.,  245.],\n",
       "       [   0.,  549., 8458.,  993.,    0.],\n",
       "       [   0.,  701., 8448.,  851.,    0.]])"
      ]
     },
     "execution_count": 311,
     "metadata": {},
     "output_type": "execute_result"
    }
   ],
   "source": [
    "S2acc_data"
   ]
  },
  {
   "cell_type": "code",
   "execution_count": 312,
   "id": "rotary-celtic",
   "metadata": {},
   "outputs": [
    {
     "data": {
      "text/plain": [
       "array([10000., 10000., 10000., 10000., 10000., 10000., 10000., 10000.,\n",
       "       10000., 10000., 10000., 10000., 10000., 10000., 10000., 10000.,\n",
       "       10000., 10000., 10000., 10000., 10000., 10000., 10000., 10000.,\n",
       "       10000., 10000., 10000., 10000., 10000., 10000., 10000., 10000.,\n",
       "       10000., 10000., 10000., 10000., 10000., 10000., 10000., 10000.,\n",
       "       10000., 10000., 10000., 10000., 10000., 10000., 10000., 10000.,\n",
       "       10000., 10000., 10000., 10000., 10000., 10000., 10000., 10000.,\n",
       "       10000., 10000., 10000., 10000., 10000., 10000., 10000., 10000.,\n",
       "       10000., 10000., 10000., 10000., 10000., 10000., 10000., 10000.,\n",
       "       10000., 10000., 10000., 10000., 10000., 10000., 10000., 10000.,\n",
       "       10000., 10000., 10000., 10000., 10000., 10000., 10000., 10000.,\n",
       "       10000., 10000., 10000., 10000., 10000., 10000., 10000., 10000.,\n",
       "       10000., 10000., 10000., 10000., 10000., 10000., 10000., 10000.,\n",
       "       10000., 10000., 10000., 10000., 10000., 10000., 10000., 10000.,\n",
       "       10000., 10000., 10000., 10000., 10000., 10000., 10000., 10000.,\n",
       "       10000., 10000., 10000., 10000., 10000., 10000., 10000., 10000.,\n",
       "       10000., 10000., 10000., 10000., 10000., 10000., 10000., 10000.,\n",
       "       10000., 10000., 10000., 10000., 10000., 10000., 10000., 10000.,\n",
       "       10000., 10000., 10000., 10000., 10000., 10000., 10000., 10000.,\n",
       "       10000., 10000., 10000., 10000., 10000., 10000., 10000., 10000.,\n",
       "       10000., 10000., 10000., 10000., 10000., 10000., 10000., 10000.,\n",
       "       10000., 10000., 10000., 10000., 10000., 10000., 10000., 10000.,\n",
       "       10000., 10000., 10000., 10000., 10000., 10000., 10000., 10000.,\n",
       "       10000., 10000., 10000., 10000., 10000., 10000., 10000., 10000.,\n",
       "       10000., 10000., 10000., 10000., 10000., 10000., 10000., 10000.,\n",
       "       10000., 10000., 10000., 10000., 10000., 10000., 10000., 10000.,\n",
       "       10000., 10000., 10000., 10000., 10000., 10000., 10000., 10000.,\n",
       "       10000., 10000., 10000., 10000., 10000., 10000., 10000., 10000.,\n",
       "       10000., 10000., 10000., 10000., 10000., 10000., 10000., 10000.,\n",
       "       10000., 10000., 10000., 10000., 10000., 10000., 10000., 10000.,\n",
       "       10000., 10000., 10000., 10000., 10000., 10000., 10000., 10000.,\n",
       "       10000., 10000., 10000., 10000., 10000., 10000., 10000., 10000.,\n",
       "       10000., 10000., 10000., 10000., 10000., 10000., 10000., 10000.,\n",
       "       10000., 10000., 10000., 10000., 10000., 10000., 10000., 10000.,\n",
       "       10000., 10000., 10000., 10000., 10000., 10000., 10000., 10000.,\n",
       "       10000., 10000., 10000., 10000., 10000., 10000., 10000., 10000.,\n",
       "       10000., 10000., 10000., 10000., 10000., 10000., 10000., 10000.,\n",
       "       10000., 10000., 10000., 10000., 10000., 10000., 10000., 10000.,\n",
       "       10000., 10000., 10000., 10000., 10000., 10000., 10000., 10000.,\n",
       "       10000., 10000., 10000., 10000., 10000., 10000., 10000., 10000.,\n",
       "       10000., 10000., 10000., 10000., 10000., 10000., 10000., 10000.,\n",
       "       10000., 10000., 10000., 10000., 10000., 10000., 10000., 10000.,\n",
       "       10000., 10000., 10000., 10000., 10000., 10000., 10000., 10000.,\n",
       "       10000., 10000., 10000., 10000., 10000., 10000., 10000., 10000.,\n",
       "       10000., 10000., 10000., 10000., 10000., 10000., 10000., 10000.,\n",
       "       10000., 10000., 10000., 10000., 10000., 10000., 10000., 10000.,\n",
       "       10000., 10000., 10000., 10000., 10000., 10000., 10000., 10000.,\n",
       "       10000., 10000., 10000., 10000., 10000., 10000., 10000., 10000.,\n",
       "       10000., 10000., 10000., 10000., 10000., 10000., 10000., 10000.,\n",
       "       10000., 10000., 10000., 10000., 10000., 10000., 10000., 10000.,\n",
       "       10000., 10000., 10000., 10000., 10000., 10000., 10000., 10000.,\n",
       "       10000., 10000., 10000., 10000., 10000., 10000., 10000., 10000.,\n",
       "       10000., 10000., 10000., 10000., 10000., 10000., 10000., 10000.,\n",
       "       10000., 10000., 10000., 10000., 10000., 10000., 10000., 10000.,\n",
       "       10000., 10000., 10000., 10000., 10000., 10000., 10000., 10000.,\n",
       "       10000., 10000., 10000., 10000., 10000., 10000., 10000., 10000.,\n",
       "       10000., 10000., 10000., 10000., 10000., 10000., 10000., 10000.,\n",
       "       10000., 10000., 10000., 10000., 10000., 10000., 10000., 10000.,\n",
       "       10000., 10000., 10000., 10000., 10000., 10000., 10000., 10000.,\n",
       "       10000., 10000., 10000., 10000., 10000., 10000., 10000., 10000.,\n",
       "       10000., 10000., 10000., 10000., 10000., 10000., 10000., 10000.,\n",
       "       10000., 10000., 10000., 10000., 10000., 10000., 10000., 10000.,\n",
       "       10000., 10000., 10000., 10000., 10000., 10000., 10000., 10000.,\n",
       "       10000., 10000., 10000., 10000., 10000., 10000., 10000., 10000.,\n",
       "       10000., 10000., 10000., 10000., 10000., 10000., 10000., 10000.,\n",
       "       10000., 10000., 10000., 10000., 10000., 10000., 10000., 10000.,\n",
       "       10000., 10000., 10000., 10000., 10000., 10000., 10000., 10000.,\n",
       "       10000., 10000., 10000., 10000., 10000., 10000., 10000., 10000.,\n",
       "       10000., 10000., 10000., 10000., 10000., 10000., 10000., 10000.,\n",
       "       10000., 10000., 10000., 10000., 10000., 10000., 10000., 10000.,\n",
       "       10000., 10000., 10000., 10000., 10000., 10000., 10000., 10000.,\n",
       "       10000., 10000., 10000., 10000., 10000., 10000., 10000., 10000.,\n",
       "       10000., 10000., 10000., 10000., 10000., 10000., 10000., 10000.,\n",
       "       10000., 10000., 10000., 10000., 10000., 10000., 10000., 10000.,\n",
       "       10000., 10000., 10000., 10000., 10000., 10000., 10000., 10000.,\n",
       "       10000., 10000., 10000., 10000., 10000., 10000., 10000., 10000.,\n",
       "       10000., 10000., 10000., 10000., 10000., 10000., 10000., 10000.,\n",
       "       10000., 10000., 10000., 10000., 10000., 10000., 10000., 10000.,\n",
       "       10000., 10000., 10000., 10000., 10000., 10000., 10000., 10000.,\n",
       "       10000., 10000., 10000., 10000., 10000., 10000., 10000., 10000.,\n",
       "       10000., 10000., 10000., 10000., 10000., 10000., 10000., 10000.,\n",
       "       10000., 10000., 10000., 10000., 10000., 10000., 10000., 10000.,\n",
       "       10000., 10000., 10000., 10000., 10000., 10000., 10000., 10000.,\n",
       "       10000., 10000., 10000., 10000., 10000., 10000., 10000., 10000.,\n",
       "       10000., 10000., 10000., 10000., 10000., 10000., 10000., 10000.,\n",
       "       10000., 10000., 10000., 10000., 10000., 10000., 10000., 10000.,\n",
       "       10000., 10000., 10000., 10000., 10000., 10000., 10000., 10000.,\n",
       "       10000., 10000., 10000., 10000., 10000., 10000., 10000., 10000.,\n",
       "       10000., 10000., 10000., 10000., 10000., 10000., 10000., 10000.,\n",
       "       10000., 10000., 10000., 10000., 10000., 10000., 10000., 10000.,\n",
       "       10000., 10000., 10000., 10000., 10000., 10000., 10000., 10000.,\n",
       "       10000., 10000., 10000., 10000., 10000., 10000., 10000., 10000.,\n",
       "       10000., 10000., 10000., 10000., 10000., 10000., 10000., 10000.,\n",
       "       10000., 10000., 10000., 10000., 10000., 10000., 10000., 10000.,\n",
       "       10000., 10000., 10000., 10000., 10000., 10000., 10000., 10000.,\n",
       "       10000., 10000., 10000., 10000., 10000., 10000., 10000., 10000.,\n",
       "       10000., 10000., 10000., 10000., 10000., 10000., 10000., 10000.,\n",
       "       10000., 10000., 10000., 10000., 10000., 10000., 10000., 10000.,\n",
       "       10000., 10000., 10000., 10000., 10000., 10000., 10000., 10000.,\n",
       "       10000., 10000., 10000., 10000., 10000., 10000., 10000., 10000.,\n",
       "       10000., 10000., 10000., 10000., 10000., 10000., 10000., 10000.,\n",
       "       10000., 10000., 10000., 10000., 10000., 10000., 10000., 10000.,\n",
       "       10000., 10000., 10000., 10000., 10000., 10000., 10000., 10000.,\n",
       "       10000., 10000., 10000., 10000., 10000., 10000., 10000., 10000.,\n",
       "       10000., 10000., 10000., 10000., 10000., 10000., 10000., 10000.,\n",
       "       10000., 10000., 10000., 10000., 10000., 10000., 10000., 10000.,\n",
       "       10000., 10000., 10000., 10000., 10000., 10000., 10000., 10000.,\n",
       "       10000., 10000., 10000., 10000., 10000., 10000., 10000., 10000.,\n",
       "       10000., 10000., 10000., 10000., 10000., 10000., 10000., 10000.,\n",
       "       10000., 10000., 10000., 10000., 10000., 10000., 10000., 10000.,\n",
       "       10000., 10000., 10000., 10000., 10000., 10000., 10000., 10000.,\n",
       "       10000., 10000., 10000., 10000., 10000., 10000., 10000., 10000.,\n",
       "       10000., 10000., 10000., 10000., 10000., 10000., 10000., 10000.,\n",
       "       10000., 10000., 10000., 10000., 10000., 10000., 10000., 10000.,\n",
       "       10000., 10000., 10000., 10000., 10000., 10000., 10000., 10000.,\n",
       "       10000., 10000., 10000., 10000., 10000., 10000., 10000., 10000.,\n",
       "       10000., 10000., 10000., 10000., 10000., 10000., 10000., 10000.,\n",
       "       10000., 10000., 10000., 10000., 10000., 10000., 10000., 10000.,\n",
       "       10000., 10000., 10000., 10000., 10000., 10000., 10000., 10000.,\n",
       "       10000., 10000., 10000., 10000., 10000., 10000., 10000., 10000.,\n",
       "       10000., 10000., 10000., 10000., 10000., 10000., 10000., 10000.,\n",
       "       10000., 10000., 10000., 10000., 10000., 10000., 10000., 10000.,\n",
       "       10000., 10000., 10000., 10000., 10000., 10000., 10000., 10000.,\n",
       "       10000., 10000., 10000., 10000., 10000., 10000., 10000., 10000.,\n",
       "       10000., 10000., 10000., 10000., 10000., 10000., 10000., 10000.])"
      ]
     },
     "execution_count": 312,
     "metadata": {},
     "output_type": "execute_result"
    }
   ],
   "source": [
    "np.sum(S2acc_data,axis=1)"
   ]
  },
  {
   "cell_type": "code",
   "execution_count": 25,
   "id": "editorial-popularity",
   "metadata": {},
   "outputs": [
    {
     "data": {
      "text/plain": [
       "array([11674., 11161., 10147., 11822., 11592.,  9648., 10879., 10261.,\n",
       "       11126., 10244.,  9770., 10538., 10651., 12484., 11113., 10483.,\n",
       "       11321., 10326., 11382., 10941., 10323., 10569., 11598., 12130.,\n",
       "       10810., 12112., 12537., 13460., 10594.,  9992., 10878., 12119.,\n",
       "       11021., 11008., 12312., 11579., 11342., 11965., 12322., 12285.,\n",
       "       11617., 10653., 12421., 10913., 10600., 12307., 10021., 10575.,\n",
       "       11427., 11808., 11447.,  9752., 11884., 10914., 12215., 10574.,\n",
       "       10497., 11207., 11019., 11249., 10398., 10052., 11434., 11995.,\n",
       "       10541., 11516., 11008., 11315., 11027., 11411., 10427., 11688.,\n",
       "       11049., 11325., 11471., 11622., 11175., 11109., 10766., 12453.,\n",
       "       10977., 11799., 10336., 11364., 12199.,  9618., 11417.,  9660.,\n",
       "       11154., 11757., 10861., 12049., 10863., 11246., 11021., 10824.,\n",
       "       10166., 10509., 11914., 11500., 10376., 10764., 11047., 10061.,\n",
       "       11429., 11099., 12002., 11745., 11087., 11112., 11513., 10939.,\n",
       "        9918., 11542., 12275., 11983., 11907., 10786., 11246., 11733.,\n",
       "       11488., 10592., 11596., 12055., 11687., 10188., 12080., 11302.,\n",
       "        9574., 12190., 11437.,  9570., 11215., 10507., 11909., 11262.,\n",
       "       13208., 10463., 10624., 11739., 11640., 11618., 11547., 11948.,\n",
       "       10555., 12666., 10995., 10893., 12455., 12376., 10824., 10398.,\n",
       "       10815., 11580., 11281., 10043., 10235., 11297., 10236., 10168.,\n",
       "       10939., 10716., 11826., 12053., 11597., 11180., 10972.,  9787.,\n",
       "       11025., 11743., 10799., 11932., 11589., 10139., 11129., 12425.,\n",
       "       11195., 12667., 11894., 10642., 10917., 10439., 11049., 10899.,\n",
       "       10478., 10316., 10554., 10765., 11882.,  9897., 11147., 11004.,\n",
       "       11093., 11978., 12056., 10388., 11805., 10233., 12554., 10953.,\n",
       "       10151., 11551., 12977., 10980., 10512., 10572., 11135.,  9831.,\n",
       "       12107., 12076., 10965., 12144., 10384., 11874., 10679., 10775.,\n",
       "       11523., 12402., 11967., 10761., 10349., 11990., 12141., 11171.,\n",
       "       10943., 10386., 10156., 10374., 12623., 12140., 11063., 10393.,\n",
       "       10314.,  9088.,  9937., 11311., 10960., 10796., 11137., 11185.,\n",
       "       12109., 11853., 11845., 10627., 11554., 10276.,  9971., 12257.,\n",
       "       10267., 12079., 11678., 10317., 12293., 11606., 11940., 10996.,\n",
       "       12158., 10759., 10702., 11457., 10404., 11441., 11205., 11901.,\n",
       "       10835., 10690., 10055., 12119.,  9613., 10721., 10873., 11248.,\n",
       "       11196., 10001.])"
      ]
     },
     "execution_count": 25,
     "metadata": {},
     "output_type": "execute_result"
    }
   ],
   "source": [
    "np.sum(data_asdf,axis=1)"
   ]
  },
  {
   "cell_type": "code",
   "execution_count": null,
   "id": "going-constitutional",
   "metadata": {},
   "outputs": [],
   "source": []
  }
 ],
 "metadata": {
  "kernelspec": {
   "display_name": "Python 3",
   "language": "python",
   "name": "python3"
  },
  "language_info": {
   "codemirror_mode": {
    "name": "ipython",
    "version": 3
   },
   "file_extension": ".py",
   "mimetype": "text/x-python",
   "name": "python",
   "nbconvert_exporter": "python",
   "pygments_lexer": "ipython3",
   "version": "3.7.10"
  }
 },
 "nbformat": 4,
 "nbformat_minor": 5
}
