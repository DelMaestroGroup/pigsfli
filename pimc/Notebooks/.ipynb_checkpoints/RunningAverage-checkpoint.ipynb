{
 "cells": [
  {
   "cell_type": "code",
   "execution_count": 18,
   "id": "numerous-champion",
   "metadata": {},
   "outputs": [],
   "source": [
    "import matplotlib.pyplot as plt\n",
    "import numpy as np"
   ]
  },
  {
   "cell_type": "code",
   "execution_count": 29,
   "id": "wrapped-moses",
   "metadata": {},
   "outputs": [
    {
     "data": {
      "image/png": "[encoded data removed]",
      "text/plain": [
       "<Figure size 432x288 with 1 Axes>"
      ]
     },
     "metadata": {
      "needs_background": "light"
     },
     "output_type": "display_data"
    }
   ],
   "source": [
    "\n",
    "for seed in [42]:\n",
    "\n",
    "    l = 2\n",
    "\n",
    "#     S2_data = np.loadtxt(\"/Users/ecasiano/Desktop/Data/1D_16_16_8_3.300000_1.000000_4.000000_1000_1000/1D_16_16_8_3.300000_1.000000_4.000000_1000_1000_SWAP_\"+str(seed)+\"_square.dat\")\n",
    "    S2_data = np.loadtxt(\"../1D_4_4_2_3.300000_1.000000_6.000000_400000_1000_SWAP_\"+str(seed)+\"_square.dat\")\n",
    "\n",
    "\n",
    "    S2_cumsum = np.cumsum(-np.log(S2_data[:,l][:]/S2_data[:,0][:]))\n",
    "\n",
    "    num_bins = S2_cumsum.shape[0]\n",
    "\n",
    "    S2_running_avg = np.zeros(num_bins)\n",
    "    for i in range(1,num_bins+1):\n",
    "        S2_running_avg[i-1] = S2_cumsum[i-1] / i\n",
    "\n",
    "    plt.plot(range(num_bins),S2_running_avg)\n",
    "    plt.axhline(0.861757259131563)\n",
    "    plt.show()\n",
    "    print(S2_running_avg[-1])"
   ]
  },
  {
   "cell_type": "code",
   "execution_count": 30,
   "id": "refined-statistics",
   "metadata": {},
   "outputs": [
    {
     "data": {
      "text/plain": [
       "78"
      ]
     },
     "execution_count": 30,
     "metadata": {},
     "output_type": "execute_result"
    }
   ],
   "source": [
    "S2_data.size"
   ]
  },
  {
   "cell_type": "code",
   "execution_count": null,
   "id": "stock-investor",
   "metadata": {},
   "outputs": [],
   "source": []
  },
  {
   "cell_type": "code",
   "execution_count": null,
   "id": "inappropriate-berry",
   "metadata": {},
   "outputs": [],
   "source": []
  },
  {
   "cell_type": "code",
   "execution_count": null,
   "id": "corrected-hollow",
   "metadata": {},
   "outputs": [],
   "source": []
  }
 ],
 "metadata": {
  "kernelspec": {
   "display_name": "Python 3",
   "language": "python",
   "name": "python3"
  },
  "language_info": {
   "codemirror_mode": {
    "name": "ipython",
    "version": 3
   },
   "file_extension": ".py",
   "mimetype": "text/x-python",
   "name": "python",
   "nbconvert_exporter": "python",
   "pygments_lexer": "ipython3",
   "version": "3.7.10"
  }
 },
 "nbformat": 4,
 "nbformat_minor": 5
}
