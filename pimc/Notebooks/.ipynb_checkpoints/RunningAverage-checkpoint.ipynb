{
 "cells": [
  {
   "cell_type": "code",
   "execution_count": 5,
   "id": "occasional-group",
   "metadata": {},
   "outputs": [],
   "source": [
    "import matplotlib.pyplot as plt\n",
    "import numpy as np"
   ]
  },
  {
   "cell_type": "code",
   "execution_count": 6,
   "id": "canadian-philosophy",
   "metadata": {},
   "outputs": [],
   "source": [
    "seed = 0\n",
    "l = 4"
   ]
  },
  {
   "cell_type": "code",
   "execution_count": 7,
   "id": "operating-harrison",
   "metadata": {},
   "outputs": [],
   "source": [
    "S2_data = np.loadtxt(\"/Users/ecasiano/Desktop/Data/1D_8_8_4_3.300000_1.000000_4.000000_1000_1000/1D_8_8_4_3.300000_1.000000_4.000000_1000_1000_SWAP_\"+str(seed)+\"_square.dat\")"
   ]
  },
  {
   "cell_type": "code",
   "execution_count": 8,
   "id": "based-september",
   "metadata": {},
   "outputs": [],
   "source": [
    "S2_sum = 0\n",
    "num_bins = S2_data.shape[1]\n",
    "for i in range(num_bins):\n",
    "    S2_sum += -np.log(S2_data[l]/S2_data[0])"
   ]
  },
  {
   "cell_type": "code",
   "execution_count": null,
   "id": "imported-species",
   "metadata": {},
   "outputs": [],
   "source": []
  }
 ],
 "metadata": {
  "kernelspec": {
   "display_name": "Python 3",
   "language": "python",
   "name": "python3"
  },
  "language_info": {
   "codemirror_mode": {
    "name": "ipython",
    "version": 3
   },
   "file_extension": ".py",
   "mimetype": "text/x-python",
   "name": "python",
   "nbconvert_exporter": "python",
   "pygments_lexer": "ipython3",
   "version": "3.7.10"
  }
 },
 "nbformat": 4,
 "nbformat_minor": 5
}
