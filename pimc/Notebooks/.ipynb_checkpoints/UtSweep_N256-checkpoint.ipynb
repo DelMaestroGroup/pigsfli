{
 "cells": [
  {
   "cell_type": "markdown",
   "metadata": {},
   "source": [
    "## U/t sweep"
   ]
  },
  {
   "cell_type": "code",
   "execution_count": 2,
   "metadata": {},
   "outputs": [],
   "source": [
    "import numpy as np\n",
    "import matplotlib.pyplot as plt"
   ]
  },
  {
   "cell_type": "code",
   "execution_count": 3,
   "metadata": {},
   "outputs": [],
   "source": [
    "colors = ['salmon','dodgerblue','mediumseagreen']\n",
    "colors = ['#FFA0A0','#1e90ff','#3cb371','#966fd6','#F0B365','#666666','#FEDD00']\n",
    "colors_light = ['#FFEDED','#6BDDFF','#89FFBE','#ece6ff','#f7ecde','#eeeeee','#fef7e1']"
   ]
  },
  {
   "cell_type": "code",
   "execution_count": 19,
   "metadata": {},
   "outputs": [],
   "source": [
    "# Simulation data for β=2.0\n",
    "U = np.array([0.500000,0.730000,1.065800,1.556100,2.272000,3.300000,4.843100,7.071100,10.323900,16.666667, 22.007100, 32.130800,46.911700,68.492100,100.000000])\n",
    "S2_beta2 = np.array([3.066913236552122, 3.0986938941034308, 2.756404755474618, 2.6860338738104876, 2.7046368045787936, 2.482772872019479, 2.3043267071272147, 1.9778483596037586, 0.6125426664777344])\n",
    "S2_beta2_err= np.array([0.08092250049931297, 0.0771852606220503, 0.0799476669772353, 0.08455519388610762, 0.08574543535586325, 0.07421947082816399, 0.05270252189123634, 0.04070458224782369, 0.052422188684688883])"
   ]
  },
  {
   "cell_type": "code",
   "execution_count": 21,
   "metadata": {},
   "outputs": [],
   "source": [
    "# Simulation data for β=4.0\n",
    "S2_beta4 = np.array([2.954967180051525, 2.7060487750065625, 2.6486178625346044, 2.517443902756324, 2.3361219657692325, 2.361007907097954, 2.033824785842044, 0.8883784915190267, 0.064473696770184])\n",
    "S2_beta4_err = np.array([0.10561783170643688, 0.08927414239732938, 0.10621605094496359, 0.09173436533981383, 0.09168015950094151, 0.08852916514747002, 0.07016786722738808, 0.07998831183764839, 0.14131848766671545])"
   ]
  },
  {
   "cell_type": "code",
   "execution_count": 27,
   "metadata": {},
   "outputs": [],
   "source": [
    "# Simulation data for β=4.0\n",
    "S2_beta4 = np.array([1.9734096371616974, 1.8790595386323834, 1.7851498207274425, 1.6860184871495718, 1.5827538048449759, 1.4521528129875225, 1.1607630641320659, 0.38605302766786226, 0.15890298043731796, 0.059954013905614015, 0.03303727197862583, 0.015323046881322423, 0.00738926568071788, 0.003582599975409982, 0.0011777020776276433])\n",
    "S2_beta4_err = np.array([0.0006425359308018019, 0.0005794216859159417, 0.0005765194380395399, 0.000561859777078868, 0.0005441532330413943, 0.0005007818598906244, 0.0005047700686711761, 0.0006700277287259773, 0.0006216950576552956, 0.000626920191202988, 0.0005095916573353891, 0.00037121173700655245, 0.00030255220042713164, 0.00022500476339551372, 0.0001927830306731791])"
   ]
  },
  {
   "cell_type": "code",
   "execution_count": 28,
   "metadata": {},
   "outputs": [],
   "source": [
    "# Simulation data for β=8.0\n",
    "S2_beta2 = np.array([2.137123445563458, 2.0375227284241255, 1.934774405505334, 1.8227890363080264, 1.7053142584961865, 1.5715211308655275, 1.3734607944009078, 0.8073240598073582, 0.1704871443070144, 0.058305111848040624, 0.033733785320171523, 0.015794652956798508, 0.007410022669189124, 0.0037275580500585968, 0.0021691572629339542])\n",
    "S2_beta2_err = np.array([0.0005446812347038919, 0.0005031533295179764, 0.00047907567669227256, 0.0004679547930050306, 0.00042201622098758456, 0.0003825740737061501, 0.0003676333236865098, 0.0003569163279000955, 0.0005065627366858651, 0.00039143345435252853, 0.00027601681897246365, 0.00021193883727538076, 0.00016860158582712143, 0.00014375252783392785, 0.00011901661013683851])"
   ]
  },
  {
   "cell_type": "code",
   "execution_count": 33,
   "metadata": {},
   "outputs": [],
   "source": [
    "# Simulation extrapolated values for β -> \\infty\n",
    "S2_betaLarge = np.array([2.0105876198176786, 2.4537023020970903, 2.289075595286303, 2.068694828310821, 2.0636717254922528, 1.5931012813943903, 1.5311421862071102, 0.022786689033203494, 0.1084342962376964])\n",
    "S2_betaLarge_err = np.array([0.23780328205575865, 0.12217850438655375, 0.10052597975906255, 0.17007268040690163, 0.07455386628324169, 0.2858285302358004, 0.10286686107873817, 0.6533140237178869, 0.08670803495274339])"
   ]
  },
  {
   "cell_type": "code",
   "execution_count": 34,
   "metadata": {},
   "outputs": [
    {
     "data": {
      "image/png": "[encoded data removed]",
      "text/plain": [
       "<Figure size 333.549x206.145 with 1 Axes>"
      ]
     },
     "metadata": {
      "needs_background": "light"
     },
     "output_type": "display_data"
    }
   ],
   "source": [
    "with plt.style.context('../IOP_large.mplstyle'):\n",
    "\n",
    "    # Set up plot axes\n",
    "    fig,ax = plt.subplots()\n",
    "    ax.set_xscale(\"log\")\n",
    "    ax.set_xlabel(r\"$U/t$\")\n",
    "    ax.set_ylabel(r\"$S_2(\\ell=128)$\")\n",
    "    ax.axvline(3.3,zorder=-6,color=\"#cccccc\",ls=\"--\")\n",
    "    # ax.tick_params(direction='in') # not working in x log scale\n",
    "\n",
    "\n",
    "#     #Plot simulation data for β=2.0\n",
    "#     ax.errorbar(U[0:9],S2_beta2, yerr=S2_beta2_err, fmt='.', capsize=5,color=colors[1],\n",
    "#                mfc=colors_light[1],label=r\"$\\beta=2.0$\",marker='o',zorder=1);\n",
    "\n",
    "#     # Plot simulation data for β=4.0\n",
    "#     ax.errorbar(U[0:9],S2_beta4, yerr=S2_beta4_err, fmt='.', capsize=5,color=colors[2],\n",
    "#                mfc=colors_light[2],label=r\"$\\beta=4.0$\",marker='^',zorder=2);\n",
    "\n",
    "#     # Plot simulation data for β=8.0\n",
    "#     ax.errorbar(U,S2_beta8, yerr=S2_beta8_err, fmt='.', capsize=5,color=colors[3],\n",
    "#                mfc=colors_light[3],label=r\"$\\beta=8.0$\",marker='d',zorder=3);\n",
    "\n",
    "#     # Plot simulation data for β=16.0\n",
    "#     ax.errorbar(U,S2_beta16, yerr=S2_beta16_err, fmt='.', capsize=5,color=colors[4],\n",
    "#                mfc=colors_light[4],label=r\"$\\beta=16.0$\",marker='P',zorder=4)\n",
    "\n",
    "    # Plot simulation data for β=large extrapolation\n",
    "    ax.errorbar(U[0:9],S2_betaLarge, yerr=S2_betaLarge_err, fmt='.', capsize=5,\n",
    "               label=r\"$\\beta\\to\\infty$\",marker='.',zorder=5,color='grey',\n",
    "                mfc='gold')\n",
    "\n",
    "    # # Set plot limits\n",
    "    ax.set_xlim(np.min(U)*0.92,np.max(U)*1.08)\n",
    "    # ax.set_ylim(np.min(S2_beta4)*0.00,np.max(S2_beta1)*1.05);\n",
    "    \n",
    "    # Set tick parameters\n",
    "    ax.tick_params(direction='in',which='both')\n",
    "    \n",
    "    # Annotate system information\n",
    "    ax.annotate(r\"$M=256$\",(0.18,0.60-.05),\n",
    "                xycoords='figure fraction')\n",
    "    ax.annotate(r\"$N=256$\",(0.18,0.60-.15),\n",
    "                xycoords='figure fraction')\n",
    "    ax.annotate(r\"$\\ell=128$\",(0.18,0.60-.25),\n",
    "                xycoords='figure fraction')\n",
    "    ax.annotate(r\"$D=1$\",(0.18,0.60-.35),\n",
    "                xycoords='figure fraction')\n",
    "\n",
    "\n",
    "    # Set legend\n",
    "    plt.legend(frameon=False);\n",
    "\n",
    "    # Save figure\n",
    "    plt.savefig(\"/Users/ecasiano/Desktop/papers-latticepigs/Figures/interactionStrengthSweep_N256.pdf\",dpi=300)\n",
    "    plt.savefig(\"interactionStrengthSweep_N256.png\",dpi=300)"
   ]
  },
  {
   "cell_type": "code",
   "execution_count": 13,
   "metadata": {},
   "outputs": [
    {
     "name": "stdout",
     "output_type": "stream",
     "text": [
      "The file /Users/ecasiano/XCode/pimc/pimc/Notebooks/Users/ecasiano/Desktop/papers-latticepigs/Figures/interactionStrengthSweep_N256.pdf does not exist.\n"
     ]
    }
   ],
   "source": []
  },
  {
   "cell_type": "code",
   "execution_count": null,
   "metadata": {},
   "outputs": [],
   "source": []
  },
  {
   "cell_type": "code",
   "execution_count": null,
   "metadata": {},
   "outputs": [],
   "source": []
  }
 ],
 "metadata": {
  "kernelspec": {
   "display_name": "Python 3",
   "language": "python",
   "name": "python3"
  },
  "language_info": {
   "codemirror_mode": {
    "name": "ipython",
    "version": 3
   },
   "file_extension": ".py",
   "mimetype": "text/x-python",
   "name": "python",
   "nbconvert_exporter": "python",
   "pygments_lexer": "ipython3",
   "version": "3.8.5"
  }
 },
 "nbformat": 4,
 "nbformat_minor": 4
}
