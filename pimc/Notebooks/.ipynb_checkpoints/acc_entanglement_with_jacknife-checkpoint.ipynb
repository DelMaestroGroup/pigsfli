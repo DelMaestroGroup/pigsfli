{
 "cells": [
  {
   "cell_type": "code",
   "execution_count": 28,
   "metadata": {},
   "outputs": [],
   "source": [
    "import matplotlib.pyplot as plt\n",
    "import numpy as np"
   ]
  },
  {
   "cell_type": "code",
   "execution_count": 29,
   "metadata": {},
   "outputs": [],
   "source": [
    "np.set_printoptions(precision=8)"
   ]
  },
  {
   "cell_type": "code",
   "execution_count": 48,
   "metadata": {},
   "outputs": [],
   "source": [
    "n=1 # Maybe actually n_max? "
   ]
  },
  {
   "cell_type": "code",
   "execution_count": 49,
   "metadata": {},
   "outputs": [],
   "source": [
    "path=\"/Users/ecasiano/Desktop/PrototypeScripts/Data/\""
   ]
  },
  {
   "cell_type": "code",
   "execution_count": 50,
   "metadata": {},
   "outputs": [],
   "source": [
    "seed = 42"
   ]
  },
  {
   "cell_type": "code",
   "execution_count": 66,
   "metadata": {},
   "outputs": [],
   "source": [
    "data_Pn_squared_m1 = np.loadtxt(path+\"1D_4_4_2_3.300000_1.000000_4.000000_100000_PnSquared-mA1_\"+str(seed)+\".dat\")\n",
    "data_Pn_squared_m2 = np.loadtxt(path+\"1D_4_4_2_3.300000_1.000000_4.000000_100000_PnSquared-mA2_\"+str(seed)+\".dat\")\n",
    "\n",
    "data = np.loadtxt(path+\"1D_4_4_2_3.300000_1.000000_4.000000_100000_SWAP-n\"+str(n)+\"_\"+str(seed)+\".dat\")"
   ]
  },
  {
   "cell_type": "code",
   "execution_count": 52,
   "metadata": {},
   "outputs": [
    {
     "data": {
      "text/plain": [
       "(100000, 3)"
      ]
     },
     "execution_count": 52,
     "metadata": {},
     "output_type": "execute_result"
    }
   ],
   "source": [
    "data.shape"
   ]
  },
  {
   "cell_type": "code",
   "execution_count": 53,
   "metadata": {},
   "outputs": [
    {
     "data": {
      "text/plain": [
       "((100000, 5), (100000, 5))"
      ]
     },
     "execution_count": 53,
     "metadata": {},
     "output_type": "execute_result"
    }
   ],
   "source": [
    "data_Pn_squared_m1.shape,data_Pn_squared_m2.shape"
   ]
  },
  {
   "cell_type": "code",
   "execution_count": 54,
   "metadata": {},
   "outputs": [],
   "source": [
    "# data_Pn_squared_m1 = np.loadtxt(path+\"1D_8_8_4_3.300000_1.000000_3.000000_10000_PnSquared-mA1_42.dat\")\n",
    "# data_Pn_squared_m2 = np.loadtxt(path+\"1D_8_8_4_3.300000_1.000000_3.000000_10000_PnSquared-mA2_42.dat\")\n",
    "# data_Pn_squared_m3 = np.loadtxt(path+\"1D_8_8_4_3.300000_1.000000_3.000000_10000_PnSquared-mA3_42.dat\")\n",
    "# data_Pn_squared_m4 = np.loadtxt(path+\"1D_8_8_4_3.300000_1.000000_3.000000_10000_PnSquared-mA4_42.dat\")\n",
    "\n",
    "# data = np.loadtxt(path+\"1D_8_8_4_3.300000_1.000000_3.000000_10000_SWAP-n\"+str(n)+\"_42.dat\")"
   ]
  },
  {
   "cell_type": "code",
   "execution_count": 55,
   "metadata": {},
   "outputs": [
    {
     "data": {
      "text/plain": [
       "array([0.00000000e+00, 2.14102723e+08, 1.96991400e+07])"
      ]
     },
     "execution_count": 55,
     "metadata": {},
     "output_type": "execute_result"
    }
   ],
   "source": [
    "Pn_squared_m1_col_sum = np.sum(data_Pn_squared_m1,axis=0)\n",
    "Pn_squared_m2_col_sum = np.sum(data_Pn_squared_m2,axis=0)\n",
    "# Pn_squared_m3_col_sum = np.sum(data_Pn_squared_m3,axis=0)\n",
    "# Pn_squared_m4_col_sum = np.sum(data_Pn_squared_m4,axis=0)\n",
    "\n",
    "SWAP_col_sum = np.sum(data,axis=0)\n",
    "SWAP_col_sum"
   ]
  },
  {
   "cell_type": "markdown",
   "metadata": {},
   "source": [
    "### Jacknife notes"
   ]
  },
  {
   "cell_type": "code",
   "execution_count": 56,
   "metadata": {},
   "outputs": [
    {
     "data": {
      "text/plain": [
       "array([[3.13773326e-05, 2.36354934e-02],\n",
       "       [3.16109149e-05, 2.36479629e-02],\n",
       "       [3.17181620e-05, 2.36334792e-02],\n",
       "       ...,\n",
       "       [3.13959955e-05, 2.36475046e-02],\n",
       "       [3.18350190e-05, 2.36735630e-02],\n",
       "       [3.23114185e-05, 2.36491831e-02]])"
      ]
     },
     "execution_count": 56,
     "metadata": {},
     "output_type": "execute_result"
    }
   ],
   "source": [
    "S2_i = []\n",
    "for i in range(data.shape[0]):\n",
    "    Pn_squared_m1_col_sum_i = Pn_squared_m1_col_sum - data_Pn_squared_m1[i]\n",
    "    Pn_squared_m2_col_sum_i = Pn_squared_m2_col_sum - data_Pn_squared_m2[i]\n",
    "#     Pn_squared_m3_col_sum_i = Pn_squared_m3_col_sum - data_Pn_squared_m4[i]\n",
    "#     Pn_squared_m4_col_sum_i = Pn_squared_m4_col_sum - data_Pn_squared_m3[i]\n",
    "    \n",
    "    # Swapped sites histogram for n sector\n",
    "    SWAP_col_sum_i =  SWAP_col_sum - data[i]\n",
    "    \n",
    "    l = 2*[0]\n",
    "    \n",
    "    l[0] = -np.log(SWAP_col_sum_i[1]/Pn_squared_m1_col_sum_i[n])\n",
    "    l[1] = -np.log(SWAP_col_sum_i[2]/Pn_squared_m2_col_sum_i[n])\n",
    "#     l[2] = -np.log(SWAP_col_sum_i[3]/Pn_squared_m3_col_sum_i[n])\n",
    "#     l[3] = -np.log(SWAP_col_sum_i[4]/Pn_squared_m4_col_sum_i[n])\n",
    "    \n",
    "    S2_i.append(l)\n",
    "\n",
    "S2_i = np.array(S2_i)\n",
    "S2_i"
   ]
  },
  {
   "cell_type": "code",
   "execution_count": 57,
   "metadata": {},
   "outputs": [
    {
     "data": {
      "text/plain": [
       "array([3.19374304e-05, 2.36475987e-02])"
      ]
     },
     "execution_count": 57,
     "metadata": {},
     "output_type": "execute_result"
    }
   ],
   "source": [
    "S2_mean = np.mean(S2_i,axis=0)\n",
    "S2_mean"
   ]
  },
  {
   "cell_type": "code",
   "execution_count": 58,
   "metadata": {},
   "outputs": [],
   "source": [
    "N_rows = S2_i.shape[0]"
   ]
  },
  {
   "cell_type": "code",
   "execution_count": 59,
   "metadata": {},
   "outputs": [],
   "source": [
    "S2_err = np.std(S2_i,axis=0)\n",
    "S2_err *= np.sqrt(N_rows-1)"
   ]
  },
  {
   "cell_type": "code",
   "execution_count": 60,
   "metadata": {},
   "outputs": [
    {
     "name": "stdout",
     "output_type": "stream",
     "text": [
      "<S2> = 0.023648 +/- 0.003633\n"
     ]
    }
   ],
   "source": [
    "print(f'<S2> = {S2_mean[1]:.6f} +/- {S2_err[1]:.6f}')"
   ]
  },
  {
   "cell_type": "markdown",
   "metadata": {},
   "source": [
    "### $P(n)$"
   ]
  },
  {
   "cell_type": "code",
   "execution_count": 61,
   "metadata": {},
   "outputs": [],
   "source": [
    "data_Pn_m2 = np.loadtxt(path+\"1D_4_4_2_3.300000_1.000000_4.000000_100000_Pn-mA2_\"+str(seed)+\".dat\")"
   ]
  },
  {
   "cell_type": "code",
   "execution_count": 62,
   "metadata": {},
   "outputs": [],
   "source": [
    "data_Pn_col_sum_m2 = np.sum(data_Pn_m2,axis=0)"
   ]
  },
  {
   "cell_type": "code",
   "execution_count": 63,
   "metadata": {},
   "outputs": [],
   "source": [
    "jacknifed_Pn = np.zeros(data_Pn_m2.shape)\n",
    "for i in range(data_Pn_m2.shape[0]):\n",
    "    data_Pn_col_sum_m2_i = data_Pn_col_sum_m2 - data_Pn_m2[i]\n",
    "        \n",
    "    jacknifed_Pn[i] = data_Pn_col_sum_m2_i\n",
    "jacknifed_Pn /= np.sum(jacknifed_Pn,axis=1)[:,None]"
   ]
  },
  {
   "cell_type": "code",
   "execution_count": 64,
   "metadata": {},
   "outputs": [],
   "source": [
    "Pn_mean = np.mean(jacknifed_Pn,axis=0)\n",
    "Pn_mean /= np.sum(Pn_mean )\n",
    "N_rows_Pn = jacknifed_Pn.shape[0]\n",
    "Pn_err = np.std(jacknifed_Pn,axis=0)\n",
    "Pn_err *= np.sqrt(N_rows_Pn-1)"
   ]
  },
  {
   "cell_type": "code",
   "execution_count": 65,
   "metadata": {},
   "outputs": [
    {
     "name": "stdout",
     "output_type": "stream",
     "text": [
      "P(n=0) = 0.0096 +/- 0.0000\n",
      "P(n=1) = 0.1949 +/- 0.0002\n",
      "P(n=2) = 0.5914 +/- 0.0002\n",
      "P(n=3) = 0.1944 +/- 0.0002\n",
      "P(n=4) = 0.0096 +/- 0.0001\n"
     ]
    }
   ],
   "source": [
    "for n in range(4+1):\n",
    "    print(f'P(n={n}) = {Pn_mean[n]:0.4f} +/- {Pn_err[n]:0.4f}')"
   ]
  },
  {
   "cell_type": "code",
   "execution_count": null,
   "metadata": {},
   "outputs": [],
   "source": []
  },
  {
   "cell_type": "code",
   "execution_count": null,
   "metadata": {},
   "outputs": [],
   "source": []
  }
 ],
 "metadata": {
  "kernelspec": {
   "display_name": "Python 3",
   "language": "python",
   "name": "python3"
  },
  "language_info": {
   "codemirror_mode": {
    "name": "ipython",
    "version": 3
   },
   "file_extension": ".py",
   "mimetype": "text/x-python",
   "name": "python",
   "nbconvert_exporter": "python",
   "pygments_lexer": "ipython3",
   "version": "3.7.9"
  }
 },
 "nbformat": 4,
 "nbformat_minor": 4
}
