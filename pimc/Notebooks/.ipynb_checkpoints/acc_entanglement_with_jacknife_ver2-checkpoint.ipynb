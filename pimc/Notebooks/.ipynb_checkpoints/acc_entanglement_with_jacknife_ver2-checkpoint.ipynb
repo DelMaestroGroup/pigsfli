{
 "cells": [
  {
   "cell_type": "code",
   "execution_count": 26,
   "metadata": {},
   "outputs": [],
   "source": [
    "import matplotlib.pyplot as plt\n",
    "import numpy as np"
   ]
  },
  {
   "cell_type": "code",
   "execution_count": 27,
   "metadata": {},
   "outputs": [],
   "source": [
    "np.set_printoptions(precision=8)"
   ]
  },
  {
   "cell_type": "code",
   "execution_count": 28,
   "metadata": {},
   "outputs": [],
   "source": [
    "path=\"/Users/ecasiano/Xcode/pimc/pimc/\""
   ]
  },
  {
   "cell_type": "code",
   "execution_count": 29,
   "metadata": {},
   "outputs": [],
   "source": [
    "seed = 42"
   ]
  },
  {
   "cell_type": "code",
   "execution_count": 30,
   "metadata": {},
   "outputs": [],
   "source": [
    "data_Pn_squared_m1 = np.loadtxt(path+\"1D_4_4_2_3.300000_1.000000_4.000000_10000_PnSquared-mA1_\"+str(seed)+\".dat\")\n",
    "data_Pn_squared_m2 = np.loadtxt(path+\"1D_4_4_2_3.300000_1.000000_4.000000_10000_PnSquared-mA2_\"+str(seed)+\".dat\")\n",
    "\n",
    "data_SWAPn_m1 = np.loadtxt(path+\"1D_4_4_2_3.300000_1.000000_4.000000_10000_SWAPn-mA1_\"+str(seed)+\".dat\")\n",
    "data_SWAPn_m2 = np.loadtxt(path+\"1D_4_4_2_3.300000_1.000000_4.000000_10000_SWAPn-mA2_\"+str(seed)+\".dat\")"
   ]
  },
  {
   "cell_type": "code",
   "execution_count": 31,
   "metadata": {},
   "outputs": [],
   "source": [
    "Pn_squared_m1_col_sum = np.sum(data_Pn_squared_m1,axis=0)\n",
    "Pn_squared_m2_col_sum = np.sum(data_Pn_squared_m2,axis=0)\n",
    "\n",
    "SWAPn_m1_col_sum = np.sum(data_SWAPn_m1,axis=0)\n",
    "SWAPn_m2_col_sum = np.sum(data_SWAPn_m2,axis=0)"
   ]
  },
  {
   "cell_type": "code",
   "execution_count": 32,
   "metadata": {},
   "outputs": [],
   "source": [
    "# -np.log(np.mean(data_SWAPn_m2,axis=0)/np.mean(data_Pn_squared_m2,axis=0))\n",
    "# -np.log(np.mean(data_SWAPn_m2,axis=0)/np.mean(data_Pn_squared_m2,axis=0))"
   ]
  },
  {
   "cell_type": "markdown",
   "metadata": {},
   "source": [
    "### Jacknife notes"
   ]
  },
  {
   "cell_type": "code",
   "execution_count": 33,
   "metadata": {},
   "outputs": [
    {
     "data": {
      "text/plain": [
       "4"
      ]
     },
     "execution_count": 33,
     "metadata": {},
     "output_type": "execute_result"
    }
   ],
   "source": [
    "N=data_SWAPn_m1.shape[1]-1\n",
    "N"
   ]
  },
  {
   "cell_type": "code",
   "execution_count": 34,
   "metadata": {},
   "outputs": [
    {
     "data": {
      "text/plain": [
       "array([[-0.0782522 ,  0.04225766,  0.02262102, -0.03800555, -0.67575544],\n",
       "       [-0.0782522 ,  0.04225766,  0.0226091 , -0.03828899, -0.67575544],\n",
       "       [-0.0782522 ,  0.04225766,  0.02233159, -0.03800555, -0.67575544],\n",
       "       ...,\n",
       "       [-0.0782522 ,  0.04225766,  0.0224297 , -0.03812922, -0.67575544],\n",
       "       [-0.0782522 ,  0.04225766,  0.02256358, -0.03800555, -0.67575544],\n",
       "       [-0.0782522 ,  0.04225766,  0.02259826, -0.03800555, -0.67575544]])"
      ]
     },
     "execution_count": 34,
     "metadata": {},
     "output_type": "execute_result"
    }
   ],
   "source": [
    "S2 = np.zeros(data_SWAPn_m1.shape)\n",
    "for i in range(data_SWAPn_m2.shape[0]):\n",
    "    Pn_squared_m1_col_sum_i = Pn_squared_m1_col_sum - data_Pn_squared_m1[i]\n",
    "    Pn_squared_m2_col_sum_i = Pn_squared_m2_col_sum - data_Pn_squared_m2[i]\n",
    "    \n",
    "    SWAPn_m1_col_sum_i = SWAPn_m1_col_sum - data_SWAPn_m1[i]\n",
    "    SWAPn_m2_col_sum_i = SWAPn_m2_col_sum - data_SWAPn_m2[i]\n",
    "    \n",
    "    S2[i] = -np.log(data_SWAPn_m2_col_sum_i[n]/Pn_squared_m2_col_sum_i[n])\n",
    "S2"
   ]
  },
  {
   "cell_type": "code",
   "execution_count": 10,
   "metadata": {},
   "outputs": [
    {
     "data": {
      "text/plain": [
       "array([-0.07825151,  0.04225767,  0.02260039, -0.03800554, -0.67575847])"
      ]
     },
     "execution_count": 10,
     "metadata": {},
     "output_type": "execute_result"
    }
   ],
   "source": [
    "S2_mean = np.mean(S2_i,axis=0)\n",
    "S2_mean"
   ]
  },
  {
   "cell_type": "code",
   "execution_count": 668,
   "metadata": {},
   "outputs": [],
   "source": [
    "N_rows = S2.shape[0]"
   ]
  },
  {
   "cell_type": "code",
   "execution_count": 669,
   "metadata": {},
   "outputs": [],
   "source": [
    "S2_err = np.std(S2,axis=0)\n",
    "S2_err *= np.sqrt(N_rows-1)"
   ]
  },
  {
   "cell_type": "code",
   "execution_count": 670,
   "metadata": {},
   "outputs": [
    {
     "name": "stdout",
     "output_type": "stream",
     "text": [
      "<S2(n=0)> = -0.084392 +/- 0.047728\n",
      "<S2(n=1)> = 0.048038 +/- 0.026830\n",
      "<S2(n=2)> = 0.017762 +/- 0.008442\n",
      "<S2(n=3)> = 0.004302 +/- 0.029228\n",
      "<S2(n=4)> = -0.662626 +/- 0.586267\n"
     ]
    }
   ],
   "source": [
    "for n in range(len(S2_mean)):\n",
    "    print(f\"<S2(n={n})> = {S2_mean[n]:0.6f} +/- {S2_err[n]:0.6f}\")"
   ]
  },
  {
   "cell_type": "markdown",
   "metadata": {},
   "source": [
    "### $P(n)$"
   ]
  },
  {
   "cell_type": "code",
   "execution_count": 646,
   "metadata": {},
   "outputs": [
    {
     "data": {
      "text/plain": [
       "array([ 101.453, 2113.422, 6260.748, 2040.486,   96.293])"
      ]
     },
     "execution_count": 646,
     "metadata": {},
     "output_type": "execute_result"
    }
   ],
   "source": [
    "data_Pn_m2 = np.loadtxt(path+\"1D_4_4_2_3.300000_1.000000_4.000000_1000_Pn-mA2_\"+str(seed)+\".dat\")\n",
    "np.mean(data_Pn_m2,axis=0)"
   ]
  },
  {
   "cell_type": "code",
   "execution_count": 523,
   "metadata": {},
   "outputs": [],
   "source": [
    "data_Pn_col_sum_m2 = np.sum(data_Pn_m2,axis=0)"
   ]
  },
  {
   "cell_type": "code",
   "execution_count": 524,
   "metadata": {},
   "outputs": [],
   "source": [
    "jacknifed_Pn = np.zeros(data_Pn_m2.shape)\n",
    "for i in range(data_Pn_m2.shape[0]):\n",
    "    data_Pn_col_sum_m2_i = data_Pn_col_sum_m2 - data_Pn_m2[i]\n",
    "        \n",
    "    jacknifed_Pn[i] = data_Pn_col_sum_m2_i\n",
    "jacknifed_Pn /= np.sum(jacknifed_Pn,axis=1)[:,None]"
   ]
  },
  {
   "cell_type": "code",
   "execution_count": 525,
   "metadata": {},
   "outputs": [],
   "source": [
    "Pn_mean = np.mean(jacknifed_Pn,axis=0)\n",
    "Pn_mean /= np.sum(Pn_mean )\n",
    "N_rows_Pn = jacknifed_Pn.shape[0]\n",
    "Pn_err = np.std(jacknifed_Pn,axis=0)\n",
    "Pn_err *= np.sqrt(N_rows_Pn-1)"
   ]
  },
  {
   "cell_type": "code",
   "execution_count": 526,
   "metadata": {},
   "outputs": [
    {
     "name": "stdout",
     "output_type": "stream",
     "text": [
      "P(n=0) = 0.0096 +/- 0.0005\n",
      "P(n=1) = 0.1991 +/- 0.0018\n",
      "P(n=2) = 0.5899 +/- 0.0021\n",
      "P(n=3) = 0.1923 +/- 0.0018\n",
      "P(n=4) = 0.0091 +/- 0.0005\n"
     ]
    }
   ],
   "source": [
    "for n in range(4+1):\n",
    "    print(f'P(n={n}) = {Pn_mean[n]:0.4f} +/- {Pn_err[n]:0.4f}')"
   ]
  },
  {
   "cell_type": "code",
   "execution_count": null,
   "metadata": {},
   "outputs": [],
   "source": []
  },
  {
   "cell_type": "code",
   "execution_count": null,
   "metadata": {},
   "outputs": [],
   "source": []
  }
 ],
 "metadata": {
  "kernelspec": {
   "display_name": "Python 3",
   "language": "python",
   "name": "python3"
  },
  "language_info": {
   "codemirror_mode": {
    "name": "ipython",
    "version": 3
   },
   "file_extension": ".py",
   "mimetype": "text/x-python",
   "name": "python",
   "nbconvert_exporter": "python",
   "pygments_lexer": "ipython3",
   "version": "3.7.9"
  }
 },
 "nbformat": 4,
 "nbformat_minor": 4
}
