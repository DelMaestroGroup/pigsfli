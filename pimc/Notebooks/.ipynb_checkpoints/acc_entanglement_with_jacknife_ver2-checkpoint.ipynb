{
 "cells": [
  {
   "cell_type": "code",
   "execution_count": 1,
   "metadata": {},
   "outputs": [],
   "source": [
    "import matplotlib.pyplot as plt\n",
    "import numpy as np"
   ]
  },
  {
   "cell_type": "code",
   "execution_count": 2,
   "metadata": {},
   "outputs": [],
   "source": [
    "np.set_printoptions(precision=8)"
   ]
  },
  {
   "cell_type": "code",
   "execution_count": 3,
   "metadata": {},
   "outputs": [],
   "source": [
    "path=\"/Users/ecasiano/Xcode/pimc/pimc/TestNewSWAPn/\""
   ]
  },
  {
   "cell_type": "code",
   "execution_count": 4,
   "metadata": {},
   "outputs": [],
   "source": [
    "seed = 42"
   ]
  },
  {
   "cell_type": "code",
   "execution_count": 5,
   "metadata": {},
   "outputs": [],
   "source": [
    "data_Pn_squared_m1 = np.loadtxt(path+\"1D_4_4_2_3.300000_1.000000_4.000000_100000_PnSquared-mA1_\"+str(seed)+\".dat\")\n",
    "data_Pn_squared_m2 = np.loadtxt(path+\"1D_4_4_2_3.300000_1.000000_4.000000_100000_PnSquared-mA2_\"+str(seed)+\".dat\")\n",
    "\n",
    "data_SWAPn_m1 = np.loadtxt(path+\"1D_4_4_2_3.300000_1.000000_4.000000_100000_SWAPn-mA1_\"+str(seed)+\".dat\")\n",
    "data_SWAPn_m2 = np.loadtxt(path+\"1D_4_4_2_3.300000_1.000000_4.000000_100000_SWAPn-mA2_\"+str(seed)+\".dat\")"
   ]
  },
  {
   "cell_type": "code",
   "execution_count": 6,
   "metadata": {},
   "outputs": [],
   "source": [
    "Pn_squared_m1_col_sum = np.sum(data_Pn_squared_m1,axis=0)\n",
    "Pn_squared_m2_col_sum = np.sum(data_Pn_squared_m2,axis=0)\n",
    "\n",
    "SWAPn_m1_col_sum = np.sum(data_SWAPn_m1,axis=0)\n",
    "SWAPn_m2_col_sum = np.sum(data_SWAPn_m2,axis=0)"
   ]
  },
  {
   "cell_type": "code",
   "execution_count": 7,
   "metadata": {},
   "outputs": [],
   "source": [
    "# -np.log(np.mean(data_SWAPn_m2,axis=0)/np.mean(data_Pn_squared_m2,axis=0))\n",
    "# -np.log(np.mean(data_SWAPn_m2,axis=0)/np.mean(data_Pn_squared_m2,axis=0))"
   ]
  },
  {
   "cell_type": "markdown",
   "metadata": {},
   "source": [
    "### Jacknife notes"
   ]
  },
  {
   "cell_type": "code",
   "execution_count": 8,
   "metadata": {},
   "outputs": [
    {
     "data": {
      "text/plain": [
       "4"
      ]
     },
     "execution_count": 8,
     "metadata": {},
     "output_type": "execute_result"
    }
   ],
   "source": [
    "N=data_SWAPn_m1.shape[1]-1\n",
    "N"
   ]
  },
  {
   "cell_type": "code",
   "execution_count": 9,
   "metadata": {},
   "outputs": [
    {
     "name": "stderr",
     "output_type": "stream",
     "text": [
      "/opt/anaconda3/lib/python3.7/site-packages/ipykernel_launcher.py:9: RuntimeWarning: invalid value encountered in true_divide\n",
      "  if __name__ == '__main__':\n"
     ]
    },
    {
     "data": {
      "text/plain": [
       "array([[-5.47793444e-05,  3.13773326e-05,  4.17616704e-04,\n",
       "         2.16889471e-03,             nan],\n",
       "       [-5.39029133e-05,  3.16109149e-05,  4.15537363e-04,\n",
       "         2.16889471e-03,             nan],\n",
       "       [-5.30266552e-05,  3.17181620e-05,  4.14889352e-04,\n",
       "         2.16889471e-03,             nan],\n",
       "       ...,\n",
       "       [-5.25886201e-05,  3.13959955e-05,  4.15407481e-04,\n",
       "         2.16889471e-03,             nan],\n",
       "       [-5.26977957e-05,  3.18350190e-05,  4.15344643e-04,\n",
       "         2.16889471e-03,             nan],\n",
       "       [-5.38479614e-05,  3.23114185e-05,  4.19510088e-04,\n",
       "         2.16889471e-03,             nan]])"
      ]
     },
     "execution_count": 9,
     "metadata": {},
     "output_type": "execute_result"
    }
   ],
   "source": [
    "S2 = np.zeros(data_SWAPn_m1.shape)\n",
    "for i in range(data_SWAPn_m2.shape[0]):\n",
    "    Pn_squared_m1_col_sum_i = Pn_squared_m1_col_sum - data_Pn_squared_m1[i]\n",
    "    Pn_squared_m2_col_sum_i = Pn_squared_m2_col_sum - data_Pn_squared_m2[i]\n",
    "    \n",
    "    SWAPn_m1_col_sum_i = SWAPn_m1_col_sum - data_SWAPn_m1[i]\n",
    "    SWAPn_m2_col_sum_i = SWAPn_m2_col_sum - data_SWAPn_m2[i]\n",
    "    \n",
    "    S2[i] = -np.log(SWAPn_m2_col_sum_i/Pn_squared_m2_col_sum_i)\n",
    "S2"
   ]
  },
  {
   "cell_type": "code",
   "execution_count": 10,
   "metadata": {},
   "outputs": [
    {
     "data": {
      "text/plain": [
       "array([-5.40122294e-05,  3.19374304e-05,  4.15666976e-04,  2.16889511e-03,\n",
       "                   nan])"
      ]
     },
     "execution_count": 10,
     "metadata": {},
     "output_type": "execute_result"
    }
   ],
   "source": [
    "S2_mean = np.mean(S2,axis=0)\n",
    "S2_mean"
   ]
  },
  {
   "cell_type": "code",
   "execution_count": 11,
   "metadata": {},
   "outputs": [],
   "source": [
    "N_rows = S2.shape[0]"
   ]
  },
  {
   "cell_type": "code",
   "execution_count": 12,
   "metadata": {},
   "outputs": [],
   "source": [
    "S2_err = np.std(S2,axis=0)\n",
    "S2_err *= np.sqrt(N_rows-1)"
   ]
  },
  {
   "cell_type": "code",
   "execution_count": 13,
   "metadata": {},
   "outputs": [
    {
     "name": "stdout",
     "output_type": "stream",
     "text": [
      "<S2(n=0)> = -0.000054 +/- 0.000330\n",
      "<S2(n=1)> = 0.000032 +/- 0.000097\n",
      "<S2(n=2)> = 0.000416 +/- 0.000362\n",
      "<S2(n=3)> = 0.002169 +/- 0.008182\n",
      "<S2(n=4)> = nan +/- nan\n"
     ]
    }
   ],
   "source": [
    "for n in range(N+1):\n",
    "    print(f\"<S2(n={n})> = {S2_mean[n]:0.6f} +/- {S2_err[n]:0.6f}\")"
   ]
  },
  {
   "cell_type": "markdown",
   "metadata": {},
   "source": [
    "### $P(n)$"
   ]
  },
  {
   "cell_type": "code",
   "execution_count": 14,
   "metadata": {},
   "outputs": [
    {
     "data": {
      "text/plain": [
       "array([  9.221, 203.696, 626.563, 207.617,   8.075])"
      ]
     },
     "execution_count": 14,
     "metadata": {},
     "output_type": "execute_result"
    }
   ],
   "source": [
    "data_Pn_m2 = np.loadtxt(path+\"1D_4_4_2_3.300000_1.000000_4.000000_1000_Pn-mA2_\"+str(seed)+\".dat\")\n",
    "np.mean(data_Pn_m2,axis=0)"
   ]
  },
  {
   "cell_type": "code",
   "execution_count": 15,
   "metadata": {},
   "outputs": [],
   "source": [
    "data_Pn_col_sum_m2 = np.sum(data_Pn_m2,axis=0)"
   ]
  },
  {
   "cell_type": "code",
   "execution_count": 16,
   "metadata": {},
   "outputs": [],
   "source": [
    "jacknifed_Pn = np.zeros(data_Pn_m2.shape)\n",
    "for i in range(data_Pn_m2.shape[0]):\n",
    "    data_Pn_col_sum_m2_i = data_Pn_col_sum_m2 - data_Pn_m2[i]\n",
    "        \n",
    "    jacknifed_Pn[i] = data_Pn_col_sum_m2_i\n",
    "jacknifed_Pn /= np.sum(jacknifed_Pn,axis=1)[:,None]"
   ]
  },
  {
   "cell_type": "code",
   "execution_count": 17,
   "metadata": {},
   "outputs": [],
   "source": [
    "Pn_mean = np.mean(jacknifed_Pn,axis=0)\n",
    "Pn_mean /= np.sum(Pn_mean )\n",
    "N_rows_Pn = jacknifed_Pn.shape[0]\n",
    "Pn_err = np.std(jacknifed_Pn,axis=0)\n",
    "Pn_err *= np.sqrt(N_rows_Pn-1)"
   ]
  },
  {
   "cell_type": "code",
   "execution_count": 18,
   "metadata": {},
   "outputs": [
    {
     "name": "stdout",
     "output_type": "stream",
     "text": [
      "P(n=0) = 0.0087 +/- 0.0012\n",
      "P(n=1) = 0.1930 +/- 0.0050\n",
      "P(n=2) = 0.5938 +/- 0.0063\n",
      "P(n=3) = 0.1968 +/- 0.0054\n",
      "P(n=4) = 0.0077 +/- 0.0012\n"
     ]
    }
   ],
   "source": [
    "for n in range(4+1):\n",
    "    print(f'P(n={n}) = {Pn_mean[n]:0.4f} +/- {Pn_err[n]:0.4f}')"
   ]
  },
  {
   "cell_type": "code",
   "execution_count": null,
   "metadata": {},
   "outputs": [],
   "source": []
  },
  {
   "cell_type": "code",
   "execution_count": null,
   "metadata": {},
   "outputs": [],
   "source": []
  }
 ],
 "metadata": {
  "kernelspec": {
   "display_name": "Python 3",
   "language": "python",
   "name": "python3"
  },
  "language_info": {
   "codemirror_mode": {
    "name": "ipython",
    "version": 3
   },
   "file_extension": ".py",
   "mimetype": "text/x-python",
   "name": "python",
   "nbconvert_exporter": "python",
   "pygments_lexer": "ipython3",
   "version": "3.7.9"
  }
 },
 "nbformat": 4,
 "nbformat_minor": 4
}
