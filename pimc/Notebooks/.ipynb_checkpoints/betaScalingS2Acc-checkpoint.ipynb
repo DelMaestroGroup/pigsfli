{
 "cells": [
  {
   "cell_type": "code",
   "execution_count": 8,
   "metadata": {},
   "outputs": [],
   "source": [
    "import numpy as np\n",
    "import matplotlib.pyplot as plt"
   ]
  },
  {
   "cell_type": "code",
   "execution_count": 9,
   "metadata": {},
   "outputs": [],
   "source": [
    "colors = ['salmon','dodgerblue','mediumseagreen']\n",
    "colors = ['#FFA0A0','#1e90ff','#3cb371']\n",
    "colors_light = ['#FFEDED','#6BDDFF','#89FFBE']"
   ]
  },
  {
   "cell_type": "markdown",
   "metadata": {},
   "source": [
    "# N=8"
   ]
  },
  {
   "cell_type": "code",
   "execution_count": 10,
   "metadata": {},
   "outputs": [],
   "source": [
    "# Exact S2 from ED\n",
    "S2_SF_exact = 0.012284605416158443   # U/t=0.5\n",
    "S2_PT_exact = 0.04786463276686823    # U/t=3.3\n",
    "S2_MOTT_exact = 0.04604484764699668  # U/t=10.0"
   ]
  },
  {
   "cell_type": "code",
   "execution_count": 11,
   "metadata": {},
   "outputs": [],
   "source": [
    "# U/t=10.0\n",
    "betas = np.array([0.6, 0.7, 0.8, 0.9, 1.0, 1.15, 1.3, 1.5, 1.75, 2.0, 2.5, 3.0, 3.5, 4.0])\n",
    "S2_MOTT = np.array([0.019634977838567498, 0.02573539478828623, 0.0318984723866677, 0.03605762420217672, 0.039612335779582966, 0.042922128956308626, 0.04475196561379139, 0.04542812304709463, 0.046152195584211776, 0.04604982979557657, 0.0456942665547006, 0.046152175770162174, 0.04589199939902582, 0.04656003163227767])\n",
    "S2_MOTT_err = np.array([0.00017098395591251054, 0.0001634153204719166, 0.0002580014329667229, 0.00039608557654441536, 0.00016052130250228904, 0.00020962970825152575, 0.00016093510486396432, 0.00020221464527725338, 0.00020006717268469232, 0.00020048951210443122, 0.00021140795986117076, 0.00027591703553624775, 0.0003271906339090475, 0.00027939736123813155])\n",
    "\n",
    "# Calculate relative error between exact and estimate S2\n",
    "S2_MOTT_relErr = np.abs((S2_MOTT-S2_MOTT_exact)/S2_MOTT_exact)\n",
    "S2_MOTT_relErr_err = np.abs(S2_MOTT_err / S2_MOTT_exact)\n",
    "\n",
    "# U/t=0.5\n",
    "S2_SF = np.array([0.00023590306773289195, -0.0005368570588189817, -0.0005961829550495601, -0.0003949665719199818, -0.0010377680938444698, -0.0009661718375910044, -0.0008408290789074545, -2.158494648536928e-06, 0.001250618403307835, 0.002167438708127329, 0.005171083013608871, 0.007495716934567132, 0.009097004826818592, 0.010106469287062717])\n",
    "S2_SF_err = np.array([0.00012482395087322904, 0.00011765330651818501, 0.00020224117532998486, 0.0003294049537086368, 0.00012125076872941885, 0.00017618936738424132, 0.00013261502769529836, 0.00014743821611171208, 0.00015970778225233217, 0.0001621980686921876, 0.0001337963847401633, 0.00014509604966738408, 0.00016069635058058208, 0.00019499769394809146])\n",
    "\n",
    "# Calculate relative error between exact and estimate S2\n",
    "S2_SF_relErr = np.abs((S2_SF-S2_SF_exact)/S2_SF_exact)\n",
    "S2_SF_relErr_err = np.abs(S2_SF_err / S2_SF_exact)\n",
    "\n",
    "# U/t=3.3\n",
    "S2_PT = np.array([0.004424156392910229, 0.007055902480479701, 0.010946867432215127, 0.014263789080734807, 0.017557083707481082, 0.022233610375625976, 0.026448783193629304, 0.031573355343046755, 0.03596173963811227, 0.0392836677416325, 0.04423902195051682, 0.04571571736058756, 0.046674592775072694, 0.04789191845986924])\n",
    "S2_PT_err = np.array([0.00017871492471713287, 0.00016652316653168345, 0.00015912739664037648, 0.00016345051009567454, 0.0001960971411348087, 0.00017335922599662486, 0.00018302642651308953, 0.00018872371020988837, 0.0001996842147257736, 0.0002207700013874264, 0.0002509940902513648, 0.00027254341226113087, 0.00026979549396222906, 0.00028533125839561626])\n",
    "\n",
    "# Calculate relative error between exact and estimate S2\n",
    "S2_PT_relErr = np.abs((S2_PT-S2_PT_exact)/S2_PT_exact)\n",
    "S2_PT_relErr_err = np.abs(S2_PT_err / S2_PT_exact)"
   ]
  },
  {
   "cell_type": "code",
   "execution_count": 22,
   "metadata": {},
   "outputs": [
    {
     "data": {
      "image/png": "[encoded data removed]",
      "text/plain": [
       "<Figure size 432x288 with 1 Axes>"
      ]
     },
     "metadata": {
      "needs_background": "light"
     },
     "output_type": "display_data"
    }
   ],
   "source": [
    "fig,ax1 = plt.subplots()\n",
    "# ax1.set_yscale(\"log\")\n",
    "\n",
    "# U/t=10.0\n",
    "ax1.errorbar(betas,S2_MOTT_relErr, yerr=S2_MOTT_relErr_err, fmt='.', capsize=5,\n",
    "            label=r'$U/t=10.0$',color=colors[0],mfc=colors_light[0],marker='s',zorder=1)\n",
    "# U/t=3.3\n",
    "ax1.errorbar(betas,S2_PT_relErr, yerr=S2_PT_relErr_err, fmt='.', capsize=5,\n",
    "            label=r'$U/t=3.3$',color=colors[1],mfc=colors_light[1],marker='o',zorder=2)\n",
    "# U/t=0.5\n",
    "ax1.errorbar(betas,S2_SF_relErr, yerr=S2_SF_relErr_err, fmt='.', capsize=5,\n",
    "            label=r'$U/t=0.5$',color=colors[2],mfc=colors_light[2],marker='^',zorder=3)\n",
    "\n",
    "ax1.set_ylabel(r'$\\rm{Relative} \\; \\rm{Error} \\; \\langle S_2^{\\rm{acc}} \\rangle$')\n",
    "ax1.set_xlabel(r'$\\beta$')\n",
    "# ax1.annotate(r\"$M=8,N=8,\\ell=4$\",(0.4,0.50+.30),xycoords='figure fraction')\n",
    "# ax1.annotate(r\"$U=10.000000$\",(0.60,0.40+.30),xycoords='figure fraction')\n",
    "ax1.axhline(0,color=\"#888888\",zorder=-1)\n",
    "ax1.set_xlim(betas[0]-0.01*betas[0],betas[-1]+0.01*betas[-1])\n",
    "ax1.tick_params(direction='in')\n",
    "\n",
    "# Set plot limits\n",
    "ax1.set_xlim(np.min(betas)*0.99,np.max(betas)*1.03)\n",
    "# ax.set_ylim(np.min()*0.95,np.max(S2__beta1)*1.05);\n",
    "\n",
    "# # Perform linear fit to ln(y) vs x:\n",
    "# m,lnB = np.polyfit(betas[9:],np.log(S2_PT_relErr)[9:],deg=1)\n",
    "# B = np.exp(lnB)\n",
    "\n",
    "# betas_fit = np.linspace(betas[9],6.0,1000)\n",
    "# ax1.plot(betas_fit,B*np.exp(m*betas_fit))\n",
    "# ax1.annotate(r\"$fit: %.4f e^{%.4f \\beta}$\"%(B,m),(0.25,0.30+.0),xycoords='figure fraction')\n",
    "\n",
    "# Set legend\n",
    "plt.legend(frameon=False)\n",
    "\n",
    "# Save figure\n",
    "plt.savefig(\"relativeErrorsS2acc_N8.pdf\",dpi=400)\n",
    "plt.savefig(\"relativeErrorsS2acc_N8.png\",dpi=400)\n",
    "plt.show()"
   ]
  },
  {
   "cell_type": "code",
   "execution_count": null,
   "metadata": {},
   "outputs": [],
   "source": []
  },
  {
   "cell_type": "code",
   "execution_count": null,
   "metadata": {},
   "outputs": [],
   "source": []
  },
  {
   "cell_type": "code",
   "execution_count": null,
   "metadata": {},
   "outputs": [],
   "source": []
  }
 ],
 "metadata": {
  "kernelspec": {
   "display_name": "Python 3",
   "language": "python",
   "name": "python3"
  },
  "language_info": {
   "codemirror_mode": {
    "name": "ipython",
    "version": 3
   },
   "file_extension": ".py",
   "mimetype": "text/x-python",
   "name": "python",
   "nbconvert_exporter": "python",
   "pygments_lexer": "ipython3",
   "version": "3.8.5"
  }
 },
 "nbformat": 4,
 "nbformat_minor": 4
}
