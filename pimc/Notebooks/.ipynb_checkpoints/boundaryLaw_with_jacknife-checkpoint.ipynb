{
 "cells": [
  {
   "cell_type": "code",
   "execution_count": 211,
   "metadata": {},
   "outputs": [],
   "source": [
    "import matplotlib.pyplot as plt\n",
    "import numpy as np"
   ]
  },
  {
   "cell_type": "code",
   "execution_count": 212,
   "metadata": {},
   "outputs": [],
   "source": [
    "np.set_printoptions(precision=8)"
   ]
  },
  {
   "cell_type": "markdown",
   "metadata": {},
   "source": [
    "### $\\beta$-scaling (but the original estimator)"
   ]
  },
  {
   "cell_type": "code",
   "execution_count": 213,
   "metadata": {},
   "outputs": [
    {
     "data": {
      "text/plain": [
       "110"
      ]
     },
     "execution_count": 213,
     "metadata": {},
     "output_type": "execute_result"
    }
   ],
   "source": [
    "data = np.loadtxt(\"/Users/ecasiano/Xcode/pimc/pimc/Big/2D_32_1024_20_16.666667_1.000000_4.000000_1000_SWAP_42.dat\")\n",
    "np.shape(data)\n",
    "data[:4]\n",
    "data.shape[0]"
   ]
  },
  {
   "cell_type": "code",
   "execution_count": 214,
   "metadata": {},
   "outputs": [],
   "source": [
    "P = np.sum(data,axis=0)"
   ]
  },
  {
   "cell_type": "code",
   "execution_count": 215,
   "metadata": {},
   "outputs": [],
   "source": [
    "pj = np.zeros(data.shape)"
   ]
  },
  {
   "cell_type": "code",
   "execution_count": 216,
   "metadata": {},
   "outputs": [],
   "source": [
    "for i in range(data.shape[1]):\n",
    "    pj[:,i]=P[i]"
   ]
  },
  {
   "cell_type": "code",
   "execution_count": 217,
   "metadata": {},
   "outputs": [],
   "source": [
    "N_rows = data.shape[0]\n",
    "pj_bar = (pj-data)/(N_rows-1)"
   ]
  },
  {
   "cell_type": "code",
   "execution_count": 218,
   "metadata": {},
   "outputs": [],
   "source": [
    "D = 2\n",
    "l_max = 20\n",
    "m_max = l_max**D\n",
    "S = np.zeros(m_max+1)\n",
    "S_err = np.zeros(m_max+1)\n",
    "for m in range(m_max+1):\n",
    "    S_jacknifed = -np.log(pj_bar[:,m]/pj_bar[:,0])\n",
    "    S[m] = np.mean(S_jacknifed)\n",
    "    S_err[m] = np.sqrt(N_rows-1)*np.std(S_jacknifed)"
   ]
  },
  {
   "cell_type": "markdown",
   "metadata": {},
   "source": [
    "### Entanglement Boundary Law"
   ]
  },
  {
   "cell_type": "code",
   "execution_count": 219,
   "metadata": {},
   "outputs": [
    {
     "data": {
      "text/plain": [
       "array([  0,  20,  40,  60,  80, 100, 120, 140, 160, 180, 200, 220, 240,\n",
       "       260, 280, 300, 320, 340, 360, 380, 400])"
      ]
     },
     "execution_count": 219,
     "metadata": {},
     "output_type": "execute_result"
    }
   ],
   "source": [
    "perimeters = np.zeros(l_max+1)\n",
    "widths = np.zeros(l_max+1)\n",
    "for width in range(l_max+1):\n",
    "    perimeters[width] = 2*(width+l_max)\n",
    "    widths[width] = width\n",
    "perimeters[0] = 0\n",
    "perimeters = perimeters.astype(int)\n",
    "perimeters\n",
    "\n",
    "boundary_sizes = np.arange(0,l_max+1,1)\n",
    "boundary_sizes,(widths*l_max).astype(int)\n",
    "widths = widths.astype(int)\n",
    "widths_indices = widths*l_max\n",
    "widths_indices"
   ]
  },
  {
   "cell_type": "code",
   "execution_count": 223,
   "metadata": {},
   "outputs": [
    {
     "data": {
      "image/png": "[encoded data removed]",
      "text/plain": [
       "<Figure size 432x288 with 1 Axes>"
      ]
     },
     "metadata": {
      "needs_background": "light"
     },
     "output_type": "display_data"
    }
   ],
   "source": [
    "fig,ax1 = plt.subplots()\n",
    "plt.errorbar(widths[1:], S[widths_indices][1:], yerr=S_err[widths_indices][1:], fmt='.', capsize=3);\n",
    "# plt.errorbar(widths.astype(int), S[boundary_sizes], yerr=S_err[boundary_sizes], fmt='.', capsize=3);\n",
    "# ax1.plot(betas,S2s,color='lightskyblue')\n",
    "ax1.set_ylabel(r'$S_2$')\n",
    "ax1.set_xlabel(r'$\\rm{rectangle \\, width}$')\n",
    "# # ax1.axhline(K_exact,color='#cccccc',zorder=-10)\n",
    "ax1.annotate(r\"$L^2 =32 \\times 32 = 1024 = N$\",(0.55,0.35),xycoords='figure fraction')\n",
    "ax1.annotate(r\"$\\ell^2=20 \\times 20$\",(0.55,0.30),xycoords='figure fraction')\n",
    "ax1.annotate(r\"$U=16.666667,\\beta=4.0$\",(0.55,0.25),xycoords='figure fraction')\n",
    "# # ax1.annotate(r'$K_{exact}=%.4f$'%(K_exact),(0.40,0.75),xycoords='figure fraction')\n",
    "# ax1.annotate(r'$\\langle K \\rangle = %.4f \\pm %.4f$'%(K_pimc,error),(0.40,0.70),xycoords='figure fraction')\n",
    "# ax1.tick_params(axis='both',direction='in')\n",
    "ax1.set_xticks(widths[::2])\n",
    "plt.savefig(\"boundary_law_scaling.pdf\")"
   ]
  },
  {
   "cell_type": "code",
   "execution_count": 221,
   "metadata": {},
   "outputs": [
    {
     "name": "stdout",
     "output_type": "stream",
     "text": [
      "S(m=00) = 0.000000 +/- 0.000000\n",
      "S(m=01) = 2.262760 +/- 0.049212\n",
      "S(m=02) = 2.663602 +/- 0.085297\n",
      "S(m=03) = 2.924007 +/- 0.121167\n",
      "S(m=04) = 2.871264 +/- 0.133079\n",
      "S(m=05) = 3.053168 +/- 0.145945\n",
      "S(m=06) = 3.238997 +/- 0.152641\n",
      "S(m=07) = 3.529489 +/- 0.175420\n",
      "S(m=08) = 3.426383 +/- 0.192112\n",
      "S(m=09) = 3.575161 +/- 0.191633\n",
      "S(m=10) = 3.714785 +/- 0.201033\n",
      "S(m=11) = 3.799556 +/- 0.201604\n",
      "S(m=12) = 3.845207 +/- 0.207652\n",
      "S(m=13) = 4.224500 +/- 0.239628\n",
      "S(m=14) = 4.178513 +/- 0.236646\n",
      "S(m=15) = 4.293942 +/- 0.255271\n",
      "S(m=16) = 4.396100 +/- 0.261337\n",
      "S(m=17) = 4.320908 +/- 0.307381\n",
      "S(m=18) = 4.467233 +/- 0.355727\n",
      "S(m=19) = 4.554802 +/- 0.305187\n",
      "S(m=20) = 5.144383 +/- 0.467122\n"
     ]
    }
   ],
   "source": [
    "for m,w in enumerate(widths_indices):\n",
    "    print(f\"S(m={m:02d}) = {S[w]:0.6f} +/- {S_err[w]:0.6f}\")"
   ]
  },
  {
   "cell_type": "code",
   "execution_count": null,
   "metadata": {},
   "outputs": [],
   "source": []
  },
  {
   "cell_type": "code",
   "execution_count": null,
   "metadata": {},
   "outputs": [],
   "source": []
  },
  {
   "cell_type": "code",
   "execution_count": null,
   "metadata": {},
   "outputs": [],
   "source": []
  }
 ],
 "metadata": {
  "kernelspec": {
   "display_name": "Python 3",
   "language": "python",
   "name": "python3"
  },
  "language_info": {
   "codemirror_mode": {
    "name": "ipython",
    "version": 3
   },
   "file_extension": ".py",
   "mimetype": "text/x-python",
   "name": "python",
   "nbconvert_exporter": "python",
   "pygments_lexer": "ipython3",
   "version": "3.7.9"
  }
 },
 "nbformat": 4,
 "nbformat_minor": 4
}
