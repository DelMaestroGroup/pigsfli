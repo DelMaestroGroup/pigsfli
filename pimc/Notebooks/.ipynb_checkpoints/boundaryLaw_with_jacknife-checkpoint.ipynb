{
 "cells": [
  {
   "cell_type": "code",
   "execution_count": 436,
   "metadata": {},
   "outputs": [],
   "source": [
    "import matplotlib.pyplot as plt\n",
    "import numpy as np"
   ]
  },
  {
   "cell_type": "code",
   "execution_count": 437,
   "metadata": {},
   "outputs": [],
   "source": [
    "np.set_printoptions(precision=8)"
   ]
  },
  {
   "cell_type": "markdown",
   "metadata": {},
   "source": [
    "### $\\beta$-scaling (but the original estimator)"
   ]
  },
  {
   "cell_type": "code",
   "execution_count": 438,
   "metadata": {},
   "outputs": [
    {
     "data": {
      "text/plain": [
       "1000"
      ]
     },
     "execution_count": 438,
     "metadata": {},
     "output_type": "execute_result"
    }
   ],
   "source": [
    "data = np.loadtxt(\"/Users/ecasiano/Xcode/pimc/pimc/Big/2D_32_1024_20_16.666667_1.000000_4.000000_1000_SWAP_42.dat\")\n",
    "# data = np.loadtxt(\"/Users/ecasiano/Xcode/pimc/pimc/Big/2D_32_1024_20_16.666667_1.000000_4.000000_10000_1000_SWAP_42_strip.dat\")\n",
    "np.shape(data)\n",
    "data[:4]\n",
    "data.shape[0]"
   ]
  },
  {
   "cell_type": "code",
   "execution_count": 439,
   "metadata": {},
   "outputs": [],
   "source": [
    "P = np.sum(data,axis=0)"
   ]
  },
  {
   "cell_type": "code",
   "execution_count": 440,
   "metadata": {},
   "outputs": [],
   "source": [
    "pj = np.zeros(data.shape)"
   ]
  },
  {
   "cell_type": "code",
   "execution_count": 441,
   "metadata": {},
   "outputs": [],
   "source": [
    "for i in range(data.shape[1]):\n",
    "    pj[:,i]=P[i]"
   ]
  },
  {
   "cell_type": "code",
   "execution_count": 442,
   "metadata": {},
   "outputs": [],
   "source": [
    "N_rows = data.shape[0]\n",
    "pj_bar = (pj-data)/(N_rows-1)"
   ]
  },
  {
   "cell_type": "code",
   "execution_count": 443,
   "metadata": {},
   "outputs": [],
   "source": [
    "D = 2\n",
    "# L = 32\n",
    "l_max = 20\n",
    "m_max = l_max**D # square\n",
    "# m_max = l_max*L # strip\n",
    "S = np.zeros(m_max+1)\n",
    "S_err = np.zeros(m_max+1)\n",
    "for m in range(m_max+1):\n",
    "    S_jacknifed = -np.log(pj_bar[:,m]/pj_bar[:,0])\n",
    "    S[m] = np.mean(S_jacknifed)\n",
    "    S_err[m] = np.sqrt(N_rows-1)*np.std(S_jacknifed)\n",
    "S_square = S\n",
    "S_err_square = S_err"
   ]
  },
  {
   "cell_type": "markdown",
   "metadata": {},
   "source": [
    "### Strip geometry"
   ]
  },
  {
   "cell_type": "code",
   "execution_count": 444,
   "metadata": {},
   "outputs": [
    {
     "data": {
      "text/plain": [
       "912"
      ]
     },
     "execution_count": 444,
     "metadata": {},
     "output_type": "execute_result"
    }
   ],
   "source": [
    "# data = np.loadtxt(\"/Users/ecasiano/Xcode/pimc/pimc/Big/2D_32_1024_20_16.666667_1.000000_4.000000_1000_SWAP_42.dat\")\n",
    "data = np.loadtxt(\"/Users/ecasiano/Xcode/pimc/pimc/Big/2D_32_1024_20_16.666667_1.000000_4.000000_10000_1000_SWAP_42_strip.dat\")\n",
    "np.shape(data)\n",
    "data[:4]\n",
    "data.shape[0]"
   ]
  },
  {
   "cell_type": "code",
   "execution_count": 445,
   "metadata": {},
   "outputs": [],
   "source": [
    "P = np.sum(data,axis=0)\n",
    "pj = np.zeros(data.shape)\n",
    "for i in range(data.shape[1]):\n",
    "    pj[:,i]=P[i]\n",
    "N_rows = data.shape[0]\n",
    "pj_bar = (pj-data)/(N_rows-1)"
   ]
  },
  {
   "cell_type": "code",
   "execution_count": 446,
   "metadata": {},
   "outputs": [],
   "source": [
    "D = 2\n",
    "L = 32\n",
    "l_max = 20\n",
    "# m_max = l_max**D # square\n",
    "m_max = l_max*L # strip\n",
    "S = np.zeros(m_max+1)\n",
    "S_err = np.zeros(m_max+1)\n",
    "for m in range(m_max+1):\n",
    "    S_jacknifed = -np.log(pj_bar[:,m]/pj_bar[:,0])\n",
    "    S[m] = np.mean(S_jacknifed)\n",
    "    S_err[m] = np.sqrt(N_rows-1)*np.std(S_jacknifed)\n",
    "S_strip = S\n",
    "S_err_strip = S_err"
   ]
  },
  {
   "cell_type": "markdown",
   "metadata": {},
   "source": [
    "### Entanglement Boundary Law"
   ]
  },
  {
   "cell_type": "code",
   "execution_count": 447,
   "metadata": {},
   "outputs": [
    {
     "data": {
      "text/plain": [
       "(array([ 0,  1,  2,  3,  4,  5,  6,  7,  8,  9, 10, 11, 12, 13, 14, 15, 16,\n",
       "        17, 18, 19, 20]),\n",
       " array([  0,   1,   4,   9,  16,  25,  36,  49,  64,  81, 100, 121, 144,\n",
       "        169, 196, 225, 256, 289, 324, 361, 400]),\n",
       " array([  0,  32,  64,  96, 128, 160, 192, 224, 256, 288, 320, 352, 384,\n",
       "        416, 448, 480, 512, 544, 576, 608, 640]))"
      ]
     },
     "execution_count": 447,
     "metadata": {},
     "output_type": "execute_result"
    }
   ],
   "source": [
    "x = np.arange(0,l_max+1,1).astype(int)\n",
    "areas = (x*x).astype(int) # square\n",
    "areas_strip = (L*x).astype(int) # strip\n",
    "# areas = (x*L).astype(int) # strip\n",
    "x,areas,areas_strip"
   ]
  },
  {
   "cell_type": "code",
   "execution_count": 448,
   "metadata": {},
   "outputs": [
    {
     "data": {
      "image/png": "[encoded data removed]",
      "text/plain": [
       "<Figure size 432x288 with 1 Axes>"
      ]
     },
     "metadata": {
      "needs_background": "light"
     },
     "output_type": "display_data"
    }
   ],
   "source": [
    "fig,ax1 = plt.subplots()\n",
    "ax1.errorbar(x, S_strip[areas_strip], yerr=S_err_strip[areas_strip], fmt='.', capsize=3,label='strip');\n",
    "ax1.errorbar(x, S_square[areas], yerr=S_err_square[areas], fmt='.', capsize=3,label='square');\n",
    "# plt.errorbar(x.astype(int), S[boundary_sizes], yerr=S_err[boundary_sizes], fmt='.', capsize=3);\n",
    "# ax1.plot(betas,S2s,color='lightskyblue')\n",
    "ax1.set_ylabel(r'$S_2$')\n",
    "ax1.set_xlabel(r'$\\ell$')\n",
    "# # ax1.axhline(K_exact,color='#cccccc',zorder=-10)\n",
    "ax1.annotate(r\"$L^2 =32 \\times 32 = 1024 = N$\",(0.15,0.50),xycoords='figure fraction')\n",
    "# ax1.annotate(r\"$\\ell_{\\rm{max}}=20$\",(0.55,0.30),xycoords='figure fraction')\n",
    "ax1.annotate(r\"$U=16.666667,\\beta=4.0$\",(0.15,0.45),xycoords='figure fraction')\n",
    "ax1.set_xlim(0,x[-1]+0.5)\n",
    "ax1.set_ylim(0,S_square[-1]+0.5)\n",
    "ax1.tick_params(direction='in')\n",
    "plt.legend(frameon=False)\n",
    "\n",
    "# # ax1.annotate(r'$K_{exact}=%.4f$'%(K_exact),(0.40,0.75),xycoords='figure fraction')\n",
    "# ax1.annotate(r'$\\langle K \\rangle = %.4f \\pm %.4f$'%(K_pimc,error),(0.40,0.70),xycoords='figure fraction')\n",
    "# ax1.tick_params(axis='both',direction='in')\n",
    "ax1.set_xticks(x[::2])\n",
    "plt.savefig(\"boundary_law_scaling_stripANDsquare.pdf\");"
   ]
  },
  {
   "cell_type": "code",
   "execution_count": 449,
   "metadata": {},
   "outputs": [],
   "source": [
    "# for m,w in enumerate(x_indices):\n",
    "#     print(f\"S(m={m:02d}) = {S[w]:0.6f} +/- {S_err[w]:0.6f}\")"
   ]
  },
  {
   "cell_type": "markdown",
   "metadata": {},
   "source": [
    "### Same but for strip"
   ]
  },
  {
   "cell_type": "code",
   "execution_count": 435,
   "metadata": {},
   "outputs": [
    {
     "data": {
      "text/plain": [
       "873"
      ]
     },
     "execution_count": 435,
     "metadata": {},
     "output_type": "execute_result"
    }
   ],
   "source": [
    "# data = np.loadtxt(\"/Users/ecasiano/Xcode/pimc/pimc/Big/2D_32_1024_20_16.666667_1.000000_4.000000_1000_SWAP_42.dat\")\n",
    "data = np.loadtxt(\"/Users/ecasiano/Xcode/pimc/pimc/Big/2D_32_1024_20_16.666667_1.000000_4.000000_10000_1000_SWAP_42_strip.dat\")\n",
    "np.shape(data)\n",
    "data[:4]\n",
    "data.shape[0]"
   ]
  },
  {
   "cell_type": "code",
   "execution_count": 405,
   "metadata": {},
   "outputs": [],
   "source": [
    "P = np.sum(data,axis=0)\n",
    "pj = np.zeros(data.shape)\n",
    "for i in range(data.shape[1]):\n",
    "    pj[:,i]=P[i]\n",
    "\n",
    "N_rows = data.shape[0]\n",
    "pj_bar = (pj-data)/(N_rows-1)"
   ]
  },
  {
   "cell_type": "code",
   "execution_count": 406,
   "metadata": {},
   "outputs": [],
   "source": [
    "D = 2\n",
    "L = 32\n",
    "l_max = 20\n",
    "# m_max = l_max**D # square\n",
    "m_max = l_max*L # strip\n",
    "S = np.zeros(m_max+1)\n",
    "S_err = np.zeros(m_max+1)\n",
    "for m in range(m_max+1):\n",
    "    S_jacknifed = -np.log(pj_bar[:,m]/pj_bar[:,0])\n",
    "    S[m] = np.mean(S_jacknifed)\n",
    "    S_err[m] = np.sqrt(N_rows-1)*np.std(S_jacknifed)"
   ]
  },
  {
   "cell_type": "code",
   "execution_count": 374,
   "metadata": {},
   "outputs": [
    {
     "data": {
      "text/plain": [
       "(array([ 0,  1,  2,  3,  4,  5,  6,  7,  8,  9, 10, 11, 12, 13, 14, 15, 16,\n",
       "        17, 18, 19, 20]),\n",
       " array([  0,  32,  64,  96, 128, 160, 192, 224, 256, 288, 320, 352, 384,\n",
       "        416, 448, 480, 512, 544, 576, 608, 640]))"
      ]
     },
     "execution_count": 374,
     "metadata": {},
     "output_type": "execute_result"
    }
   ],
   "source": [
    "x = np.arange(0,l_max+1,1).astype(int)\n",
    "# areas = (x*x).astype(int) # square\n",
    "areas = (x*L).astype(int) # strip\n",
    "x,areas"
   ]
  },
  {
   "cell_type": "code",
   "execution_count": 375,
   "metadata": {},
   "outputs": [
    {
     "data": {
      "image/png": "[encoded data removed]",
      "text/plain": [
       "<Figure size 432x288 with 1 Axes>"
      ]
     },
     "metadata": {
      "needs_background": "light"
     },
     "output_type": "display_data"
    }
   ],
   "source": [
    "fig,ax2 = plt.subplots()\n",
    "ax2.errorbar(x, S[areas], yerr=S_err[areas], fmt='.', capsize=3);"
   ]
  },
  {
   "cell_type": "code",
   "execution_count": null,
   "metadata": {},
   "outputs": [],
   "source": []
  },
  {
   "cell_type": "code",
   "execution_count": null,
   "metadata": {},
   "outputs": [],
   "source": []
  },
  {
   "cell_type": "code",
   "execution_count": null,
   "metadata": {},
   "outputs": [],
   "source": []
  },
  {
   "cell_type": "code",
   "execution_count": null,
   "metadata": {},
   "outputs": [],
   "source": []
  }
 ],
 "metadata": {
  "kernelspec": {
   "display_name": "Python 3",
   "language": "python",
   "name": "python3"
  },
  "language_info": {
   "codemirror_mode": {
    "name": "ipython",
    "version": 3
   },
   "file_extension": ".py",
   "mimetype": "text/x-python",
   "name": "python",
   "nbconvert_exporter": "python",
   "pygments_lexer": "ipython3",
   "version": "3.7.9"
  }
 },
 "nbformat": 4,
 "nbformat_minor": 4
}
