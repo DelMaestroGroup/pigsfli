{
 "cells": [
  {
   "cell_type": "markdown",
   "metadata": {},
   "source": [
    "### 3-parameter exponential fitted $\\beta$-scaling"
   ]
  },
  {
   "cell_type": "markdown",
   "metadata": {},
   "source": [
    "Want to fit observable data as a function of $\\beta$ to the form:\n",
    "$$\n",
    "\\mathcal{O}(\\beta) = \\mathcal{O}_{\\beta\\to\\infty} + C_1 e^{-C_2 \\beta}\n",
    "$$"
   ]
  },
  {
   "cell_type": "markdown",
   "metadata": {},
   "source": [
    "where $\\mathcal{O}_{\\beta\\to\\infty}$,$C_1$, and $C_2$ are fitting parameters. The $\\mathcal{O}_{\\beta\\to\\infty}$ parameter will give a large $\\beta$ extrapolation of the observable in question. Here, we will focus on the second Rényi entanglement entropy $S_2$."
   ]
  },
  {
   "cell_type": "code",
   "execution_count": 198,
   "metadata": {},
   "outputs": [],
   "source": [
    "import numpy as np\n",
    "import matplotlib.pyplot as plt\n",
    "import scipy \n",
    "from scipy import optimize"
   ]
  },
  {
   "cell_type": "markdown",
   "metadata": {},
   "source": [
    "Define the exponential model"
   ]
  },
  {
   "cell_type": "code",
   "execution_count": 199,
   "metadata": {},
   "outputs": [],
   "source": [
    "def exponential(x, c1, c2, c3):\n",
    "    return c3 + c1*np.exp(-x*c2)"
   ]
  },
  {
   "cell_type": "markdown",
   "metadata": {},
   "source": [
    "Feed data points (obtained from a separate script)"
   ]
  },
  {
   "cell_type": "code",
   "execution_count": 219,
   "metadata": {},
   "outputs": [],
   "source": [
    "# Define data points\n",
    "x_array = np.array([1,2,4,8,16,32]) # betas\n",
    "y_array_exp = np.array([2.576307140574922, 2.3343548168200643, 2.0456394989015236, 1.7787633290633356, 1.2009223750515656, 1.0000371792405751])\n",
    "\n",
    "sigmas = np.array([0.015823911272018296, 0.01760741324515481, 0.019430967756887955, 0.02510416339097551, 0.0435387752262529, 0.12130151705665107])"
   ]
  },
  {
   "cell_type": "code",
   "execution_count": 220,
   "metadata": {},
   "outputs": [
    {
     "data": {
      "text/plain": [
       "Text(0.5, 0, '$\\\\beta$')"
      ]
     },
     "execution_count": 220,
     "metadata": {},
     "output_type": "execute_result"
    },
    {
     "data": {
      "image/png": "[encoded data removed]",
      "text/plain": [
       "<Figure size 432x288 with 1 Axes>"
      ]
     },
     "metadata": {
      "needs_background": "light"
     },
     "output_type": "display_data"
    }
   ],
   "source": [
    "# Plot data\n",
    "plt.errorbar(x_array,y_array_exp, yerr=sigmas,color='red',marker='o',label='data',fmt='.',\n",
    "            capsize=5)\n",
    "plt.ylabel(r\"$S_2$\")\n",
    "plt.xlabel(r\"$\\beta$\")"
   ]
  },
  {
   "cell_type": "markdown",
   "metadata": {},
   "source": [
    "Perform exponential fit to data with Scipy curve_fit"
   ]
  },
  {
   "cell_type": "code",
   "execution_count": 221,
   "metadata": {},
   "outputs": [],
   "source": [
    "U = 4.843100"
   ]
  },
  {
   "cell_type": "code",
   "execution_count": 243,
   "metadata": {},
   "outputs": [],
   "source": [
    "popt_exponential, pcov_exponential = scipy.optimize.curve_fit(exponential, x_array[0:], y_array_exp[0:],sigma=sigmas[0:],p0=[0.9,0.02*U,y_array_exp[-1]])\n",
    "\n"
   ]
  },
  {
   "cell_type": "code",
   "execution_count": 244,
   "metadata": {},
   "outputs": [
    {
     "data": {
      "text/plain": [
       "array([1.72647226, 0.11658255, 1.00608191])"
      ]
     },
     "execution_count": 244,
     "metadata": {},
     "output_type": "execute_result"
    }
   ],
   "source": [
    "popt_exponential"
   ]
  },
  {
   "cell_type": "code",
   "execution_count": 245,
   "metadata": {},
   "outputs": [
    {
     "data": {
      "text/plain": [
       "array([[ 0.06387975, -0.00784631, -0.06929753],\n",
       "       [-0.00784631,  0.00140095,  0.00986874],\n",
       "       [-0.06929753,  0.00986874,  0.08025044]])"
      ]
     },
     "execution_count": 245,
     "metadata": {},
     "output_type": "execute_result"
    }
   ],
   "source": [
    "pcov_exponential"
   ]
  },
  {
   "cell_type": "code",
   "execution_count": null,
   "metadata": {},
   "outputs": [],
   "source": []
  },
  {
   "cell_type": "code",
   "execution_count": 246,
   "metadata": {},
   "outputs": [],
   "source": [
    "# Extract fit parameters\n",
    "c1,c2,c3 = popt_exponential"
   ]
  },
  {
   "cell_type": "code",
   "execution_count": 247,
   "metadata": {},
   "outputs": [
    {
     "data": {
      "image/png": "[encoded data removed]",
      "text/plain": [
       "<Figure size 432x288 with 1 Axes>"
      ]
     },
     "metadata": {
      "needs_background": "light"
     },
     "output_type": "display_data"
    }
   ],
   "source": [
    "# Perform the fit\n",
    "betas_fit = np.linspace(min(x_array),max(x_array)*1,1000)\n",
    "y_fit = exponential(betas_fit,c1,c2,c3)\n",
    "\n",
    "plt.plot(betas_fit,y_fit,label='fit')\n",
    "plt.errorbar(x_array,y_array_exp, yerr=sigmas,color='red',marker='o',label='data',fmt='.',\n",
    "            capsize=5)\n",
    "plt.ylabel(r\"$S_2$\")\n",
    "plt.xlabel(r\"$\\beta$\")\n",
    "plt.legend(frameon=False);\n",
    "\n",
    "# plt.axhline(1.4313869097241088,color=\"#999999\",zorder=-1)\n",
    "\n",
    "# plt.savefig(\"U0.5_bs10000.png\",dpi=300)"
   ]
  },
  {
   "cell_type": "code",
   "execution_count": 248,
   "metadata": {},
   "outputs": [],
   "source": [
    "c3 = popt_exponential[2]\n",
    "c3_err = np.sqrt(np.diag(pcov_exponential)[2])"
   ]
  },
  {
   "cell_type": "code",
   "execution_count": 249,
   "metadata": {},
   "outputs": [
    {
     "name": "stdout",
     "output_type": "stream",
     "text": [
      "S2 (extrapolated) \n",
      "\n",
      "1.006082 +/- 0.283285\n"
     ]
    }
   ],
   "source": [
    "print(\"S2 (extrapolated) \\n\")\n",
    "print(f\"{c3:0.6f} +/- {c3_err:0.6f}\")"
   ]
  },
  {
   "cell_type": "code",
   "execution_count": null,
   "metadata": {},
   "outputs": [],
   "source": []
  },
  {
   "cell_type": "code",
   "execution_count": 217,
   "metadata": {},
   "outputs": [],
   "source": [
    "Us = np.array([0.500000,\n",
    "0.730000,\n",
    "1.065800,\n",
    "1.556100, \n",
    "2.272000, \n",
    "3.300000, \n",
    "4.843100, \n",
    "7.071100,   \n",
    "10.323900,\n",
    "16.666667, \n",
    "22.007100, \n",
    "32.130800,\n",
    "46.911700,\n",
    "68.492100, \n",
    "100.000000])"
   ]
  },
  {
   "cell_type": "code",
   "execution_count": null,
   "metadata": {},
   "outputs": [],
   "source": [
    "c3s = np.array([\n",
    "])"
   ]
  }
 ],
 "metadata": {
  "kernelspec": {
   "display_name": "Python 3",
   "language": "python",
   "name": "python3"
  },
  "language_info": {
   "codemirror_mode": {
    "name": "ipython",
    "version": 3
   },
   "file_extension": ".py",
   "mimetype": "text/x-python",
   "name": "python",
   "nbconvert_exporter": "python",
   "pygments_lexer": "ipython3",
   "version": "3.8.5"
  }
 },
 "nbformat": 4,
 "nbformat_minor": 4
}
