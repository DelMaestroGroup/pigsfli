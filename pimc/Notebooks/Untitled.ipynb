{
 "cells": [
  {
   "cell_type": "code",
   "execution_count": 895,
   "id": "dynamic-computer",
   "metadata": {},
   "outputs": [],
   "source": [
    "import numpy as np\n",
    "import matplotlib.pyplot as plt"
   ]
  },
  {
   "cell_type": "code",
   "execution_count": 932,
   "id": "verbal-register",
   "metadata": {},
   "outputs": [],
   "source": [
    "seed = 210\n",
    "V_data = np.loadtxt(\"/Users/ecasiano/Desktop/Data/1D_4_4_2_3.300000_1.000000_6.000000_10000_1000/1D_4_4_2_3.300000_1.000000_6.000000_10000_1000_V_\"+str(seed)+\"_square.dat\")[:]\n",
    "K_data = np.loadtxt(\"/Users/ecasiano/Desktop/Data/1D_4_4_2_3.300000_1.000000_6.000000_10000_1000/1D_4_4_2_3.300000_1.000000_6.000000_10000_1000_K_\"+str(seed)+\"_square.dat\")[:]\n",
    "\n",
    "# V_data = np.loadtxt(\"../1D_4_4_2_3.300000_1.000000_4.000000_10000_1000_V_\"+str(seed)+\"_square.dat\")[:]\n",
    "# K_data = np.loadtxt(\"../1D_4_4_2_3.300000_1.000000_4.000000_10000_1000_K_\"+str(seed)+\"_square.dat\")[:]"
   ]
  },
  {
   "cell_type": "code",
   "execution_count": 933,
   "id": "distant-hepatitis",
   "metadata": {},
   "outputs": [
    {
     "data": {
      "text/plain": [
       "(1000, 1000)"
      ]
     },
     "execution_count": 933,
     "metadata": {},
     "output_type": "execute_result"
    }
   ],
   "source": [
    "V_data.size,K_data.size"
   ]
  },
  {
   "cell_type": "code",
   "execution_count": 934,
   "id": "available-ethernet",
   "metadata": {},
   "outputs": [
    {
     "data": {
      "text/plain": [
       "(1000, 1000)"
      ]
     },
     "execution_count": 934,
     "metadata": {},
     "output_type": "execute_result"
    }
   ],
   "source": [
    "V = V_data[~np.isnan(V_data)][:]\n",
    "K = K_data[~np.isnan(K_data)][:]\n",
    "\n",
    "V.size,K.size"
   ]
  },
  {
   "cell_type": "code",
   "execution_count": 935,
   "id": "isolated-fifty",
   "metadata": {},
   "outputs": [
    {
     "data": {
      "text/plain": [
       "(2.547096089999729, -7.029742333333334)"
      ]
     },
     "execution_count": 935,
     "metadata": {},
     "output_type": "execute_result"
    }
   ],
   "source": [
    "np.mean(V_data),np.mean(K_data)"
   ]
  },
  {
   "cell_type": "code",
   "execution_count": 936,
   "id": "cheap-competition",
   "metadata": {},
   "outputs": [
    {
     "data": {
      "text/plain": [
       "(2.547096089999729, -7.029742333333334)"
      ]
     },
     "execution_count": 936,
     "metadata": {},
     "output_type": "execute_result"
    }
   ],
   "source": [
    "np.mean(V),np.mean(K)"
   ]
  },
  {
   "cell_type": "code",
   "execution_count": 937,
   "id": "silent-bunch",
   "metadata": {},
   "outputs": [],
   "source": [
    "num_samples = np.arange(1,V.size+1)\n",
    "V_cumsum = np.cumsum(V)\n",
    "V_running_avg = np.divide(V_cumsum,num_samples)\n",
    "\n",
    "num_samples_K = np.arange(1,K.size+1)\n",
    "K_cumsum = np.cumsum(K)\n",
    "K_running_avg = np.divide(K_cumsum,num_samples)"
   ]
  },
  {
   "cell_type": "code",
   "execution_count": 938,
   "id": "liquid-uzbekistan",
   "metadata": {},
   "outputs": [
    {
     "data": {
      "text/plain": [
       "2.5470960899997306"
      ]
     },
     "execution_count": 938,
     "metadata": {},
     "output_type": "execute_result"
    },
    {
     "data": {
      "image/png": "[encoded data removed]",
      "text/plain": [
       "<Figure size 432x288 with 1 Axes>"
      ]
     },
     "metadata": {
      "needs_background": "light"
     },
     "output_type": "display_data"
    }
   ],
   "source": [
    "plt.plot(num_samples[:],V_running_avg[:])\n",
    "plt.annotate(r\"$Seed: %d$\"%seed,(0.66,0.66),xycoords='figure fraction')\n",
    "plt.annotate(r\"$V[-1]: %.4f$\"%V_running_avg[-1],(0.66,0.59),xycoords='figure fraction')\n",
    "plt.axhline(2.548976013564859)\n",
    "# plt.axhline(5.3066065551194335)\n",
    "plt.savefig(\"running_average_V_seed\"+str(seed)+\".png\",dpi=400)\n",
    "V_running_avg[-1]"
   ]
  },
  {
   "cell_type": "code",
   "execution_count": 939,
   "id": "delayed-prior",
   "metadata": {},
   "outputs": [
    {
     "data": {
      "text/plain": [
       "-7.0297423333333375"
      ]
     },
     "execution_count": 939,
     "metadata": {},
     "output_type": "execute_result"
    },
    {
     "data": {
      "image/png": "[encoded data removed]",
      "text/plain": [
       "<Figure size 432x288 with 1 Axes>"
      ]
     },
     "metadata": {
      "needs_background": "light"
     },
     "output_type": "display_data"
    }
   ],
   "source": [
    "plt.plot(num_samples[:],K_running_avg[:])\n",
    "plt.annotate(r\"$Seed: %d$\"%seed,(0.66,0.66),xycoords='figure fraction')\n",
    "plt.annotate(r\"$K[-1]: %.4f$\"%K_running_avg[-1],(0.66,0.59),xycoords='figure fraction')\n",
    "plt.axhline(-7.032152613680843)\n",
    "# plt.axhline(-13.817614029746316)\n",
    "plt.savefig(\"running_average_K_seed\"+str(seed)+\".png\",dpi=400)\n",
    "K_running_avg[-1]"
   ]
  },
  {
   "cell_type": "code",
   "execution_count": 940,
   "id": "asian-looking",
   "metadata": {},
   "outputs": [
    {
     "data": {
      "text/plain": [
       "(-7.029742333333334, 2.547096089999729)"
      ]
     },
     "execution_count": 940,
     "metadata": {},
     "output_type": "execute_result"
    }
   ],
   "source": [
    "np.mean(K),np.mean(V)"
   ]
  },
  {
   "cell_type": "code",
   "execution_count": null,
   "id": "external-romania",
   "metadata": {},
   "outputs": [],
   "source": []
  },
  {
   "cell_type": "code",
   "execution_count": null,
   "id": "noted-psychiatry",
   "metadata": {},
   "outputs": [],
   "source": []
  },
  {
   "cell_type": "code",
   "execution_count": null,
   "id": "consecutive-wrist",
   "metadata": {},
   "outputs": [],
   "source": []
  },
  {
   "cell_type": "code",
   "execution_count": null,
   "id": "environmental-windows",
   "metadata": {},
   "outputs": [],
   "source": []
  },
  {
   "cell_type": "code",
   "execution_count": null,
   "id": "supposed-durham",
   "metadata": {},
   "outputs": [],
   "source": []
  }
 ],
 "metadata": {
  "kernelspec": {
   "display_name": "Python 3",
   "language": "python",
   "name": "python3"
  },
  "language_info": {
   "codemirror_mode": {
    "name": "ipython",
    "version": 3
   },
   "file_extension": ".py",
   "mimetype": "text/x-python",
   "name": "python",
   "nbconvert_exporter": "python",
   "pygments_lexer": "ipython3",
   "version": "3.7.10"
  }
 },
 "nbformat": 4,
 "nbformat_minor": 5
}
