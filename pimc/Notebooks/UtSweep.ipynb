{
 "cells": [
  {
   "cell_type": "markdown",
   "metadata": {},
   "source": [
    "## U/t sweep"
   ]
  },
  {
   "cell_type": "code",
   "execution_count": 1,
   "metadata": {},
   "outputs": [],
   "source": [
    "import numpy as np\n",
    "import matplotlib.pyplot as plt"
   ]
  },
  {
   "cell_type": "code",
   "execution_count": 2,
   "metadata": {},
   "outputs": [],
   "source": [
    "colors = ['salmon','dodgerblue','mediumseagreen']\n",
    "colors = ['#FFA0A0','#1e90ff','#3cb371']\n",
    "colors_light = ['#FFEDED','#6BDDFF','#89FFBE']"
   ]
  },
  {
   "cell_type": "code",
   "execution_count": 3,
   "metadata": {},
   "outputs": [],
   "source": [
    "# Load exact data\n",
    "data_ED = np.loadtxt(\"/Users/ecasiano/Desktop/PaperData/EDSweep/spatEE_gs_16_16_08.dat\")\n",
    "S2_ED = data_ED[:,4]\n",
    "U_ED = data_ED[:,0]"
   ]
  },
  {
   "cell_type": "code",
   "execution_count": 4,
   "metadata": {},
   "outputs": [],
   "source": [
    "# Simulation data for β=4.0\n",
    "U = np.array([0.500000,0.730000,1.065800,1.556100,2.272000,3.300000,4.843100,7.071100,10.323900,16.666667, 22.007100, 32.130800,46.911700,68.492100,100.000000])\n",
    "S2_beta4 = np.array([1.6868264766613954, 1.6120771761942205, 1.536038122931756, 1.4560212337634384, 1.3664474755693035, 1.2408982523129064, 0.9298155469322051, 0.3773134455495643, 0.1592995616655873, 0.058688554237845934, 0.03345359541624713, 0.01570723433024003, 0.020505659195324065, 0.0031021067762761288])\n",
    "S2_beta4_err = np.array([0.00020044954395468352, 0.0002051429266090227, 0.0001756112781378431, 0.00018164779200884013, 0.0011255663131833392, 0.0001711686047496351, 0.0001662671315359506, 0.0001734829556421395, 0.0001901101771667297, 0.00014175799869843477, 0.00013455947088369155, 0.00012303279555955492, 0.012866592880709833, 0.0002723235914914792])"
   ]
  },
  {
   "cell_type": "code",
   "execution_count": 5,
   "metadata": {},
   "outputs": [],
   "source": [
    "# Simulation data for β=2.0\n",
    "S2_beta2 = np.array([1.8051083294918644, 1.7207695003689463, 1.630186786513241, 1.5339911152021086, 1.4292868177250404, 1.3052491096563852, 1.0875673240985575, 0.5329847092736065, 0.16522482003063563, 0.05903480981091445, 0.03366471481216628, 0.015786243309651036, 0.007579541076472147, 0.004225923368733449, 0.0018783911312578359])\n",
    "S2_beta2_err = np.array([0.000177000650525815, 0.00018333473004043154, 0.00014604527034312717, 0.0001437650684056088, 0.000130142921090066, 0.00011967519663138708, 0.0001249605096223464, 0.00017457752024494473, 0.0001362038126757987, 9.86929041132866e-05, 7.82175195557874e-05, 6.17773856561838e-05, 4.863764887381229e-05, 0.0005897522278986942, 3.625634318562608e-05])"
   ]
  },
  {
   "cell_type": "code",
   "execution_count": 6,
   "metadata": {},
   "outputs": [],
   "source": [
    "# Simulation data for β=1.0\n",
    "S2_beta1 = np.array([1.9459126982871058, 1.8663652043019112, 1.7817770316186852, 1.6829784449384508, 1.5727218827926288, 1.4496066779994585, 1.2879903884638837, 1.009837532197397, 0.38478590491834364, 0.06220617866211373, 0.03380428384001455, 0.016454066356483207, 0.007657521941005984, 0.003942759689599682, 0.0021733842232976])\n",
    "S2_beta1_err = np.array([0.00013515868516109853, 0.002987146856459112, 0.00012810251041093487, 0.00012208696433348954, 0.00011234755133266266, 0.00011158615040650442, 0.0016267072685854777, 8.897923390070946e-05, 8.684285627228312e-05, 9.247630233425648e-05, 7.672325014394484e-05, 0.00046723267452857594, 3.766189477730464e-05, 3.38178421559142e-05, 3.086389870708455e-05])"
   ]
  },
  {
   "cell_type": "code",
   "execution_count": 7,
   "metadata": {},
   "outputs": [
    {
     "data": {
      "text/plain": [
       "(15, 15)"
      ]
     },
     "execution_count": 7,
     "metadata": {},
     "output_type": "execute_result"
    }
   ],
   "source": [
    "len(U),len(S2_beta2)"
   ]
  },
  {
   "cell_type": "code",
   "execution_count": 10,
   "metadata": {},
   "outputs": [
    {
     "data": {
      "image/png": "[encoded data removed]",
      "text/plain": [
       "<Figure size 432x288 with 1 Axes>"
      ]
     },
     "metadata": {
      "needs_background": "light"
     },
     "output_type": "display_data"
    }
   ],
   "source": [
    "# Plot exact data points\n",
    "fig,ax = plt.subplots()\n",
    "ax.set_xscale(\"log\")\n",
    "ax.plot(U_ED,S2_ED,'-k',zorder=-5,label=\"Exact\",color=\"#444444\",mfc=\"None\")\n",
    "ax.set_xlabel(r\"$U/t$\")\n",
    "ax.set_ylabel(r\"$S_2(\\ell=8)$\")\n",
    "ax.axvline(3.3,zorder=-6,color=\"#cccccc\",ls=\"--\")\n",
    "ax.tick_params(direction='in') # not working in x log scale\n",
    "\n",
    "\n",
    "# Plot simulation data for β=1.0\n",
    "ax.errorbar(U,S2_beta1, yerr=S2_beta1_err, fmt='.', capsize=5,color=colors[0],\n",
    "           mfc=colors_light[0],label=r\"$\\beta=1.0$\",marker='s',zorder=1);\n",
    "\n",
    "# Plot simulation data for β=2.0\n",
    "ax.errorbar(U,S2_beta2, yerr=S2_beta2_err, fmt='.', capsize=5,color=colors[1],\n",
    "           mfc=colors_light[1],label=r\"$\\beta=2.0$\",marker='o',zorder=2);\n",
    "\n",
    "# Plot simulation data for β=4.0\n",
    "ax.errorbar(U[:-1],S2_beta4, yerr=S2_beta4_err, fmt='.', capsize=5,color=colors[2],\n",
    "           mfc=colors_light[2],label=r\"$\\beta=4.0$\",marker='^',zorder=3);\n",
    "\n",
    "# Set plot limits\n",
    "ax.set_xlim(np.min(U_ED)*0.99,np.max(U_ED)*1.03)\n",
    "ax.set_ylim(np.min(S2_beta4)*0.95,np.max(S2_beta1)*1.05);\n",
    "\n",
    "# Set legend\n",
    "plt.legend(frameon=False);\n",
    "\n",
    "# Save figure\n",
    "plt.savefig(\"interactionStrengthSweep.pdf\",dpi=300)"
   ]
  },
  {
   "cell_type": "code",
   "execution_count": null,
   "metadata": {},
   "outputs": [],
   "source": []
  },
  {
   "cell_type": "code",
   "execution_count": null,
   "metadata": {},
   "outputs": [],
   "source": []
  },
  {
   "cell_type": "code",
   "execution_count": null,
   "metadata": {},
   "outputs": [],
   "source": []
  },
  {
   "cell_type": "code",
   "execution_count": null,
   "metadata": {},
   "outputs": [],
   "source": []
  }
 ],
 "metadata": {
  "kernelspec": {
   "display_name": "Python 3",
   "language": "python",
   "name": "python3"
  },
  "language_info": {
   "codemirror_mode": {
    "name": "ipython",
    "version": 3
   },
   "file_extension": ".py",
   "mimetype": "text/x-python",
   "name": "python",
   "nbconvert_exporter": "python",
   "pygments_lexer": "ipython3",
   "version": "3.8.5"
  }
 },
 "nbformat": 4,
 "nbformat_minor": 4
}
