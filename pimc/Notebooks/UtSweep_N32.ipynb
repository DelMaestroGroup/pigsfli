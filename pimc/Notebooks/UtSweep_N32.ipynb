{
 "cells": [
  {
   "cell_type": "markdown",
   "metadata": {},
   "source": [
    "## U/t sweep"
   ]
  },
  {
   "cell_type": "code",
   "execution_count": 59,
   "metadata": {},
   "outputs": [],
   "source": [
    "import numpy as np\n",
    "import matplotlib.pyplot as plt"
   ]
  },
  {
   "cell_type": "code",
   "execution_count": 60,
   "metadata": {},
   "outputs": [],
   "source": [
    "colors = ['salmon','dodgerblue','mediumseagreen']\n",
    "colors = ['#FFA0A0','#1e90ff','#3cb371','#966fd6','#F0B365','#666666','#FEDD00']\n",
    "colors_light = ['#FFEDED','#6BDDFF','#89FFBE','#ece6ff','#f7ecde','#eeeeee','#fef7e1']"
   ]
  },
  {
   "cell_type": "code",
   "execution_count": 61,
   "metadata": {},
   "outputs": [],
   "source": [
    "# Simulation data for β=16.0\n",
    "U = np.array([0.500000,0.730000,1.065800,1.556100,2.272000,3.300000,4.843100,7.071100,10.323900,16.666667, 22.007100, 32.130800,46.911700,68.492100,100.000000])\n",
    "S2_beta16 = np.array([1.8054293369426746, 1.7454304462163832, 1.6803561241193334, 1.6103291690306056, 1.5260315953547559, 1.4022400212330306, 0.9234150641149512, 0.36509766998987814, 0.15833130079521707, 0.05928299319951278, 0.03350781244568315, 0.015899996973586416, 0.006403064971793753, 0.0022847125937890045, 0.0015610212210027895])\n",
    "S2_beta16_err= np.array([0.0016876668259888687, 0.0015171687343672545, 0.00134264632922192, 0.0012514631709457992, 0.0010285026498508486, 0.0008462712875616509, 0.0009279530066101059, 0.001163681350273577, 0.0007606242726795131, 0.0004464148282938512, 0.00035251466699376833, 0.0002781793859104164, 0.0009939319681680895, 0.0007854232064629384, 0.0001547725047849085])"
   ]
  },
  {
   "cell_type": "code",
   "execution_count": 62,
   "metadata": {},
   "outputs": [],
   "source": [
    "# Simulation data for β=8.0\n",
    "S2_beta8 = np.array([1.8544460744568079, 1.7782007936630495, 1.7019926466946995, 1.623929056056768, 1.5338240119537967, 1.4097029868767224, 0.9745092392481021, 0.3641321447159026, 0.15897621276064397, 0.058121536523925085, 0.033544515650672124, 0.015356845005639028, 0.007070608150008778, 0.003608082695659153, 0.0003437785158216567])\n",
    "S2_beta8_err = np.array([0.0009575397147902945, 0.0009079406468159903, 0.0007706359657935765, 0.0006737669676598136, 0.0006410366546066977, 0.0006339946260206584, 0.0007255346837975056, 0.0008724827856380258, 0.000699795417255836, 0.0005011147077200799, 0.0004484148565394713, 0.00030475952708359925, 0.0004294932640776125, 0.00021902420827012425, 0.0013761781193223253])"
   ]
  },
  {
   "cell_type": "code",
   "execution_count": 63,
   "metadata": {},
   "outputs": [],
   "source": [
    "# Simulation data for β=4.0\n",
    "S2_beta4 = np.array([1.9734096371616974, 1.8790595386323834, 1.7851498207274425, 1.6860184871495718, 1.5827538048449759, 1.4521528129875225, 1.1607630641320659, 0.38605302766786226, 0.15890298043731796, 0.059954013905614015, 0.03303727197862583, 0.015323046881322423, 0.00738926568071788, 0.003582599975409982, 0.0011777020776276433])\n",
    "S2_beta4_err = np.array([0.0006425359308018019, 0.0005794216859159417, 0.0005765194380395399, 0.000561859777078868, 0.0005441532330413943, 0.0005007818598906244, 0.0005047700686711761, 0.0006700277287259773, 0.0006216950576552956, 0.000626920191202988, 0.0005095916573353891, 0.00037121173700655245, 0.00030255220042713164, 0.00022500476339551372, 0.0001927830306731791])"
   ]
  },
  {
   "cell_type": "code",
   "execution_count": 64,
   "metadata": {},
   "outputs": [],
   "source": [
    "# Simulation data for β=2.0\n",
    "S2_beta1 = np.array([2.137123445563458, 2.0375227284241255, 1.934774405505334, 1.8227890363080264, 1.7053142584961865, 1.5715211308655275, 1.3734607944009078, 0.8073240598073582, 0.1704871443070144, 0.058305111848040624, 0.033733785320171523, 0.015794652956798508, 0.007410022669189124, 0.0037275580500585968, 0.0021691572629339542])\n",
    "S2_beta1_err = np.array([0.0005446812347038919, 0.0005031533295179764, 0.00047907567669227256, 0.0004679547930050306, 0.00042201622098758456, 0.0003825740737061501, 0.0003676333236865098, 0.0003569163279000955, 0.0005065627366858651, 0.00039143345435252853, 0.00027601681897246365, 0.00021193883727538076, 0.00016860158582712143, 0.00014375252783392785, 0.00011901661013683851])"
   ]
  },
  {
   "cell_type": "code",
   "execution_count": 68,
   "metadata": {},
   "outputs": [],
   "source": [
    "# Simulation extrapolated values for β -> \\infty\n",
    "S2_betaLarge = np.array([1.8041073693676162, 1.7459212862245066, 1.6814266545536842, 1.6119510746551817, 1.5269641963376879, 1.4036863198466876])"
   ]
  },
  {
   "cell_type": "code",
   "execution_count": 69,
   "metadata": {},
   "outputs": [
    {
     "data": {
      "image/png": "[encoded data removed]",
      "text/plain": [
       "<Figure size 432x288 with 1 Axes>"
      ]
     },
     "metadata": {
      "needs_background": "light"
     },
     "output_type": "display_data"
    }
   ],
   "source": [
    "# Set up plot axes\n",
    "fig,ax = plt.subplots()\n",
    "ax.set_xscale(\"log\")\n",
    "ax.set_xlabel(r\"$U/t$\")\n",
    "ax.set_ylabel(r\"$S_2(\\ell=16)$\")\n",
    "ax.axvline(3.3,zorder=-6,color=\"#cccccc\",ls=\"--\")\n",
    "# ax.tick_params(direction='in') # not working in x log scale\n",
    "\n",
    "\n",
    "#Plot simulation data for β=2.0\n",
    "ax.errorbar(U,S2_beta1, yerr=S2_beta1_err, fmt='.', capsize=5,color=colors[0],\n",
    "           mfc=colors_light[0],label=r\"$\\beta=2.0$\",marker='s',zorder=1);\n",
    "\n",
    "# Plot simulation data for β=4.0\n",
    "ax.errorbar(U,S2_beta4, yerr=S2_beta4_err, fmt='.', capsize=5,color=colors[2],\n",
    "           mfc=colors_light[2],label=r\"$\\beta=4.0$\",marker='^',zorder=2);\n",
    "\n",
    "# Plot simulation data for β=8.0\n",
    "ax.errorbar(U,S2_beta8, yerr=S2_beta8_err, fmt='.', capsize=5,color=colors[3],\n",
    "           mfc=colors_light[3],label=r\"$\\beta=8.0$\",marker='d',zorder=3);\n",
    "\n",
    "# Plot simulation data for β=16.0\n",
    "ax.errorbar(U,S2_beta16, yerr=S2_beta16_err, fmt='.', capsize=5,color=colors[4],\n",
    "           mfc=colors_light[4],label=r\"$\\beta=16.0$\",marker='P',zorder=4)\n",
    "\n",
    "# Plot simulation data for β=large extrapolation\n",
    "# ax.errorbar(U,S2_betaLarge, yerr=S2_beta16_err, fmt='.', capsize=5,color=colors[4],\n",
    "#            mfc=colors_light[4],label=r\"$\\beta=16.0$\",marker='P',zorder=4)\n",
    "ax.scatter(U[0:6],S2_betaLarge,zorder=5,alpha=0.5,label=r'$\\beta\\to\\infty$')\n",
    "\n",
    "# # Set plot limits\n",
    "ax.set_xlim(np.min(U)*0.92,np.max(U)*1.08)\n",
    "# ax.set_ylim(np.min(S2_beta4)*0.00,np.max(S2_beta1)*1.05);\n",
    "\n",
    "# Set legend\n",
    "plt.legend(frameon=False);\n",
    "\n",
    "# Save figure\n",
    "plt.savefig(\"interactionStrengthSweep_N32.pdf\",dpi=300)\n",
    "plt.savefig(\"interactionStrengthSweep_N32.png\",dpi=300)"
   ]
  },
  {
   "cell_type": "code",
   "execution_count": null,
   "metadata": {},
   "outputs": [],
   "source": []
  },
  {
   "cell_type": "code",
   "execution_count": null,
   "metadata": {},
   "outputs": [],
   "source": []
  },
  {
   "cell_type": "code",
   "execution_count": null,
   "metadata": {},
   "outputs": [],
   "source": []
  }
 ],
 "metadata": {
  "kernelspec": {
   "display_name": "Python 3",
   "language": "python",
   "name": "python3"
  },
  "language_info": {
   "codemirror_mode": {
    "name": "ipython",
    "version": 3
   },
   "file_extension": ".py",
   "mimetype": "text/x-python",
   "name": "python",
   "nbconvert_exporter": "python",
   "pygments_lexer": "ipython3",
   "version": "3.8.5"
  }
 },
 "nbformat": 4,
 "nbformat_minor": 4
}
