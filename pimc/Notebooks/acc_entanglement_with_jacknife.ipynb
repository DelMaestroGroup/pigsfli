{
 "cells": [
  {
   "cell_type": "code",
   "execution_count": 183,
   "metadata": {},
   "outputs": [],
   "source": [
    "import matplotlib.pyplot as plt\n",
    "import numpy as np"
   ]
  },
  {
   "cell_type": "code",
   "execution_count": 184,
   "metadata": {},
   "outputs": [],
   "source": [
    "np.set_printoptions(precision=8)"
   ]
  },
  {
   "cell_type": "code",
   "execution_count": 185,
   "metadata": {},
   "outputs": [],
   "source": [
    "n=1 # Maybe actually n_max? "
   ]
  },
  {
   "cell_type": "code",
   "execution_count": 186,
   "metadata": {},
   "outputs": [],
   "source": [
    "path=\"/Users/ecasiano/Desktop/PrototypeScripts/Data/\""
   ]
  },
  {
   "cell_type": "code",
   "execution_count": 195,
   "metadata": {},
   "outputs": [],
   "source": [
    "data_Pn_squared_m1 = np.loadtxt(path+\"1D_4_4_2_3.300000_1.000000_4.000000_10000_PnSquared-mA1_42.dat\")\n",
    "data_Pn_squared_m2 = np.loadtxt(path+\"1D_4_4_2_3.300000_1.000000_4.000000_10000_PnSquared-mA2_42.dat\")\n",
    "\n",
    "data = np.loadtxt(path+\"1D_4_4_2_3.300000_1.000000_4.000000_10000_SWAP-n\"+str(n)+\"_42.dat\")"
   ]
  },
  {
   "cell_type": "code",
   "execution_count": 196,
   "metadata": {},
   "outputs": [],
   "source": [
    "# data_Pn_squared_m1 = np.loadtxt(path+\"1D_8_8_4_3.300000_1.000000_3.000000_10000_PnSquared-mA1_42.dat\")\n",
    "# data_Pn_squared_m2 = np.loadtxt(path+\"1D_8_8_4_3.300000_1.000000_3.000000_10000_PnSquared-mA2_42.dat\")\n",
    "# data_Pn_squared_m3 = np.loadtxt(path+\"1D_8_8_4_3.300000_1.000000_3.000000_10000_PnSquared-mA3_42.dat\")\n",
    "# data_Pn_squared_m4 = np.loadtxt(path+\"1D_8_8_4_3.300000_1.000000_3.000000_10000_PnSquared-mA4_42.dat\")\n",
    "\n",
    "# data = np.loadtxt(path+\"1D_8_8_4_3.300000_1.000000_3.000000_10000_SWAP-n\"+str(n)+\"_42.dat\")"
   ]
  },
  {
   "cell_type": "code",
   "execution_count": 197,
   "metadata": {},
   "outputs": [
    {
     "data": {
      "text/plain": [
       "array([      0., 2141826.,  192803.])"
      ]
     },
     "execution_count": 197,
     "metadata": {},
     "output_type": "execute_result"
    }
   ],
   "source": [
    "Pn_squared_m1_col_sum = np.sum(data_Pn_squared_m1,axis=0)\n",
    "Pn_squared_m2_col_sum = np.sum(data_Pn_squared_m2,axis=0)\n",
    "# Pn_squared_m3_col_sum = np.sum(data_Pn_squared_m3,axis=0)\n",
    "# Pn_squared_m4_col_sum = np.sum(data_Pn_squared_m4,axis=0)\n",
    "\n",
    "SWAP_col_sum = np.sum(data,axis=0)\n",
    "SWAP_col_sum"
   ]
  },
  {
   "cell_type": "markdown",
   "metadata": {},
   "source": [
    "### Jacknife notes"
   ]
  },
  {
   "cell_type": "code",
   "execution_count": 198,
   "metadata": {},
   "outputs": [
    {
     "data": {
      "text/plain": [
       "array([[0.        , 0.04225766],\n",
       "       [0.        , 0.04225766],\n",
       "       [0.        , 0.04225766],\n",
       "       ...,\n",
       "       [0.        , 0.04225766],\n",
       "       [0.        , 0.04225766],\n",
       "       [0.        , 0.04225766]])"
      ]
     },
     "execution_count": 198,
     "metadata": {},
     "output_type": "execute_result"
    }
   ],
   "source": [
    "S2_i = []\n",
    "for i in range(data.shape[0]):\n",
    "    Pn_squared_m1_col_sum_i = Pn_squared_m1_col_sum - data_Pn_squared_m1[i]\n",
    "    Pn_squared_m2_col_sum_i = Pn_squared_m2_col_sum - data_Pn_squared_m2[i]\n",
    "#     Pn_squared_m3_col_sum_i = Pn_squared_m3_col_sum - data_Pn_squared_m4[i]\n",
    "#     Pn_squared_m4_col_sum_i = Pn_squared_m4_col_sum - data_Pn_squared_m3[i]\n",
    "    \n",
    "    # Swapped sites histogram for n sector\n",
    "    SWAP_col_sum_i =  SWAP_col_sum - data[i]\n",
    "    \n",
    "    l = 2*[0]\n",
    "    \n",
    "#     l[0] = -np.log(SWAP_col_sum_i[1]/Pn_squared_m1_col_sum_i[n])\n",
    "    l[1] = -np.log(SWAP_col_sum_i[2]/Pn_squared_m2_col_sum_i[n])\n",
    "#     l[2] = -np.log(SWAP_col_sum_i[3]/Pn_squared_m3_col_sum_i[n])\n",
    "#     l[3] = -np.log(SWAP_col_sum_i[4]/Pn_squared_m4_col_sum_i[n])\n",
    "    \n",
    "    S2_i.append(l)\n",
    "\n",
    "S2_i = np.array(S2_i)\n",
    "S2_i"
   ]
  },
  {
   "cell_type": "code",
   "execution_count": 199,
   "metadata": {},
   "outputs": [
    {
     "data": {
      "text/plain": [
       "array([0.        , 0.04225767])"
      ]
     },
     "execution_count": 199,
     "metadata": {},
     "output_type": "execute_result"
    }
   ],
   "source": [
    "S2_mean = np.mean(S2_i,axis=0)\n",
    "S2_mean"
   ]
  },
  {
   "cell_type": "code",
   "execution_count": 200,
   "metadata": {},
   "outputs": [],
   "source": [
    "N_rows = S2_i.shape[0]"
   ]
  },
  {
   "cell_type": "code",
   "execution_count": 201,
   "metadata": {},
   "outputs": [],
   "source": [
    "S2_err = np.std(S2_i,axis=0)\n",
    "S2_err *= np.sqrt(N_rows-1)"
   ]
  },
  {
   "cell_type": "code",
   "execution_count": 202,
   "metadata": {},
   "outputs": [
    {
     "name": "stdout",
     "output_type": "stream",
     "text": [
      "<S2> = 0.042258 +/- 0.034195\n"
     ]
    }
   ],
   "source": [
    "print(f'<S2> = {S2_mean[1]:.6f} +/- {S2_err[1]:.6f}')"
   ]
  },
  {
   "cell_type": "code",
   "execution_count": null,
   "metadata": {},
   "outputs": [],
   "source": []
  },
  {
   "cell_type": "code",
   "execution_count": null,
   "metadata": {},
   "outputs": [],
   "source": []
  },
  {
   "cell_type": "code",
   "execution_count": null,
   "metadata": {},
   "outputs": [],
   "source": []
  },
  {
   "cell_type": "code",
   "execution_count": null,
   "metadata": {},
   "outputs": [],
   "source": []
  },
  {
   "cell_type": "code",
   "execution_count": null,
   "metadata": {},
   "outputs": [],
   "source": []
  }
 ],
 "metadata": {
  "kernelspec": {
   "display_name": "Python 3",
   "language": "python",
   "name": "python3"
  },
  "language_info": {
   "codemirror_mode": {
    "name": "ipython",
    "version": 3
   },
   "file_extension": ".py",
   "mimetype": "text/x-python",
   "name": "python",
   "nbconvert_exporter": "python",
   "pygments_lexer": "ipython3",
   "version": "3.7.9"
  }
 },
 "nbformat": 4,
 "nbformat_minor": 4
}
