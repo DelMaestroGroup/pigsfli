{
 "cells": [
  {
   "cell_type": "code",
   "execution_count": 451,
   "metadata": {},
   "outputs": [],
   "source": [
    "import matplotlib.pyplot as plt\n",
    "import numpy as np"
   ]
  },
  {
   "cell_type": "code",
   "execution_count": 452,
   "metadata": {},
   "outputs": [],
   "source": [
    "np.set_printoptions(precision=8)"
   ]
  },
  {
   "cell_type": "code",
   "execution_count": 453,
   "metadata": {},
   "outputs": [],
   "source": [
    "path=\"/Users/ecasiano/Desktop/PrototypeScripts/TestSystematicError/\"\n",
    "path=\"/Users/ecasiano/Xcode/pimc/pimc/\""
   ]
  },
  {
   "cell_type": "code",
   "execution_count": 454,
   "metadata": {},
   "outputs": [],
   "source": [
    "seed = 42"
   ]
  },
  {
   "cell_type": "code",
   "execution_count": 455,
   "metadata": {},
   "outputs": [
    {
     "data": {
      "text/plain": [
       "((1000, 11), (1000, 11))"
      ]
     },
     "execution_count": 455,
     "metadata": {},
     "output_type": "execute_result"
    }
   ],
   "source": [
    "data_SWAPn_m2 = np.loadtxt(path+\"1D_10_10_5_3.300000_1.000000_2.000000_1000_1000_SWAPn-mA5_\"+str(seed)+\"_square.dat\")\n",
    "data_PnSquared_m2 = np.loadtxt(path+\"1D_10_10_5_3.300000_1.000000_2.000000_1000_1000_PnSquared-mA5_\"+str(seed)+\"_square.dat\")\n",
    "\n",
    "data_SWAPn_m2.shape,data_PnSquared_m2.shape"
   ]
  },
  {
   "cell_type": "code",
   "execution_count": 456,
   "metadata": {},
   "outputs": [],
   "source": [
    "N=data_SWAPn_m2.shape[1]-1 # Get N"
   ]
  },
  {
   "cell_type": "code",
   "execution_count": 457,
   "metadata": {},
   "outputs": [
    {
     "name": "stderr",
     "output_type": "stream",
     "text": [
      "/opt/anaconda3/lib/python3.7/site-packages/ipykernel_launcher.py:9: RuntimeWarning: invalid value encountered in true_divide\n",
      "  if __name__ == '__main__':\n",
      "/opt/anaconda3/lib/python3.7/site-packages/ipykernel_launcher.py:9: RuntimeWarning: divide by zero encountered in log\n",
      "  if __name__ == '__main__':\n",
      "/opt/anaconda3/lib/python3.7/site-packages/ipykernel_launcher.py:9: RuntimeWarning: divide by zero encountered in true_divide\n",
      "  if __name__ == '__main__':\n"
     ]
    }
   ],
   "source": [
    "S2 = np.zeros(data_SWAPn_m2.shape)\n",
    "SWAPn_m2_col_sum = np.sum(data_SWAPn_m2,axis=0)\n",
    "PnSquared_m2_col_sum = np.sum(data_PnSquared_m2,axis=0)\n",
    "for i in range(data_SWAPn_m2.shape[0]):\n",
    "    PnSquared_m2_col_sum_i = PnSquared_m2_col_sum - data_PnSquared_m2[i]\n",
    "    \n",
    "    SWAPn_m2_col_sum_i = SWAPn_m2_col_sum - data_SWAPn_m2[i]\n",
    "    \n",
    "    S2[i] = -np.log(SWAPn_m2_col_sum_i/PnSquared_m2_col_sum_i)"
   ]
  },
  {
   "cell_type": "code",
   "execution_count": 458,
   "metadata": {},
   "outputs": [
    {
     "data": {
      "text/plain": [
       "array([       nan,        nan,        nan, 0.06643753, 0.0467273 ,\n",
       "       0.04220156, 0.05531334, 0.14744435,        nan,        nan,\n",
       "              nan])"
      ]
     },
     "execution_count": 458,
     "metadata": {},
     "output_type": "execute_result"
    }
   ],
   "source": [
    "S2_mean = np.mean(S2,axis=0)\n",
    "S2_mean"
   ]
  },
  {
   "cell_type": "code",
   "execution_count": 459,
   "metadata": {},
   "outputs": [],
   "source": [
    "N_rows = S2.shape[0]"
   ]
  },
  {
   "cell_type": "code",
   "execution_count": 460,
   "metadata": {},
   "outputs": [],
   "source": [
    "S2_err = np.std(S2,axis=0)\n",
    "S2_err *= np.sqrt(N_rows-1)"
   ]
  },
  {
   "cell_type": "code",
   "execution_count": 461,
   "metadata": {},
   "outputs": [
    {
     "name": "stdout",
     "output_type": "stream",
     "text": [
      "<S2(n=0)> = nan +/- nan\n",
      "<S2(n=1)> = nan +/- nan\n",
      "<S2(n=2)> = nan +/- nan\n",
      "<S2(n=3)> = 0.066438 +/- 0.075838\n",
      "<S2(n=4)> = 0.046727 +/- 0.011163\n",
      "<S2(n=5)> = 0.042202 +/- 0.006056\n",
      "<S2(n=6)> = 0.055313 +/- 0.012286\n",
      "<S2(n=7)> = 0.147444 +/- 0.083591\n",
      "<S2(n=8)> = nan +/- nan\n",
      "<S2(n=9)> = nan +/- nan\n",
      "<S2(n=10)> = nan +/- nan\n"
     ]
    }
   ],
   "source": [
    "for n in range(N+1):\n",
    "    print(f\"<S2(n={n})> = {S2_mean[n]:0.6f} +/- {S2_err[n]:0.6f}\")"
   ]
  },
  {
   "cell_type": "code",
   "execution_count": 462,
   "metadata": {},
   "outputs": [
    {
     "data": {
      "text/plain": [
       "(1000, 11)"
      ]
     },
     "execution_count": 462,
     "metadata": {},
     "output_type": "execute_result"
    }
   ],
   "source": [
    "data_Pn_m2 = np.loadtxt(path+\"1D_10_10_5_3.300000_1.000000_2.000000_1000_1000_Pn-mA5_\"+str(seed)+\"_square.dat\")\n",
    "data_Pn_m2.shape"
   ]
  },
  {
   "cell_type": "code",
   "execution_count": 463,
   "metadata": {},
   "outputs": [],
   "source": [
    "data_Pn_col_sum_m2 = np.sum(data_Pn_m2,axis=0)"
   ]
  },
  {
   "cell_type": "code",
   "execution_count": 464,
   "metadata": {},
   "outputs": [],
   "source": [
    "jacknifed_Pn = np.zeros(data_Pn_m2.shape)\n",
    "for i in range(data_Pn_m2.shape[0]):\n",
    "    data_Pn_col_sum_m2_i = data_Pn_col_sum_m2 - data_Pn_m2[i]\n",
    "        \n",
    "    jacknifed_Pn[i] = data_Pn_col_sum_m2_i\n",
    "jacknifed_Pn /= np.sum(jacknifed_Pn,axis=1)[:,None]"
   ]
  },
  {
   "cell_type": "code",
   "execution_count": 465,
   "metadata": {},
   "outputs": [],
   "source": [
    "Pn_mean = np.mean(jacknifed_Pn,axis=0)\n",
    "Pn_mean /= np.sum(Pn_mean )\n",
    "N_rows_Pn = jacknifed_Pn.shape[0]\n",
    "Pn_err = np.std(jacknifed_Pn,axis=0)\n",
    "Pn_err *= np.sqrt(N_rows_Pn-1)"
   ]
  },
  {
   "cell_type": "code",
   "execution_count": 466,
   "metadata": {},
   "outputs": [
    {
     "name": "stdout",
     "output_type": "stream",
     "text": [
      "P(n=0) = 0.0000 +/- 0.0000\n",
      "P(n=1) = 0.0000 +/- 0.0000\n",
      "P(n=2) = 0.0012 +/- 0.0001\n",
      "P(n=3) = 0.0312 +/- 0.0002\n",
      "P(n=4) = 0.2299 +/- 0.0006\n",
      "P(n=5) = 0.4743 +/- 0.0007\n",
      "P(n=6) = 0.2312 +/- 0.0006\n",
      "P(n=7) = 0.0311 +/- 0.0003\n",
      "P(n=8) = 0.0011 +/- 0.0000\n",
      "P(n=9) = 0.0000 +/- 0.0000\n",
      "P(n=10) = 0.0000 +/- 0.0000\n"
     ]
    }
   ],
   "source": [
    "for n in range(N+1):\n",
    "    print(f'P(n={n}) = {Pn_mean[n]:0.4f} +/- {Pn_err[n]:0.4f}')"
   ]
  },
  {
   "cell_type": "markdown",
   "metadata": {},
   "source": [
    "# "
   ]
  },
  {
   "cell_type": "code",
   "execution_count": null,
   "metadata": {},
   "outputs": [],
   "source": []
  },
  {
   "cell_type": "code",
   "execution_count": null,
   "metadata": {},
   "outputs": [],
   "source": []
  },
  {
   "cell_type": "code",
   "execution_count": null,
   "metadata": {},
   "outputs": [],
   "source": []
  }
 ],
 "metadata": {
  "kernelspec": {
   "display_name": "Python 3",
   "language": "python",
   "name": "python3"
  },
  "language_info": {
   "codemirror_mode": {
    "name": "ipython",
    "version": 3
   },
   "file_extension": ".py",
   "mimetype": "text/x-python",
   "name": "python",
   "nbconvert_exporter": "python",
   "pygments_lexer": "ipython3",
   "version": "3.7.9"
  }
 },
 "nbformat": 4,
 "nbformat_minor": 4
}
