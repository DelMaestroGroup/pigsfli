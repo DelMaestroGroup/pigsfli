{
 "cells": [
  {
   "cell_type": "code",
   "execution_count": 2,
   "metadata": {},
   "outputs": [],
   "source": [
    "import matplotlib.pyplot as plt\n",
    "import numpy as np"
   ]
  },
  {
   "cell_type": "code",
   "execution_count": 3,
   "metadata": {},
   "outputs": [],
   "source": [
    "np.set_printoptions(precision=8)"
   ]
  },
  {
   "cell_type": "code",
   "execution_count": 453,
   "metadata": {},
   "outputs": [],
   "source": [
    "path=\"/Users/ecasiano/Desktop/PrototypeScripts/TestSystematicError/\"\n",
    "path=\"/Users/ecasiano/Xcode/pimc/pimc/\""
   ]
  },
  {
   "cell_type": "code",
   "execution_count": 454,
   "metadata": {},
   "outputs": [],
   "source": [
    "seed = 42"
   ]
  },
  {
   "cell_type": "code",
   "execution_count": null,
   "metadata": {},
   "outputs": [],
   "source": [
    "np.loadtxt(\"../1D_4_4_2_3.300000_1.000000_3.000000_10000_1000_SWAP_3_square.dat\")[:]"
   ]
  },
  {
   "cell_type": "code",
   "execution_count": 455,
   "metadata": {},
   "outputs": [
    {
     "data": {
      "text/plain": [
       "((1000, 11), (1000, 11))"
      ]
     },
     "execution_count": 455,
     "metadata": {},
     "output_type": "execute_result"
    }
   ],
   "source": [
    "data_SWAPn_m2 = np.loadtxt(path+\"1D_10_10_5_3.300000_1.000000_2.000000_1000_1000_SWAPn-mA5_\"+str(seed)+\"_square.dat\")\n",
    "data_PnSquared_m2 = np.loadtxt(path+\"1D_10_10_5_3.300000_1.000000_2.000000_1000_1000_PnSquared-mA5_\"+str(seed)+\"_square.dat\")\n",
    "\n",
    "data_SWAPn_m2.shape,data_PnSquared_m2.shape"
   ]
  },
  {
   "cell_type": "code",
   "execution_count": 43,
   "metadata": {},
   "outputs": [
    {
     "data": {
      "text/plain": [
       "((1000, 5), (1000, 5))"
      ]
     },
     "execution_count": 43,
     "metadata": {},
     "output_type": "execute_result"
    }
   ],
   "source": [
    "data_SWAPn_m2 = np.loadtxt(\"../1D_4_4_2_3.300000_1.000000_3.000000_10000_1000_SWAPn-mA2_3_square.dat\")\n",
    "data_PnSquared_m2 = np.loadtxt(\"../1D_4_4_2_3.300000_1.000000_3.000000_10000_1000_PnSquared-mA2_3_square.dat\")\n",
    "\n",
    "data_SWAPn_m2.shape,data_PnSquared_m2.shape"
   ]
  },
  {
   "cell_type": "code",
   "execution_count": 44,
   "metadata": {},
   "outputs": [],
   "source": [
    "N=data_SWAPn_m2.shape[1]-1 # Get N"
   ]
  },
  {
   "cell_type": "code",
   "execution_count": 45,
   "metadata": {},
   "outputs": [],
   "source": [
    "S2 = np.zeros(data_SWAPn_m2.shape)\n",
    "SWAPn_m2_col_sum = np.sum(data_SWAPn_m2,axis=0)\n",
    "PnSquared_m2_col_sum = np.sum(data_PnSquared_m2,axis=0)\n",
    "for i in range(data_SWAPn_m2.shape[0]):\n",
    "    PnSquared_m2_col_sum_i = PnSquared_m2_col_sum - data_PnSquared_m2[i]\n",
    "    \n",
    "    SWAPn_m2_col_sum_i = SWAPn_m2_col_sum - data_SWAPn_m2[i]\n",
    "    \n",
    "    S2[i] = -np.log(SWAPn_m2_col_sum_i/PnSquared_m2_col_sum_i)"
   ]
  },
  {
   "cell_type": "code",
   "execution_count": 46,
   "metadata": {},
   "outputs": [
    {
     "data": {
      "text/plain": [
       "array([-0.01208981,  0.02227198, -0.00074292,  0.02448241,  0.23784622])"
      ]
     },
     "execution_count": 46,
     "metadata": {},
     "output_type": "execute_result"
    }
   ],
   "source": [
    "S2_mean = np.mean(S2,axis=0)\n",
    "S2_mean"
   ]
  },
  {
   "cell_type": "code",
   "execution_count": 47,
   "metadata": {},
   "outputs": [],
   "source": [
    "N_rows = S2.shape[0]"
   ]
  },
  {
   "cell_type": "code",
   "execution_count": 48,
   "metadata": {},
   "outputs": [],
   "source": [
    "S2_err = np.std(S2,axis=0)\n",
    "S2_err *= np.sqrt(N_rows-1)"
   ]
  },
  {
   "cell_type": "code",
   "execution_count": 49,
   "metadata": {},
   "outputs": [
    {
     "name": "stdout",
     "output_type": "stream",
     "text": [
      "<S2(n=0)> = -0.012090 +/- 0.025381\n",
      "<S2(n=1)> = 0.022272 +/- 0.012832\n",
      "<S2(n=2)> = -0.000743 +/- 0.004089\n",
      "<S2(n=3)> = 0.024482 +/- 0.014537\n",
      "<S2(n=4)> = 0.237846 +/- 0.294861\n"
     ]
    }
   ],
   "source": [
    "for n in range(N+1):\n",
    "    print(f\"<S2(n={n})> = {S2_mean[n]:0.6f} +/- {S2_err[n]:0.6f}\")"
   ]
  },
  {
   "cell_type": "code",
   "execution_count": 50,
   "metadata": {},
   "outputs": [
    {
     "ename": "NameError",
     "evalue": "name 'path' is not defined",
     "output_type": "error",
     "traceback": [
      "\u001b[0;31m---------------------------------------------------------------------------\u001b[0m",
      "\u001b[0;31mNameError\u001b[0m                                 Traceback (most recent call last)",
      "\u001b[0;32m<ipython-input-50-1f269ea934f2>\u001b[0m in \u001b[0;36m<module>\u001b[0;34m\u001b[0m\n\u001b[0;32m----> 1\u001b[0;31m \u001b[0mdata_Pn_m2\u001b[0m \u001b[0;34m=\u001b[0m \u001b[0mnp\u001b[0m\u001b[0;34m.\u001b[0m\u001b[0mloadtxt\u001b[0m\u001b[0;34m(\u001b[0m\u001b[0mpath\u001b[0m\u001b[0;34m+\u001b[0m\u001b[0;34m\"1D_10_10_5_3.300000_1.000000_2.000000_1000_1000_Pn-mA5_\"\u001b[0m\u001b[0;34m+\u001b[0m\u001b[0mstr\u001b[0m\u001b[0;34m(\u001b[0m\u001b[0mseed\u001b[0m\u001b[0;34m)\u001b[0m\u001b[0;34m+\u001b[0m\u001b[0;34m\"_square.dat\"\u001b[0m\u001b[0;34m)\u001b[0m\u001b[0;34m\u001b[0m\u001b[0;34m\u001b[0m\u001b[0m\n\u001b[0m\u001b[1;32m      2\u001b[0m \u001b[0mdata_Pn_m2\u001b[0m\u001b[0;34m.\u001b[0m\u001b[0mshape\u001b[0m\u001b[0;34m\u001b[0m\u001b[0;34m\u001b[0m\u001b[0m\n",
      "\u001b[0;31mNameError\u001b[0m: name 'path' is not defined"
     ]
    }
   ],
   "source": [
    "data_Pn_m2 = np.loadtxt(path+\"1D_10_10_5_3.300000_1.000000_2.000000_1000_1000_Pn-mA5_\"+str(seed)+\"_square.dat\")\n",
    "data_Pn_m2.shape"
   ]
  },
  {
   "cell_type": "code",
   "execution_count": 51,
   "metadata": {},
   "outputs": [],
   "source": [
    "data_Pn_m2 = np.loadtxt(\"../1D_4_4_2_3.300000_1.000000_3.000000_10000_1000_Pn-mA2_3_square.dat\")"
   ]
  },
  {
   "cell_type": "code",
   "execution_count": 52,
   "metadata": {},
   "outputs": [],
   "source": [
    "data_Pn_col_sum_m2 = np.sum(data_Pn_m2,axis=0)"
   ]
  },
  {
   "cell_type": "code",
   "execution_count": 53,
   "metadata": {},
   "outputs": [],
   "source": [
    "jacknifed_Pn = np.zeros(data_Pn_m2.shape)\n",
    "for i in range(data_Pn_m2.shape[0]):\n",
    "    data_Pn_col_sum_m2_i = data_Pn_col_sum_m2 - data_Pn_m2[i]\n",
    "        \n",
    "    jacknifed_Pn[i] = data_Pn_col_sum_m2_i\n",
    "jacknifed_Pn /= np.sum(jacknifed_Pn,axis=1)[:,None]"
   ]
  },
  {
   "cell_type": "code",
   "execution_count": 54,
   "metadata": {},
   "outputs": [],
   "source": [
    "Pn_mean = np.mean(jacknifed_Pn,axis=0)\n",
    "Pn_mean /= np.sum(Pn_mean )\n",
    "N_rows_Pn = jacknifed_Pn.shape[0]\n",
    "Pn_err = np.std(jacknifed_Pn,axis=0)\n",
    "Pn_err *= np.sqrt(N_rows_Pn-1)"
   ]
  },
  {
   "cell_type": "code",
   "execution_count": 55,
   "metadata": {},
   "outputs": [
    {
     "name": "stdout",
     "output_type": "stream",
     "text": [
      "P(n=0) = 0.0097 +/- 0.0002\n",
      "P(n=1) = 0.1955 +/- 0.0007\n",
      "P(n=2) = 0.5894 +/- 0.0008\n",
      "P(n=3) = 0.1956 +/- 0.0007\n",
      "P(n=4) = 0.0098 +/- 0.0002\n"
     ]
    }
   ],
   "source": [
    "for n in range(N+1):\n",
    "    print(f'P(n={n}) = {Pn_mean[n]:0.4f} +/- {Pn_err[n]:0.4f}')"
   ]
  },
  {
   "cell_type": "markdown",
   "metadata": {},
   "source": [
    "# "
   ]
  },
  {
   "cell_type": "code",
   "execution_count": null,
   "metadata": {},
   "outputs": [],
   "source": []
  },
  {
   "cell_type": "code",
   "execution_count": null,
   "metadata": {},
   "outputs": [],
   "source": []
  },
  {
   "cell_type": "code",
   "execution_count": null,
   "metadata": {},
   "outputs": [],
   "source": []
  }
 ],
 "metadata": {
  "kernelspec": {
   "display_name": "Python 3",
   "language": "python",
   "name": "python3"
  },
  "language_info": {
   "codemirror_mode": {
    "name": "ipython",
    "version": 3
   },
   "file_extension": ".py",
   "mimetype": "text/x-python",
   "name": "python",
   "nbconvert_exporter": "python",
   "pygments_lexer": "ipython3",
   "version": "3.7.10"
  }
 },
 "nbformat": 4,
 "nbformat_minor": 4
}
