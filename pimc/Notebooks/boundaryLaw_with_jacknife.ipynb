{
 "cells": [
  {
   "cell_type": "code",
   "execution_count": 1,
   "metadata": {},
   "outputs": [],
   "source": [
    "import numpy as np\n",
    "import matplotlib.pyplot as plt\n",
    "import scipy \n",
    "from scipy import optimize"
   ]
  },
  {
   "cell_type": "code",
   "execution_count": 2,
   "metadata": {},
   "outputs": [],
   "source": [
    "np.set_printoptions(precision=8)"
   ]
  },
  {
   "cell_type": "markdown",
   "metadata": {},
   "source": [
    "### $\\beta$-scaling (but the original estimator)"
   ]
  },
  {
   "cell_type": "code",
   "execution_count": 3,
   "metadata": {},
   "outputs": [],
   "source": [
    "ℓ = np.array([1,2,3,4,5,6,7,8,9,10,11,12,13,14,15,16,17,18,19,20])\n",
    "y = np.array([0.2004848711474414, 0.46772941806694773, 0.743051240612918, 1.0205679212943068, 1.3013113128075393, 1.5816157914216589, 1.8565756364309194, 2.1293099660543886, 2.393555008900057, 2.6434445944958163, 2.9633562493320627, 3.1986001880130708, 3.510892653464696, 3.76276662330894, 4.03781989251193, 4.291940354899299, 4.5388918574911985, 4.7666776863437015, 5.010169230181372, 5.229864000054734])\n",
    "y_err = np.array([0.000735878560194893, 0.0014575911161294744, 0.0021872379586126926, 0.0029936086307045325, 0.0037973577489236977, 0.003558474179699982, 0.0030018775632098932, 0.005021372810019892, 0.00949112042247591, 0.03865236734251167, 0.008708041632350982, 0.02251932398320645, 0.0031341619979377024, 0.004687983315639224, 0.007585993987146597, 0.01624122060056763, 0.01921094307327244, 0.013728648995504375, 0.012275231771272382, 0.012472398240056035])"
   ]
  },
  {
   "cell_type": "code",
   "execution_count": 4,
   "metadata": {},
   "outputs": [
    {
     "data": {
      "image/png": "[encoded data removed]",
      "text/plain": [
       "<Figure size 333.549x206.145 with 1 Axes>"
      ]
     },
     "metadata": {
      "needs_background": "light"
     },
     "output_type": "display_data"
    }
   ],
   "source": [
    "\n",
    "with plt.style.context('../IOP_large.mplstyle'):\n",
    "\n",
    "    fig,ax1 = plt.subplots()\n",
    "    \n",
    "    ax1.errorbar(ℓ,y,y_err, fmt='.', capsize=5,label='square',marker='o',mfc=\"lightblue\");\n",
    "    ax1.set_ylabel(r'$S_2(\\ell)$')\n",
    "    ax1.set_xlabel(r'$\\ell$')\n",
    "    ax1.tick_params(direction='in')\n",
    "    \n",
    "    # Annotate system information\n",
    "    ax1.annotate(r\"$M=32\\times32=1024$\",(0.14,0.52+.35),\n",
    "                xycoords='figure fraction')\n",
    "    ax1.annotate(r\"$N=1024$\",(0.14,0.52+.25),\n",
    "                xycoords='figure fraction')\n",
    "    ax1.annotate(r\"$\\ell_{\\rm{max}}=20$\",(0.14,0.52+.15),\n",
    "                xycoords='figure fraction')\n",
    "    ax1.annotate(r\"$D=2$\",(0.14,0.52+.05),\n",
    "                xycoords='figure fraction')\n",
    "    ax1.annotate(r\"$U \\approx U_c^{(2D)}$\",(0.14,0.52-.05),\n",
    "                xycoords='figure fraction')\n",
    "    \n",
    "    # Define linear function for fitting\n",
    "    def boundary_law_fit(x,a,c,d):\n",
    "        return a*x + c*np.log(x) + d\n",
    "    \n",
    "    # Perform the linear fit\n",
    "    popt_line,pcov_line=scipy.optimize.curve_fit(boundary_law_fit,ℓ[5:],y[5:],sigma=y_err[5:],p0=[1,1,1])\n",
    "    \n",
    "    # Extract fit parameters and their error\n",
    "    a,c,d = popt_line\n",
    "    a_err,c_err,d_err = np.sqrt(np.diag(pcov_line))\n",
    "    \n",
    "    # Plot the fit\n",
    "    ℓ_fit = np.linspace(ℓ[5],max(ℓ),1000)\n",
    "    y_fit = boundary_law_fit(ℓ_fit,a,c,d)\n",
    "    ax1.plot(ℓ_fit[:],y_fit[:],zorder=0)\n",
    "    \n",
    "    # Save figure\n",
    "    plt.savefig(\"/Users/ecasiano/Desktop/papers-latticepigs/Figures/boundaryLaw_N1024.pdf\",dpi=400)\n",
    "    plt.savefig(\"boundaryLaw_N1024.png\",dpi=400)\n",
    "    "
   ]
  },
  {
   "cell_type": "markdown",
   "metadata": {},
   "source": [
    "### $S_2 / \\ell$ vs. $\\ell$"
   ]
  },
  {
   "cell_type": "code",
   "execution_count": 10,
   "metadata": {},
   "outputs": [
    {
     "data": {
      "image/png": "[encoded data removed]",
      "text/plain": [
       "<Figure size 333.549x206.145 with 1 Axes>"
      ]
     },
     "metadata": {
      "needs_background": "light"
     },
     "output_type": "display_data"
    }
   ],
   "source": [
    "with plt.style.context('../IOP_large.mplstyle'):\n",
    "\n",
    "    fig,ax1 = plt.subplots()\n",
    "    \n",
    "    ax1.errorbar(ℓ,y/ℓ,y_err/ℓ, fmt='.', capsize=5,label='square',marker='o',mfc=\"lightblue\");\n",
    "    ax1.set_ylabel(r'$S_2(\\ell)/\\ell$')\n",
    "    ax1.set_xlabel(r'$\\ell$')\n",
    "    ax1.tick_params(direction='in')\n",
    "    \n",
    "    # Annotate system information\n",
    "#     ax1.annotate(r\"$M=32\\times32=1024$\",(0.14,0.52+.35),\n",
    "#                 xycoords='figure fraction')\n",
    "#     ax1.annotate(r\"$N=1024$\",(0.14,0.52+.25),\n",
    "#                 xycoords='figure fraction')\n",
    "#     ax1.annotate(r\"$\\ell_{\\rm{max}}=20$\",(0.14,0.52+.15),\n",
    "#                 xycoords='figure fraction')\n",
    "#     ax1.annotate(r\"$D=2$\",(0.14,0.52+.05),\n",
    "#                 xycoords='figure fraction')\n",
    "#     ax1.annotate(r\"$U \\approx U_c^{(2D)}$\",(0.14,0.52-.05),\n",
    "#                 xycoords='figure fraction')\n",
    "    \n",
    "    # Define linear function for fitting\n",
    "    def boundary_law_fit(x,a,c,d):\n",
    "        return a*x + c*np.log(x) + d\n",
    "    \n",
    "    # Perform the linear fit\n",
    "    popt_line,pcov_line=scipy.optimize.curve_fit(boundary_law_fit,ℓ[5:],y[5:],sigma=y_err[5:],p0=[1,1,1])\n",
    "    \n",
    "    # Extract fit parameters and their error\n",
    "    a,c,d = popt_line\n",
    "    a_err,c_err,d_err = np.sqrt(np.diag(pcov_line))\n",
    "    \n",
    "    # Plot the fit\n",
    "    ℓ_fit = np.linspace(ℓ[5],max(ℓ),1000)\n",
    "    y_fit = boundary_law_fit(ℓ_fit,a,c,d)\n",
    "    ax1.plot(ℓ_fit[:],y_fit[:]/ℓ_fit,zorder=0)\n",
    "    \n",
    "    # Save figure\n",
    "    plt.savefig(\"/Users/ecasiano/Desktop/papers-latticepigs/Figures/boundaryLaw_N1024_overEll.pdf\",dpi=400)\n",
    "    plt.savefig(\"boundaryLaw_N1024_overEll.png\",dpi=400)"
   ]
  },
  {
   "cell_type": "code",
   "execution_count": null,
   "metadata": {},
   "outputs": [],
   "source": []
  }
 ],
 "metadata": {
  "kernelspec": {
   "display_name": "Python 3",
   "language": "python",
   "name": "python3"
  },
  "language_info": {
   "codemirror_mode": {
    "name": "ipython",
    "version": 3
   },
   "file_extension": ".py",
   "mimetype": "text/x-python",
   "name": "python",
   "nbconvert_exporter": "python",
   "pygments_lexer": "ipython3",
   "version": "3.8.5"
  }
 },
 "nbformat": 4,
 "nbformat_minor": 4
}
