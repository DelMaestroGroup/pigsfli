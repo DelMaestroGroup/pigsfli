{
 "cells": [
  {
   "cell_type": "code",
   "execution_count": 15,
   "metadata": {},
   "outputs": [
    {
     "name": "stdout",
     "output_type": "stream",
     "text": [
      "Initial number of seeds:  374 \n",
      "\n",
      "\n",
      "Final number of seeds:  374\n",
      "\n",
      "incomplete seeds:  [336, 660, 671, 707, 692, 702, 697, 333, 679, 686, 662, 681, 708, 334, 690, 705, 695, 689, 676, 623, 700, 698, 331, 684, 675, 703, 696, 687, 332, 337, 682, 670, 706, 693, 694, 701, 688, 699, 710, 685, 709, 335, 680, 691, 672, 645, 704, 338]\n"
     ]
    }
   ],
   "source": [
    "# Takes average <S2> from many random seeds\n",
    "# and combines them into one file\n",
    "\n",
    "# What we're doing on one file:\n",
    "# 1) Loading P(n) for desired swapped sector mA\n",
    "# 2) Load SWAP(n) files\n",
    "# 3) Taking column sum for P(n) file for desired mA \n",
    "# 4) Taking column sum for SWAP(n) file\n",
    "# 5) Dividing column sums of P(n) over column sums of SWAP(n)\n",
    "# 6) Taking negative log of above result\n",
    "# 7) Taking the average over seeds of above results\n",
    "# 8) Take the standard error of above average\n",
    "\n",
    "import os\n",
    "import numpy as np\n",
    "\n",
    "incomplete_seeds = [] \n",
    "seeds_list = list(range(1000))\n",
    "seeds_measured = []\n",
    "\n",
    "# Save all the file names in the path as strings to a list\n",
    "path = path=\"/Users/ecasiano/Desktop/PrototypeScripts/TestSystematicErrorv4/\"\n",
    "filenames_all = os.listdir(path)\n",
    "\n",
    "# Set desired total number of particles\n",
    "L_want = 6\n",
    "N_want = 6\n",
    "l_want = 6\n",
    "beta_want = 2.000000\n",
    "bin_size_want = 10000\n",
    "bins_want = 1000\n",
    "D_want = 1\n",
    "U_want = 3.300000\n",
    "t_want = 1.000000\n",
    "\n",
    "mA_sector_wanted = l_want**D_want//2\n",
    "for mA_sector_wanted in range(l_want**D_want//2,l_want**D_want//2+1):\n",
    "\n",
    "    # Saves the files relevant to P(n) & S2(n) calculation\n",
    "    files_PnSquared = []\n",
    "    files_SWAPn = []\n",
    "    files_Pn = []\n",
    "\n",
    "    # Iterate over all filenames in path\n",
    "    for filename in filenames_all:\n",
    "\n",
    "        # Extract parameter information from file name\n",
    "        parameters = filename.split(\"_\")\n",
    "\n",
    "        if parameters[0]=='1D' or parameters[0]=='2D' or parameters[0]=='3D':\n",
    "\n",
    "            D = int((parameters[0])[0]) # hypercube dimension\n",
    "            L = int(parameters[1]) # hypercube linear size\n",
    "            N = int(parameters[2]) # total particles\n",
    "            l = int(parameters[3]) # subsystem linear size (actually l_max)\n",
    "            U = float(parameters[4]) # interaction potential\n",
    "            t = float(parameters[5]) # tunneling parameter\n",
    "            beta = float(parameters[6]) # imaginary time length (K_B*T)**(-1)\n",
    "            bin_size = int(parameters[7])\n",
    "            bins_wanted = int(parameters[8]) # number of bins saved in file\n",
    "            filetype = (parameters[9]).split(\"-mA\") # identifies the data stored in file\n",
    "            seed = int(parameters[10].split(\".\")[0]) # random seed used\n",
    "\n",
    "            if filetype[0]=='PnSquared' and int(filetype[1])==mA_sector_wanted:\n",
    "                # Set parameters of simulations from differenet seeds we want to evaluate [D,L,N,l,U,t,beta,bins,type]\n",
    "                parameters_to_evaluate = [D_want,\n",
    "                                          L_want,\n",
    "                                          N_want,\n",
    "                                          l_want,\n",
    "                                          U_want,\n",
    "                                          t_want,\n",
    "                                          beta_want,\n",
    "                                          bin_size_want,\n",
    "                                          bins_want,\n",
    "                                          'PnSquared']\n",
    "\n",
    "                if [D,L,N,l,U,t,beta,bin_size,bins_wanted,filetype[0]] == parameters_to_evaluate:\n",
    "                    if os.stat(path+filename).st_size > 0:\n",
    "                        with open(path+filename) as f:\n",
    "                           count = sum(1 for _ in f)\n",
    "                        if count == bins_wanted: # only consider files that managed to save number of bins wanted\n",
    "                            files_PnSquared.append(filename)\n",
    "\n",
    "                            filename_splitted = filename.split('_')\n",
    "                            filename_splitted[9] = 'Pn-mA'+str(mA_sector_wanted)\n",
    "                            filename_Pn = \"_\".join(filename_splitted)\n",
    "                            files_Pn.append(filename_Pn)\n",
    "\n",
    "                            filename_splitted = filename.split('_')\n",
    "                            filename_splitted[9] = 'SWAPn-mA'+str(mA_sector_wanted)\n",
    "                            filename_SWAPn = \"_\".join(filename_splitted)\n",
    "                            files_SWAPn.append(filename_SWAPn)\n",
    "\n",
    "                            seeds_measured.append(seed)\n",
    "\n",
    "                        else: \n",
    "                            incomplete_seeds.append(seed)\n",
    "\n",
    "    # Get total number of seeds \n",
    "    number_of_seeds = len(files_PnSquared)//1\n",
    "\n",
    "    # Get column sum of P(n) files for each seed\n",
    "    print('Initial number of seeds: ',number_of_seeds,\"\\n\")\n",
    "    PnSquared_col_sums = np.zeros((number_of_seeds,N_want+1)).astype(int)\n",
    "    Pn_col_sums = np.zeros((number_of_seeds,N_want+1)).astype(int)\n",
    "    SWAP_col_sums = np.zeros((number_of_seeds,N_want+1)).astype(int)\n",
    "    for s in range(number_of_seeds):\n",
    "\n",
    "        data = np.loadtxt(path+files_PnSquared[s])\n",
    "        PnSquared_col_sums[s] = np.sum(data,axis=0)\n",
    "\n",
    "        data = np.loadtxt(path+files_Pn[s])\n",
    "        Pn_col_sums[s] = np.sum(data,axis=0)\n",
    "\n",
    "        data = np.loadtxt(path+files_SWAPn[s])\n",
    "        SWAP_col_sums[s] = np.sum(data,axis=0)\n",
    "        \n",
    "    # Jacknife \n",
    "    SWAP_col_seed_sum = np.sum(SWAP_col_sums,axis=0)\n",
    "    PnSquared_col_seed_sum = np.sum(PnSquared_col_sums,axis=0)\n",
    "    Pn_col_seed_sum = np.sum(Pn_col_sums,axis=0)\n",
    "    S2_i = np.zeros(SWAP_col_sums.shape)\n",
    "    S2_acc_i = np.zeros(SWAP_col_sums.shape[0])\n",
    "    for i in range(SWAP_col_sums.shape[0]):\n",
    "        \n",
    "        SWAP_jacknifed_sum = SWAP_col_seed_sum - SWAP_col_sums[i]\n",
    "        PnSquared_jacknifed_sum = PnSquared_col_seed_sum - PnSquared_col_sums[i]\n",
    "        Pn_jacknifed_sum = Pn_col_seed_sum - Pn_col_sums[i]\n",
    "\n",
    "        S2_i[i] = -np.log ( SWAP_jacknifed_sum / PnSquared_jacknifed_sum ) \n",
    "        S2_acc_i[i] = np.sum(Pn_jacknifed_sum * S2_i[i]) / np.sum(Pn_jacknifed_sum)\n",
    "\n",
    "    S2 = S2_i \n",
    "    \n",
    "    # Get Pn\n",
    "    Pn = Pn_col_sums / np.sum(Pn_col_sums,axis=1)[:,None]\n",
    "\n",
    "    # Some seeds might have been thrown away\n",
    "#     number_of_seeds = SWAP.shape[0]\n",
    "\n",
    "    print(\"\\nFinal number of seeds: \",number_of_seeds)\n",
    "\n",
    "#     # Get mean of S2 and std errors\n",
    "#     S2_mean = np.mean(S2,axis=0)\n",
    "#     S2_err = np.std(S2,axis=0) / np.sqrt(number_of_seeds)\n",
    "\n",
    "    # Get mean of Pn and std errors\n",
    "    Pn_mean = np.mean(Pn,axis=0)\n",
    "    Pn_err = np.std(Pn,axis=0) / np.sqrt(number_of_seeds)\n",
    "\n",
    "#     print(\"partition size: \", mA_sector_wanted)\n",
    "#     # Print P(n),S2(n) for each sector to screen\n",
    "#     for i in range(len(S2_mean)):\n",
    "#         print(\"P(n=%d) = %.4f +/- %.4f\"%(i,Pn_mean[i],Pn_err[i]))\n",
    "#     print(\"\\n\")\n",
    "#     for i in range(len(S2_mean)):\n",
    "#         print(\"S2(n=%d) = %.4f +/- %.4f\"%(i,S2_mean[i],S2_err[i]))\n",
    "\n",
    "# print(\"\\n\")\n",
    "# for i in range(len(S2_mean)):\n",
    "#     print(\"Numerator(n=%d) = %.6f\"%(i,np.mean(SWAP_col_sums[i],axis=0)))\n",
    "\n",
    "# print(\"\\n\")\n",
    "# for i in range(len(S2_mean)):\n",
    "#     print(\"Denominator(n=%d) = %.6f\"%(i,np.mean(PnSquared_col_sums[i],axis=0)))\n",
    "    \n",
    "print(\"\\nincomplete seeds: \",[int(i) for i in incomplete_seeds])\n",
    "\n",
    "# print(\"Seeds not included for some reason: \")\n",
    "\n",
    "# for i in seeds_list:\n",
    "#     if not(i in seeds_measured):\n",
    "#         print(i,end=\",\")"
   ]
  },
  {
   "cell_type": "code",
   "execution_count": 16,
   "metadata": {},
   "outputs": [],
   "source": [
    "import matplotlib.pyplot as plt"
   ]
  },
  {
   "cell_type": "code",
   "execution_count": 17,
   "metadata": {},
   "outputs": [],
   "source": [
    "bins=np.arange(0.03,0.04,0.0005)"
   ]
  },
  {
   "cell_type": "code",
   "execution_count": 18,
   "metadata": {},
   "outputs": [
    {
     "data": {
      "text/plain": [
       "[<matplotlib.lines.Line2D at 0x7fe0c625e4d0>]"
      ]
     },
     "execution_count": 18,
     "metadata": {},
     "output_type": "execute_result"
    },
    {
     "data": {
      "image/png": "[encoded data removed]",
      "text/plain": [
       "<Figure size 432x288 with 1 Axes>"
      ]
     },
     "metadata": {
      "needs_background": "light"
     },
     "output_type": "display_data"
    }
   ],
   "source": [
    "# counts, bin_edges = np.histogram(S2[:,2],bins=bins)\n",
    "counts, bin_edges = np.histogram(S2[:,0])\n",
    "plt.plot(bin_edges[:-1],counts,'o')"
   ]
  },
  {
   "cell_type": "code",
   "execution_count": 19,
   "metadata": {},
   "outputs": [
    {
     "data": {
      "text/plain": [
       "[<matplotlib.lines.Line2D at 0x7fe0c5a93050>]"
      ]
     },
     "execution_count": 19,
     "metadata": {},
     "output_type": "execute_result"
    },
    {
     "data": {
      "image/png": "[encoded data removed]",
      "text/plain": [
       "<Figure size 432x288 with 1 Axes>"
      ]
     },
     "metadata": {
      "needs_background": "light"
     },
     "output_type": "display_data"
    }
   ],
   "source": [
    "counts, bin_edges = np.histogram(S2[:,1])\n",
    "plt.plot(bin_edges[:-1],counts,'o')"
   ]
  },
  {
   "cell_type": "code",
   "execution_count": 20,
   "metadata": {},
   "outputs": [
    {
     "data": {
      "text/plain": [
       "[<matplotlib.lines.Line2D at 0x7fe0c4432c50>]"
      ]
     },
     "execution_count": 20,
     "metadata": {},
     "output_type": "execute_result"
    },
    {
     "data": {
      "image/png": "[encoded data removed]",
      "text/plain": [
       "<Figure size 432x288 with 1 Axes>"
      ]
     },
     "metadata": {
      "needs_background": "light"
     },
     "output_type": "display_data"
    }
   ],
   "source": [
    "counts, bin_edges = np.histogram(S2[:,2])\n",
    "plt.plot(bin_edges[:-1],counts,'o')"
   ]
  },
  {
   "cell_type": "code",
   "execution_count": 21,
   "metadata": {},
   "outputs": [
    {
     "data": {
      "text/plain": [
       "[<matplotlib.lines.Line2D at 0x7fe0c44edd50>]"
      ]
     },
     "execution_count": 21,
     "metadata": {},
     "output_type": "execute_result"
    },
    {
     "data": {
      "image/png": "[encoded data removed]",
      "text/plain": [
       "<Figure size 432x288 with 1 Axes>"
      ]
     },
     "metadata": {
      "needs_background": "light"
     },
     "output_type": "display_data"
    }
   ],
   "source": [
    "counts, bin_edges = np.histogram(S2[:,3])\n",
    "plt.plot(bin_edges[:-1],counts,'o')"
   ]
  },
  {
   "cell_type": "code",
   "execution_count": 22,
   "metadata": {},
   "outputs": [
    {
     "data": {
      "text/plain": [
       "[<matplotlib.lines.Line2D at 0x7fe0c45589d0>]"
      ]
     },
     "execution_count": 22,
     "metadata": {},
     "output_type": "execute_result"
    },
    {
     "data": {
      "image/png": "[encoded data removed]",
      "text/plain": [
       "<Figure size 432x288 with 1 Axes>"
      ]
     },
     "metadata": {
      "needs_background": "light"
     },
     "output_type": "display_data"
    }
   ],
   "source": [
    "counts, bin_edges = np.histogram(S2[:,4])\n",
    "plt.plot(bin_edges[:-1],counts,'o')"
   ]
  },
  {
   "cell_type": "code",
   "execution_count": 23,
   "metadata": {},
   "outputs": [
    {
     "data": {
      "text/plain": [
       "[<matplotlib.lines.Line2D at 0x7fe0c45ca610>]"
      ]
     },
     "execution_count": 23,
     "metadata": {},
     "output_type": "execute_result"
    },
    {
     "data": {
      "image/png": "[encoded data removed]",
      "text/plain": [
       "<Figure size 432x288 with 1 Axes>"
      ]
     },
     "metadata": {
      "needs_background": "light"
     },
     "output_type": "display_data"
    }
   ],
   "source": [
    "counts, bin_edges = np.histogram(S2[:,5])\n",
    "plt.plot(bin_edges[:-1],counts,'o')"
   ]
  },
  {
   "cell_type": "code",
   "execution_count": 24,
   "metadata": {},
   "outputs": [
    {
     "data": {
      "text/plain": [
       "[<matplotlib.lines.Line2D at 0x7fe0c4641990>]"
      ]
     },
     "execution_count": 24,
     "metadata": {},
     "output_type": "execute_result"
    },
    {
     "data": {
      "image/png": "[encoded data removed]",
      "text/plain": [
       "<Figure size 432x288 with 1 Axes>"
      ]
     },
     "metadata": {
      "needs_background": "light"
     },
     "output_type": "display_data"
    }
   ],
   "source": [
    "counts, bin_edges = np.histogram(S2[:,6])\n",
    "plt.plot(bin_edges[:-1],counts,'o')"
   ]
  },
  {
   "cell_type": "code",
   "execution_count": 25,
   "metadata": {},
   "outputs": [],
   "source": [
    "S2_mean = np.mean(S2,axis=0)\n",
    "S2_err = np.std(S2,axis=0) * np.sqrt(S2.shape[0])\n",
    "\n",
    "S2_acc_mean = np.mean(S2_acc_i,axis=0)\n",
    "S2_acc_err = np.std(S2_acc_i,axis=0) * np.sqrt(S2_acc_i.shape[0])"
   ]
  },
  {
   "cell_type": "code",
   "execution_count": 26,
   "metadata": {},
   "outputs": [
    {
     "name": "stdout",
     "output_type": "stream",
     "text": [
      "partition size:  3 \n",
      "\n",
      "P(n=0) = 0.0002 +/- 0.0000\n",
      "P(n=1) = 0.0174 +/- 0.0000\n",
      "P(n=2) = 0.2130 +/- 0.0000\n",
      "P(n=3) = 0.5388 +/- 0.0000\n",
      "P(n=4) = 0.2130 +/- 0.0000\n",
      "P(n=5) = 0.0174 +/- 0.0000\n",
      "P(n=6) = 0.0002 +/- 0.0000\n",
      "\n",
      "\n",
      "S2(n=0) = 0.0075 +/- 0.0574\n",
      "S2(n=1) = 0.0266 +/- 0.0046\n",
      "S2(n=2) = 0.0353 +/- 0.0005\n",
      "S2(n=3) = 0.0175 +/- 0.0002\n",
      "S2(n=4) = 0.0357 +/- 0.0005\n",
      "S2(n=5) = 0.0207 +/- 0.0056\n",
      "S2(n=6) = 0.4762 +/- 0.4560\n",
      "\n",
      "S2_acc = 0.0255 +/- 0.0002\n"
     ]
    }
   ],
   "source": [
    "    print(\"partition size: \", mA_sector_wanted,\"\\n\")\n",
    "    # Print P(n),S2(n) for each sector to screen\n",
    "    for i in range(len(S2_mean)):\n",
    "        print(\"P(n=%d) = %.4f +/- %.4f\"%(i,Pn_mean[i],Pn_err[i]))\n",
    "    print(\"\\n\")\n",
    "    for i in range(len(S2_mean)):\n",
    "        print(\"S2(n=%d) = %.4f +/- %.4f\"%(i,S2_mean[i],S2_err[i]))\n",
    "        \n",
    "    print(\"\\nS2_acc = %.4f +/- %.4f\"%(S2_acc_mean,S2_acc_err))"
   ]
  },
  {
   "cell_type": "code",
   "execution_count": 27,
   "metadata": {},
   "outputs": [
    {
     "ename": "SyntaxError",
     "evalue": "invalid syntax (<ipython-input-27-fe59d515b676>, line 1)",
     "output_type": "error",
     "traceback": [
      "\u001b[0;36m  File \u001b[0;32m\"<ipython-input-27-fe59d515b676>\"\u001b[0;36m, line \u001b[0;32m1\u001b[0m\n\u001b[0;31m    P0=0.0002235529518476005   S2|n=0: -0.0                  sum(S^2)= 1.0\u001b[0m\n\u001b[0m                                ^\u001b[0m\n\u001b[0;31mSyntaxError\u001b[0m\u001b[0;31m:\u001b[0m invalid syntax\n"
     ]
    }
   ],
   "source": [
    "P0=0.0002235529518476005   S2|n=0: -0.0                  sum(S^2)= 1.0\n",
    "P1=0.016623913657452978    S2|n=1: 0.026888361996240555  sum(S^2)= 0.9999999999999988\n",
    "P2=0.21010965310436983     S2|n=2: 0.041042629598610034   sum(S^2)= 1.0\n",
    "P3=0.5460857605726592      S2|n=3: 0.018673145343382318    sum(S^2)= 0.9999999999999994\n",
    "P4=0.21010965310436974     S2|n=4: 0.04104262959860923    sum(S^2)= 1.0000000000000004\n",
    "P5=0.01662391365745297     S2|n=5: 0.026888361996237817    sum(S^2)= 1.0\n",
    "P6=0.00022355295184760032  S2|n=6: -0.0                sum(S^2)= 1.0"
   ]
  },
  {
   "cell_type": "code",
   "execution_count": null,
   "metadata": {},
   "outputs": [],
   "source": []
  },
  {
   "cell_type": "code",
   "execution_count": null,
   "metadata": {},
   "outputs": [],
   "source": [
    "P0=0.009640563675592578 S2|n=0: -0.0               sum(S^2)= 1.0\n",
    "P1=0.19472452035504592  S2|n=1: 0.01577655988456121 sum(S^2)= 1.0000000000000004\n",
    "P2=0.5912698319387226   S2|n=2: 0.005780436803835625 sum(S^2)= 1.0000000000000002\n",
    "P3=0.19472452035504592  S2|n=3: 0.01577655988456121 sum(S^2)= 1.0000000000000004\n",
    "P4=0.009640563675592581 S2|n=4: -0.0               sum(S^2)= 1.0"
   ]
  },
  {
   "cell_type": "code",
   "execution_count": null,
   "metadata": {},
   "outputs": [],
   "source": []
  }
 ],
 "metadata": {
  "kernelspec": {
   "display_name": "Python 3",
   "language": "python",
   "name": "python3"
  },
  "language_info": {
   "codemirror_mode": {
    "name": "ipython",
    "version": 3
   },
   "file_extension": ".py",
   "mimetype": "text/x-python",
   "name": "python",
   "nbconvert_exporter": "python",
   "pygments_lexer": "ipython3",
   "version": "3.7.9"
  }
 },
 "nbformat": 4,
 "nbformat_minor": 4
}
