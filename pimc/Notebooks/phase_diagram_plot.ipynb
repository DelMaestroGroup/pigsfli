{
 "cells": [
  {
   "cell_type": "markdown",
   "metadata": {},
   "source": [
    "### Bose-Hubbard phase diagram"
   ]
  },
  {
   "cell_type": "code",
   "execution_count": 2,
   "metadata": {},
   "outputs": [],
   "source": [
    "import numpy as np\n",
    "import matplotlib.pyplot as plt"
   ]
  },
  {
   "cell_type": "code",
   "execution_count": 3,
   "metadata": {},
   "outputs": [],
   "source": [
    "# Parameters\n",
    "N=100\n",
    "L=100\n",
    "l_max=50\n",
    "beta=2.0\n",
    "bins_wanted=100\n",
    "bin_size=100"
   ]
  },
  {
   "cell_type": "code",
   "execution_count": 4,
   "metadata": {},
   "outputs": [],
   "source": [
    "# Copy paste results from phase diagram script (for now)\n",
    "U = [0.0100,0.0162,0.0264,0.0428,0.0695,0.1129,0.1833,0.2976,0.4833,0.7848,1.2743,2.0691,3.3598,5.4556,8.8587,14.3845,23.3572,37.9269,61.5848,100.0000]\n",
    "S2acc = [0.0551,0.0090,0.0649,0.0337,0.0337,0.0127,0.0584,-0.0017,-0.0457,0.0100,0.0706,0.0659,0.0774,0.1422,0.1229,0.1551,-0.0085,-0.0061,0.0261,0.0106]\n",
    "S2acc_err = [0.0745,0.0899,0.0633,0.0364,0.0542,0.0491,0.0570,0.0568,0.0489,0.0708,0.0407,0.0371,0.0413,0.0329,0.0427,0.0853,0.0174,0.0087,0.0097,0.0057]"
   ]
  },
  {
   "cell_type": "code",
   "execution_count": 5,
   "metadata": {},
   "outputs": [
    {
     "data": {
      "text/plain": [
       "[]"
      ]
     },
     "execution_count": 5,
     "metadata": {},
     "output_type": "execute_result"
    },
    {
     "data": {
      "image/png": "[encoded data removed]",
      "text/plain": [
       "<Figure size 432x288 with 1 Axes>"
      ]
     },
     "metadata": {
      "needs_background": "light"
     },
     "output_type": "display_data"
    }
   ],
   "source": [
    "# Plot\n",
    "colors = ['dodgerblue','salmon','mediumseagreen']\n",
    "fig,ax1 = plt.subplots()\n",
    "\n",
    "ax1.errorbar(U,S2acc, yerr=S2acc_err, fmt='.', capsize=3,ms=0)\n",
    "ax1.scatter(U,S2acc,marker='o',lw=0.47,color=colors[2],ec='black',zorder=10)\n",
    "ax1.plot(U,S2acc,lw=1,color=colors[2])\n",
    "\n",
    "ax1.set_ylabel(r'$S2^{\\rm{acc}}$')\n",
    "ax1.set_xlabel(r'$U/t$')\n",
    "ax1.annotate(r\"$D=1,L=100,N=100,\\ell_{\\rm{max}}=50$\",(0.22,0.82),xycoords='figure fraction')\n",
    "# ax1.annotate(r\"$U=4.0$\",(0.71,0.45),xycoords='figure fraction')\n",
    "# ax1.annotate(r\"$\\ell_{\\rm{max}}=2$\",(0.71,0.45),xycoords='figure fraction')\n",
    "# ax1.axhline(0,color=\"#888888\",zorder=-1)\n",
    "ax1.axvline(3.3,color=\"#888888\",zorder=-1)\n",
    "ax1.set_xlim(U[0])\n",
    "ax1.tick_params(direction='in')\n",
    "plt.xscale('log')\n",
    "plt.savefig(\"S2accPhaseDiagramN100.pdf\",dpi=400)\n",
    "plt.savefig(\"S2accPhaseDiagramN100.png\",dpi=400)\n",
    "plt.plot()"
   ]
  },
  {
   "cell_type": "code",
   "execution_count": null,
   "metadata": {},
   "outputs": [],
   "source": []
  },
  {
   "cell_type": "code",
   "execution_count": null,
   "metadata": {},
   "outputs": [],
   "source": []
  }
 ],
 "metadata": {
  "kernelspec": {
   "display_name": "Python 3",
   "language": "python",
   "name": "python3"
  },
  "language_info": {
   "codemirror_mode": {
    "name": "ipython",
    "version": 3
   },
   "file_extension": ".py",
   "mimetype": "text/x-python",
   "name": "python",
   "nbconvert_exporter": "python",
   "pygments_lexer": "ipython3",
   "version": "3.7.9"
  }
 },
 "nbformat": 4,
 "nbformat_minor": 4
}
