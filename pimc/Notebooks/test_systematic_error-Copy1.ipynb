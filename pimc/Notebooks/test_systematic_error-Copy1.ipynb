{
 "cells": [
  {
   "cell_type": "code",
   "execution_count": 2,
   "metadata": {},
   "outputs": [],
   "source": [
    "import matplotlib.pyplot as plt\n",
    "import numpy as np"
   ]
  },
  {
   "cell_type": "code",
   "execution_count": 6,
   "metadata": {},
   "outputs": [],
   "source": [
    "import os\n",
    "# Save all the file names in the path as strings to a list\n",
    "path=\"/Users/ecasiano/Desktop/PrototypeScripts/ManySeeds/TestSystematicError/\"\n",
    "filenames_all = os.listdir(path)\n",
    "\n",
    "# Set desired total number of particles\n",
    "L_want = 4\n",
    "N_want = 4\n",
    "l_want = 2\n",
    "beta_want = 4.000000\n",
    "bins_want = 1000\n",
    "D_want = 1\n",
    "U_want = 3.300000\n",
    "t_want = 1.000000\n",
    "\n",
    "# Saves the files relevant to P(n) & S2(n) calculation\n",
    "files_PnSquared = []\n",
    "files_SWAPn = []\n",
    "files_Pn = []\n",
    "\n",
    "# Iterate over all filenames in path\n",
    "for filename in filenames_all:\n",
    "    \n",
    "    # Extract parameter information from file name\n",
    "    parameters = filename.split(\"_\")\n",
    "    \n",
    "    if parameters[0]=='1D' or parameters[0]=='2D' or parameters[0]=='3D':\n",
    "    \n",
    "        D = int((parameters[0])[0]) # hypercube dimension\n",
    "        L = int(parameters[1]) # hypercube linear size\n",
    "        N = int(parameters[2]) # total particles\n",
    "        l = int(parameters[3]) # subsystem linear size (actually l_max)\n",
    "        U = float(parameters[4]) # interaction potential\n",
    "        t = float(parameters[5]) # tunneling parameter\n",
    "        beta = float(parameters[6]) # imaginary time length (K_B*T)**(-1)\n",
    "        bin_size = int(parameters[7])\n",
    "        bins_wanted = int(parameters[8]) # number of bins saved in file\n",
    "        filetype = (parameters[9]).split(\"-mA\") # identifies the data stored in file\n",
    "        seed = int(parameters[10].split(\".\")[0]) # random seed used\n",
    "        \n",
    "        mA_sector_wanted = 2\n",
    "        \n",
    "        if filetype[0]=='PnSquared' and int(filetype[1])==mA_sector_wanted:\n",
    "            \n",
    "            # Set parameters of simulations from differenet seeds we want to evaluate [D,L,N,l,U,t,beta,bins,type]\n",
    "            parameters_to_evaluate = [D_want,\n",
    "                                      L_want,\n",
    "                                      N_want,\n",
    "                                      l_want,\n",
    "                                      U_want,\n",
    "                                      t_want,\n",
    "                                      beta_want,\n",
    "                                      bins_want,\n",
    "                                      'PnSquared']\n",
    "\n",
    "            if [D,L,N,l,U,t,beta,bins_wanted,filetype[0]] == parameters_to_evaluate:\n",
    "                if os.stat(path+filename).st_size > 0:\n",
    "                    with open(path+filename) as f:\n",
    "                       count = sum(1 for _ in f)\n",
    "                    if count == bins_wanted: # only consider files that managed to save number of bins wanted\n",
    "                        files_PnSquared.append(filename)\n",
    "                        \n",
    "                        filename_splitted = filename.split('_')\n",
    "                        filename_splitted[9] = 'Pn-mA'+str(mA_sector_wanted)\n",
    "                        filename_Pn = \"_\".join(filename_splitted)\n",
    "                        files_Pn.append(filename_Pn)\n",
    "                        \n",
    "                        filename_splitted = filename.split('_')\n",
    "                        filename_splitted[9] = 'SWAPn-mA'+str(mA_sector_wanted) # change the file type\n",
    "#                         print(filename_splitted)\n",
    "                        filename_SWAPn = \"_\".join(filename_splitted)\n",
    "                        files_SWAPn.append(filename_SWAPn)\n",
    "                        \n",
    "# Get total number of seeds \n",
    "number_of_seeds = len(files_PnSquared)"
   ]
  },
  {
   "cell_type": "code",
   "execution_count": 7,
   "metadata": {},
   "outputs": [
    {
     "data": {
      "text/plain": [
       "['1D_4_4_2_3.300000_1.000000_4.000000_10000_1000_SWAPn-mA2_679.dat',\n",
       " '1D_4_4_2_3.300000_1.000000_4.000000_10000_1000_SWAPn-mA2_123.dat',\n",
       " '1D_4_4_2_3.300000_1.000000_4.000000_10000_1000_SWAPn-mA2_645.dat',\n",
       " '1D_4_4_2_3.300000_1.000000_4.000000_10000_1000_SWAPn-mA2_889.dat',\n",
       " '1D_4_4_2_3.300000_1.000000_4.000000_10000_1000_SWAPn-mA2_651.dat',\n",
       " '1D_4_4_2_3.300000_1.000000_4.000000_10000_1000_SWAPn-mA2_137.dat',\n",
       " '1D_4_4_2_3.300000_1.000000_4.000000_10000_1000_SWAPn-mA2_862.dat',\n",
       " '1D_4_4_2_3.300000_1.000000_4.000000_10000_1000_SWAPn-mA2_876.dat',\n",
       " '1D_4_4_2_3.300000_1.000000_4.000000_10000_1000_SWAPn-mA2_686.dat',\n",
       " '1D_4_4_2_3.300000_1.000000_4.000000_10000_1000_SWAPn-mA2_692.dat']"
      ]
     },
     "execution_count": 7,
     "metadata": {},
     "output_type": "execute_result"
    }
   ],
   "source": [
    "files_SWAPn[:10]"
   ]
  },
  {
   "cell_type": "markdown",
   "metadata": {},
   "source": [
    "### Jacknife notes"
   ]
  },
  {
   "cell_type": "code",
   "execution_count": 8,
   "metadata": {},
   "outputs": [],
   "source": [
    "# # SWAP_col_sums = np.zeros((number_of_seeds,N_want+1))\n",
    "# # Pn_squared_l_col_sums = np.zeros((number_of_seeds,N_want+1))\n",
    "# S2n_seeds = np.zeros((number_of_seeds,N+1))\n",
    "# S2n_seeds_err = np.zeros((number_of_seeds+1))\n",
    "# for s in range(number_of_seeds):\n",
    "#     data_SWAPn = np.loadtxt(path+files_SWAPn[s])\n",
    "#     SWAP_col_sums = np.sum(data_SWAPn,axis=0)\n",
    "    \n",
    "#     data_PnSquared = np.loadtxt(path+files_PnSquared[s])\n",
    "#     Pn_squared_l_col_sums = np.sum(data_PnSquared,axis=0)\n",
    "    \n",
    "#     S2n_i = np.zeros(data_SWAPn.shape)\n",
    "#     for i in range(data_SWAPn.shape[0]):\n",
    "#         jacknifed_SWAPn = SWAP_col_sums - data_SWAPn[i]\n",
    "#         jacknifed_PnSquared = Pn_squared_l_col_sums - data_PnSquared[i]\n",
    "        \n",
    "#         S2n_i[i] = -np.log(jacknifed_SWAPn/jacknifed_PnSquared)\n",
    "    \n",
    "#     S2n = np.mean(S2n_i,axis=0)\n",
    "#     N_rows = S2n.shape[0]\n",
    "#     S2n_err = np.std(S2n,axis=0)\n",
    "#     S2n_err *= np.sqrt(N_rows-1)\n",
    "    \n",
    "#     S2n_seeds[s] = S2n\n",
    "#     S2n_seeds_err[s] = S2n_err"
   ]
  },
  {
   "cell_type": "code",
   "execution_count": 9,
   "metadata": {},
   "outputs": [
    {
     "data": {
      "text/plain": [
       "1000"
      ]
     },
     "execution_count": 9,
     "metadata": {},
     "output_type": "execute_result"
    }
   ],
   "source": [
    "number_of_seeds"
   ]
  },
  {
   "cell_type": "markdown",
   "metadata": {},
   "source": [
    "### Get mean of numerators and denominators for each seed"
   ]
  },
  {
   "cell_type": "code",
   "execution_count": 12,
   "metadata": {},
   "outputs": [],
   "source": [
    "seed_idx = 1\n",
    "data_SWAPn = np.loadtxt(path+files_SWAPn[seed_idx])         # NUMERATOR\n",
    "data_PnSquared = np.loadtxt(path+files_PnSquared[seed_idx]) # DENOMINATOR"
   ]
  },
  {
   "cell_type": "code",
   "execution_count": 8,
   "metadata": {},
   "outputs": [
    {
     "data": {
      "text/plain": [
       "array([0, 1, 2, 3, 4])"
      ]
     },
     "execution_count": 8,
     "metadata": {},
     "output_type": "execute_result"
    }
   ],
   "source": [
    "n_list = np.arange(N+1,dtype=int)\n",
    "n_list"
   ]
  },
  {
   "cell_type": "code",
   "execution_count": 14,
   "metadata": {},
   "outputs": [
    {
     "data": {
      "text/plain": [
       "2255130.0"
      ]
     },
     "execution_count": 14,
     "metadata": {},
     "output_type": "execute_result"
    }
   ],
   "source": [
    "data_SWAPn[:10]\n"
   ]
  },
  {
   "cell_type": "code",
   "execution_count": 17,
   "metadata": {},
   "outputs": [],
   "source": [
    "SWAPnN = data_SWAPn[:,N]\n",
    "SWAPn0 = data_SWAPn[:,0]"
   ]
  },
  {
   "cell_type": "code",
   "execution_count": 44,
   "metadata": {},
   "outputs": [],
   "source": [
    "counts0,bin_edges0 = np.histogram(SWAPn0,bins=bin_edges)\n",
    "countsN,bin_edgesN = np.histogram(SWAPnN,bins=bin_edges)"
   ]
  },
  {
   "cell_type": "code",
   "execution_count": 45,
   "metadata": {},
   "outputs": [
    {
     "data": {
      "text/plain": [
       "array([  0,  10,  20,  30,  40,  50,  60,  70,  80,  90, 100])"
      ]
     },
     "execution_count": 45,
     "metadata": {},
     "output_type": "execute_result"
    }
   ],
   "source": [
    "bin_edges = np.arange(101,step=10,dtype=int)\n",
    "bin_edges"
   ]
  },
  {
   "cell_type": "code",
   "execution_count": 46,
   "metadata": {},
   "outputs": [
    {
     "data": {
      "text/plain": [
       "<matplotlib.legend.Legend at 0x7f96b96b6910>"
      ]
     },
     "execution_count": 46,
     "metadata": {},
     "output_type": "execute_result"
    },
    {
     "data": {
      "image/png": "[encoded data removed]",
      "text/plain": [
       "<Figure size 432x288 with 1 Axes>"
      ]
     },
     "metadata": {
      "needs_background": "light"
     },
     "output_type": "display_data"
    }
   ],
   "source": [
    "plt.plot(bin_edges[:-1],counts0,'s',label='n=0');\n",
    "plt.plot(bin_edges[:-1],countsN,'o',label='n=N');\n",
    "plt.yscale('log')\n",
    "plt.legend()"
   ]
  },
  {
   "cell_type": "code",
   "execution_count": 47,
   "metadata": {},
   "outputs": [
    {
     "data": {
      "text/plain": [
       "<matplotlib.legend.Legend at 0x7f96b98efd10>"
      ]
     },
     "execution_count": 47,
     "metadata": {},
     "output_type": "execute_result"
    },
    {
     "data": {
      "image/png": "[encoded data removed]",
      "text/plain": [
       "<Figure size 432x288 with 1 Axes>"
      ]
     },
     "metadata": {
      "needs_background": "light"
     },
     "output_type": "display_data"
    }
   ],
   "source": [
    "PnSquaredN = data_PnSquared[:,N]\n",
    "PnSquared0 = data_PnSquared[:,0]\n",
    "\n",
    "counts0_PnSquared,bin_edges0_PnSquared = np.histogram(PnSquared0,bins=bin_edges)\n",
    "countsN_PnSquared,bin_edgesN_PnSquared = np.histogram(PnSquaredN,bins=bin_edges)\n",
    "\n",
    "plt.plot(bin_edges[:-1],counts0_PnSquared,'s',label='n=0');\n",
    "plt.plot(bin_edges[:-1],countsN_PnSquared,'o',label='n=N');\n",
    "plt.yscale('log')\n",
    "plt.legend()"
   ]
  },
  {
   "cell_type": "code",
   "execution_count": 26,
   "metadata": {},
   "outputs": [],
   "source": [
    "# SWAPn = np.zeros((number_of_seeds,N+1))\n",
    "# PnSquared = np.zeros((number_of_seeds,N+1))\n",
    "# for s in range(number_of_seeds):\n",
    "#     data_SWAPn = np.loadtxt(path+files_SWAPn[s])\n",
    "#     SWAP_col_mean = np.sum(data_SWAPn,axis=0)\n",
    "\n",
    "#     data_PnSquared = np.loadtxt(path+files_PnSquared[s])\n",
    "#     Pn_squared_l_col_mean = np.sum(data_PnSquared,axis=0)\n",
    "    \n",
    "#     SWAPn[s] = SWAP_col_mean\n",
    "#     PnSquared[s] = Pn_squared_l_col_mean\n",
    "    \n",
    "#     SWAPn"
   ]
  },
  {
   "cell_type": "markdown",
   "metadata": {},
   "source": [
    "### Plot $S_2(n)$ as function of seed"
   ]
  },
  {
   "cell_type": "code",
   "execution_count": 172,
   "metadata": {},
   "outputs": [],
   "source": [
    "SWAPn_hist = []\n",
    "num_bins = 20\n",
    "SWAPn_hist.append(np.histogram(SWAPn[:,0],bins=num_bins,density=False))\n",
    "SWAPn_hist.append(np.histogram(SWAPn[:,N],bins=num_bins,density=False))\n",
    "SWAPn_hist.append(np.histogram(PnSquared[:,0],bins=num_bins,density=False))\n",
    "SWAPn_hist.append(np.histogram(PnSquared[:,N],bins=num_bins,density=False))"
   ]
  },
  {
   "cell_type": "code",
   "execution_count": 173,
   "metadata": {},
   "outputs": [
    {
     "data": {
      "text/plain": [
       "(38533.0, 62678.0)"
      ]
     },
     "execution_count": 173,
     "metadata": {},
     "output_type": "execute_result"
    }
   ],
   "source": [
    "bin_min = SWAPn_hist[0][1][0]\n",
    "bin_max = SWAPn_hist[0][1][0]\n",
    "for i in range(len(SWAPn_hist)):\n",
    "    for j,bins in enumerate(SWAPn_hist[i][1]):\n",
    "        if np.min(bins) < bin_min: bin_min = np.min(bins)\n",
    "        if np.max(bins) > bin_max: bin_max = np.max(bins)\n",
    "bin_min,bin_max"
   ]
  },
  {
   "cell_type": "code",
   "execution_count": 174,
   "metadata": {},
   "outputs": [
    {
     "data": {
      "text/plain": [
       "array([38533.        , 39803.78947368, 41074.57894737, 42345.36842105,\n",
       "       43616.15789474, 44886.94736842, 46157.73684211, 47428.52631579,\n",
       "       48699.31578947, 49970.10526316, 51240.89473684, 52511.68421053,\n",
       "       53782.47368421, 55053.26315789, 56324.05263158, 57594.84210526,\n",
       "       58865.63157895, 60136.42105263, 61407.21052632, 62678.        ])"
      ]
     },
     "execution_count": 174,
     "metadata": {},
     "output_type": "execute_result"
    }
   ],
   "source": [
    "bins = np.linspace(bin_min,bin_max,num_bins)\n",
    "bins"
   ]
  },
  {
   "cell_type": "code",
   "execution_count": 175,
   "metadata": {},
   "outputs": [
    {
     "name": "stdout",
     "output_type": "stream",
     "text": [
      "[ 1  4  2  5  6  6 12  9 10  9  3  9  6  5  4  0  1  1  0  1]\n",
      "[ 1  0  0  1  4  2  9 12 17  9 11 11  5  4  3  3  0  0  1  1]\n",
      "[ 1  2  2  7  5 11  6 15 12  5  4  9  6  3  3  2  0  0  0  1]\n",
      "[ 3  3  4  5 11  2  9  6 11  9  6 11  8  4  0  0  0  1  0  1]\n"
     ]
    },
    {
     "data": {
      "image/png": "[encoded data removed]",
      "text/plain": [
       "<Figure size 432x288 with 1 Axes>"
      ]
     },
     "metadata": {
      "needs_background": "light"
     },
     "output_type": "display_data"
    }
   ],
   "source": [
    "labels = ['n=0, num','n=N, num','n=0, den','n=N, den']\n",
    "colors = ['blue','orange','purple','green']\n",
    "\n",
    "for i,cS in enumerate(SWAPn_hist):\n",
    "    print(cS[0])\n",
    "    plt.plot(bins,cS[0],alpha=0.4,color=colors[i])\n",
    "    plt.plot(bins,cS[0],'o',ms=3,color=colors[i],label=labels[i])\n",
    "    \n",
    "plt.xlabel('counts')\n",
    "plt.ylabel('number of seeds')\n",
    "plt.legend()\n",
    "plt.savefig('testSystematicErrorHist.png')"
   ]
  },
  {
   "cell_type": "code",
   "execution_count": null,
   "metadata": {},
   "outputs": [],
   "source": []
  },
  {
   "cell_type": "code",
   "execution_count": 176,
   "metadata": {},
   "outputs": [
    {
     "data": {
      "image/png": "[encoded data removed]",
      "text/plain": [
       "<Figure size 432x288 with 1 Axes>"
      ]
     },
     "metadata": {
      "needs_background": "light"
     },
     "output_type": "display_data"
    }
   ],
   "source": [
    "plt.plot(np.arange(number_of_seeds),SWAPn[:,0],'o',label=r'$n=0$')\n",
    "plt.plot(np.arange(number_of_seeds),SWAPn[:,N],'o',label=r'$n=N$')\n",
    "plt.axhline(np.mean(SWAPn[:,0]),color='dodgerblue')\n",
    "plt.axhline(np.mean(SWAPn[:,N]),color='orange')\n",
    "plt.xlabel('RNG Seed')\n",
    "plt.ylabel('Numerator')\n",
    "plt.legend()\n",
    "plt.savefig('numerators.png')"
   ]
  },
  {
   "cell_type": "code",
   "execution_count": 177,
   "metadata": {},
   "outputs": [
    {
     "data": {
      "image/png": "[encoded data removed]",
      "text/plain": [
       "<Figure size 432x288 with 1 Axes>"
      ]
     },
     "metadata": {
      "needs_background": "light"
     },
     "output_type": "display_data"
    }
   ],
   "source": [
    "plt.plot(np.arange(number_of_seeds),PnSquared[:,0],'o',label=r'$n=0$')\n",
    "plt.plot(np.arange(number_of_seeds),PnSquared[:,N],'o',label=r'$n=N$')\n",
    "plt.axhline(np.mean(PnSquared[:,0]),color='dodgerblue')\n",
    "plt.axhline(np.mean(PnSquared[:,N]),color='orange')\n",
    "plt.xlabel('RNG Seed')\n",
    "plt.ylabel('Denominator')\n",
    "plt.legend(loc='upper left')\n",
    "plt.savefig('denominators.png')"
   ]
  },
  {
   "cell_type": "code",
   "execution_count": null,
   "metadata": {},
   "outputs": [],
   "source": [
    "for n in range(N+1):\n",
    "    print(f\"<S2(n={n})> = {S2_mean[n]:0.6f} +/- {S2_err[n]:0.6f}\")"
   ]
  },
  {
   "cell_type": "markdown",
   "metadata": {},
   "source": [
    "### $P(n)$"
   ]
  },
  {
   "cell_type": "code",
   "execution_count": null,
   "metadata": {},
   "outputs": [],
   "source": [
    "data_Pn_m2 = np.loadtxt(path+\"1D_4_4_2_3.300000_1.000000_4.000000_1000_Pn-mA2_\"+str(seed)+\".dat\")\n",
    "np.mean(data_Pn_m2,axis=0)"
   ]
  },
  {
   "cell_type": "code",
   "execution_count": null,
   "metadata": {},
   "outputs": [],
   "source": [
    "data_Pn_col_sum_m2 = np.sum(data_Pn_m2,axis=0)"
   ]
  },
  {
   "cell_type": "code",
   "execution_count": null,
   "metadata": {},
   "outputs": [],
   "source": [
    "jacknifed_Pn = np.zeros(data_Pn_m2.shape)\n",
    "for i in range(data_Pn_m2.shape[0]):\n",
    "    data_Pn_col_sum_m2_i = data_Pn_col_sum_m2 - data_Pn_m2[i]\n",
    "        \n",
    "    jacknifed_Pn[i] = data_Pn_col_sum_m2_i\n",
    "jacknifed_Pn /= np.sum(jacknifed_Pn,axis=1)[:,None]"
   ]
  },
  {
   "cell_type": "code",
   "execution_count": null,
   "metadata": {},
   "outputs": [],
   "source": [
    "Pn_mean = np.mean(jacknifed_Pn,axis=0)\n",
    "Pn_mean /= np.sum(Pn_mean )\n",
    "N_rows_Pn = jacknifed_Pn.shape[0]\n",
    "Pn_err = np.std(jacknifed_Pn,axis=0)\n",
    "Pn_err *= np.sqrt(N_rows_Pn-1)"
   ]
  },
  {
   "cell_type": "code",
   "execution_count": null,
   "metadata": {},
   "outputs": [],
   "source": [
    "for n in range(4+1):\n",
    "    print(f'P(n={n}) = {Pn_mean[n]:0.4f} +/- {Pn_err[n]:0.4f}')"
   ]
  },
  {
   "cell_type": "code",
   "execution_count": null,
   "metadata": {},
   "outputs": [],
   "source": []
  },
  {
   "cell_type": "code",
   "execution_count": null,
   "metadata": {},
   "outputs": [],
   "source": []
  },
  {
   "cell_type": "code",
   "execution_count": null,
   "metadata": {},
   "outputs": [],
   "source": []
  },
  {
   "cell_type": "code",
   "execution_count": null,
   "metadata": {},
   "outputs": [],
   "source": [
    "x1 = np.geomspace(0.1,2.0, num=7)\n",
    "print(x1)\n",
    "x2 = np.arange(3,6,1)\n",
    "print(x2)\n",
    "x5 = np.array([0.1,0.20,0.35,0.60,1.0,1.45,2.0,3.0,4.0,5.0,6.0])\n",
    "# plt.plot(x1,np.exp(-x1),'o')\n",
    "# plt.plot(x2,np.exp(-x2),'o')\n",
    "plt.plot(x5,np.exp(-x5),'o')\n",
    "x5"
   ]
  },
  {
   "cell_type": "code",
   "execution_count": null,
   "metadata": {},
   "outputs": [],
   "source": [
    "x = np.hstack((x1,x2))\n",
    "x[1]=0.2\n",
    "x[2]=0.3\n",
    "x[3]=0.6"
   ]
  },
  {
   "cell_type": "code",
   "execution_count": null,
   "metadata": {},
   "outputs": [],
   "source": [
    "plt.plot(x,np.exp(-x),'o')"
   ]
  },
  {
   "cell_type": "code",
   "execution_count": null,
   "metadata": {},
   "outputs": [],
   "source": [
    "list(enumerate(x3))"
   ]
  },
  {
   "cell_type": "code",
   "execution_count": null,
   "metadata": {},
   "outputs": [],
   "source": [
    "# x3[5] = 1.0\n",
    "x3[5] = 1.0\n",
    "x3[7] = 2.0"
   ]
  },
  {
   "cell_type": "code",
   "execution_count": null,
   "metadata": {},
   "outputs": [],
   "source": []
  },
  {
   "cell_type": "code",
   "execution_count": null,
   "metadata": {},
   "outputs": [],
   "source": []
  }
 ],
 "metadata": {
  "kernelspec": {
   "display_name": "Python 3",
   "language": "python",
   "name": "python3"
  },
  "language_info": {
   "codemirror_mode": {
    "name": "ipython",
    "version": 3
   },
   "file_extension": ".py",
   "mimetype": "text/x-python",
   "name": "python",
   "nbconvert_exporter": "python",
   "pygments_lexer": "ipython3",
   "version": "3.8.5"
  }
 },
 "nbformat": 4,
 "nbformat_minor": 4
}
