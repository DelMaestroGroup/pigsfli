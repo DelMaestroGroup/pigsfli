{
 "cells": [
  {
   "cell_type": "code",
   "execution_count": 1,
   "metadata": {},
   "outputs": [],
   "source": [
    "import matplotlib.pyplot as plt\n",
    "import numpy as np"
   ]
  },
  {
   "cell_type": "code",
   "execution_count": 2,
   "metadata": {},
   "outputs": [],
   "source": [
    "import os\n",
    "# Save all the file names in the path as strings to a list\n",
    "path=\"/Users/ecasiano/Desktop/PrototypeScripts/TestSystematicError/\"\n",
    "filenames_all = os.listdir(path)\n",
    "\n",
    "# Set desired total number of particles\n",
    "L_want = 4\n",
    "N_want = 4\n",
    "l_want = 2\n",
    "beta_want = 4.000000\n",
    "bins_want = 100000\n",
    "D_want = 1\n",
    "U_want = 3.300000\n",
    "t_want = 1.000000\n",
    "\n",
    "# Saves the files relevant to P(n) & S2(n) calculation\n",
    "files_PnSquared = []\n",
    "files_SWAPn = []\n",
    "files_Pn = []\n",
    "\n",
    "# Iterate over all filenames in path\n",
    "for filename in filenames_all:\n",
    "    \n",
    "    # Extract parameter information from file name\n",
    "    parameters = filename.split(\"_\")\n",
    "    \n",
    "    if parameters[0]=='1D' or parameters[0]=='2D' or parameters[0]=='3D':\n",
    "    \n",
    "        D = int((parameters[0])[0]) # hypercube dimension\n",
    "        L = int(parameters[1]) # hypercube linear size\n",
    "        N = int(parameters[2]) # total particles\n",
    "        l = int(parameters[3]) # subsystem linear size (actually l_max)\n",
    "        U = float(parameters[4]) # interaction potential\n",
    "        t = float(parameters[5]) # tunneling parameter\n",
    "        beta = float(parameters[6]) # imaginary time length (K_B*T)**(-1)\n",
    "        bins_wanted = int(parameters[7]) # number of bins saved in file\n",
    "        filetype = (parameters[8]).split(\"-mA\") # identifies the data stored in file\n",
    "        seed = int(parameters[9].split(\".\")[0]) # random seed used\n",
    "        \n",
    "        mA_sector_wanted = 2\n",
    "        \n",
    "        if filetype[0]=='PnSquared' and int(filetype[1])==mA_sector_wanted:\n",
    "            \n",
    "            # Set parameters of simulations from differenet seeds we want to evaluate [D,L,N,l,U,t,beta,bins,type]\n",
    "            parameters_to_evaluate = [D_want,\n",
    "                                      L_want,\n",
    "                                      N_want,\n",
    "                                      l_want,\n",
    "                                      U_want,\n",
    "                                      t_want,\n",
    "                                      beta_want,\n",
    "                                      bins_want,\n",
    "                                      'PnSquared']\n",
    "\n",
    "            if [D,L,N,l,U,t,beta,bins_wanted,filetype[0]] == parameters_to_evaluate:\n",
    "                if os.stat(path+filename).st_size > 0:\n",
    "                    with open(path+filename) as f:\n",
    "                       count = sum(1 for _ in f)\n",
    "                    if count == bins_wanted: # only consider files that managed to save number of bins wanted\n",
    "                        files_PnSquared.append(filename)\n",
    "                        \n",
    "                        filename_splitted = filename.split('_')\n",
    "                        filename_splitted[8] = 'Pn-mA'+str(mA_sector_wanted)\n",
    "                        filename_Pn = \"_\".join(filename_splitted)\n",
    "                        files_Pn.append(filename_Pn)\n",
    "                        \n",
    "                        filename_splitted = filename.split('_')\n",
    "                        filename_splitted[8] = 'SWAPn-mA'+str(mA_sector_wanted)\n",
    "                        filename_SWAPn = \"_\".join(filename_splitted)\n",
    "                        files_SWAPn.append(filename_SWAPn)\n",
    "                        \n",
    "# Get total number of seeds \n",
    "number_of_seeds = len(files_PnSquared)"
   ]
  },
  {
   "cell_type": "markdown",
   "metadata": {},
   "source": [
    "### Jacknife notes"
   ]
  },
  {
   "cell_type": "code",
   "execution_count": 3,
   "metadata": {},
   "outputs": [],
   "source": [
    "# # SWAP_col_sums = np.zeros((number_of_seeds,N_want+1))\n",
    "# # Pn_squared_l_col_sums = np.zeros((number_of_seeds,N_want+1))\n",
    "# S2n_seeds = np.zeros((number_of_seeds,N+1))\n",
    "# S2n_seeds_err = np.zeros((number_of_seeds+1))\n",
    "# for s in range(number_of_seeds):\n",
    "#     data_SWAPn = np.loadtxt(path+files_SWAPn[s])\n",
    "#     SWAP_col_sums = np.sum(data_SWAPn,axis=0)\n",
    "    \n",
    "#     data_PnSquared = np.loadtxt(path+files_PnSquared[s])\n",
    "#     Pn_squared_l_col_sums = np.sum(data_PnSquared,axis=0)\n",
    "    \n",
    "#     S2n_i = np.zeros(data_SWAPn.shape)\n",
    "#     for i in range(data_SWAPn.shape[0]):\n",
    "#         jacknifed_SWAPn = SWAP_col_sums - data_SWAPn[i]\n",
    "#         jacknifed_PnSquared = Pn_squared_l_col_sums - data_PnSquared[i]\n",
    "        \n",
    "#         S2n_i[i] = -np.log(jacknifed_SWAPn/jacknifed_PnSquared)\n",
    "    \n",
    "#     S2n = np.mean(S2n_i,axis=0)\n",
    "#     N_rows = S2n.shape[0]\n",
    "#     S2n_err = np.std(S2n,axis=0)\n",
    "#     S2n_err *= np.sqrt(N_rows-1)\n",
    "    \n",
    "#     S2n_seeds[s] = S2n\n",
    "#     S2n_seeds_err[s] = S2n_err"
   ]
  },
  {
   "cell_type": "code",
   "execution_count": 4,
   "metadata": {},
   "outputs": [
    {
     "data": {
      "text/plain": [
       "94"
      ]
     },
     "execution_count": 4,
     "metadata": {},
     "output_type": "execute_result"
    }
   ],
   "source": [
    "number_of_seeds"
   ]
  },
  {
   "cell_type": "markdown",
   "metadata": {},
   "source": [
    "### Get mean of numerators and denominators for each seed"
   ]
  },
  {
   "cell_type": "code",
   "execution_count": 20,
   "metadata": {},
   "outputs": [],
   "source": [
    "SWAPn = np.zeros((number_of_seeds,N+1))\n",
    "PnSquared = np.zeros((number_of_seeds,N+1))\n",
    "for s in range(number_of_seeds):\n",
    "    data_SWAPn = np.loadtxt(path+files_SWAPn[s])\n",
    "    SWAP_col_mean = np.sum(data_SWAPn,axis=0)\n",
    "\n",
    "    data_PnSquared = np.loadtxt(path+files_PnSquared[s])\n",
    "    Pn_squared_l_col_mean = np.sum(data_PnSquared,axis=0)\n",
    "    \n",
    "    SWAPn[s] = SWAP_col_mean\n",
    "    PnSquared[s] = Pn_squared_l_col_mean"
   ]
  },
  {
   "cell_type": "markdown",
   "metadata": {},
   "source": [
    "### Plot $S_2(n)$ as function of seed"
   ]
  },
  {
   "cell_type": "code",
   "execution_count": 28,
   "metadata": {},
   "outputs": [
    {
     "data": {
      "image/png": "[encoded data removed]",
      "text/plain": [
       "<Figure size 432x288 with 1 Axes>"
      ]
     },
     "metadata": {
      "needs_background": "light"
     },
     "output_type": "display_data"
    }
   ],
   "source": [
    "plt.plot(np.arange(number_of_seeds),SWAPn[:,0],'o',label=r'$n=0$')\n",
    "plt.plot(np.arange(number_of_seeds),SWAPn[:,N],'o',label=r'$n=N$')\n",
    "plt.axhline(np.mean(SWAPn[:,0]),color='dodgerblue')\n",
    "plt.axhline(np.mean(SWAPn[:,N]),color='orange')\n",
    "plt.xlabel('RNG Seed')\n",
    "plt.ylabel('Numerator')\n",
    "plt.legend()\n",
    "plt.savefig('numerators.png')"
   ]
  },
  {
   "cell_type": "code",
   "execution_count": 29,
   "metadata": {},
   "outputs": [
    {
     "data": {
      "image/png": "[encoded data removed]",
      "text/plain": [
       "<Figure size 432x288 with 1 Axes>"
      ]
     },
     "metadata": {
      "needs_background": "light"
     },
     "output_type": "display_data"
    }
   ],
   "source": [
    "plt.plot(np.arange(number_of_seeds),PnSquared[:,0],'o',label=r'$n=0$')\n",
    "plt.plot(np.arange(number_of_seeds),PnSquared[:,N],'o',label=r'$n=N$')\n",
    "plt.axhline(np.mean(PnSquared[:,0]),color='dodgerblue')\n",
    "plt.axhline(np.mean(PnSquared[:,N]),color='orange')\n",
    "plt.xlabel('RNG Seed')\n",
    "plt.ylabel('Denominator')\n",
    "plt.legend(loc='upper left')\n",
    "plt.savefig('denominators.png')"
   ]
  },
  {
   "cell_type": "code",
   "execution_count": 49,
   "metadata": {},
   "outputs": [
    {
     "name": "stdout",
     "output_type": "stream",
     "text": [
      "<S2(n=0)> = -0.000321 +/- 0.006378\n",
      "<S2(n=1)> = 0.023648 +/- 0.003633\n",
      "<S2(n=2)> = 0.006344 +/- 0.001189\n",
      "<S2(n=3)> = 0.015266 +/- 0.004119\n",
      "<S2(n=4)> = -0.027901 +/- 0.084765\n"
     ]
    }
   ],
   "source": [
    "for n in range(N+1):\n",
    "    print(f\"<S2(n={n})> = {S2_mean[n]:0.6f} +/- {S2_err[n]:0.6f}\")"
   ]
  },
  {
   "cell_type": "markdown",
   "metadata": {},
   "source": [
    "### $P(n)$"
   ]
  },
  {
   "cell_type": "code",
   "execution_count": 70,
   "metadata": {},
   "outputs": [
    {
     "data": {
      "text/plain": [
       "array([  9.221, 203.696, 626.563, 207.617,   8.075])"
      ]
     },
     "execution_count": 70,
     "metadata": {},
     "output_type": "execute_result"
    }
   ],
   "source": [
    "data_Pn_m2 = np.loadtxt(path+\"1D_4_4_2_3.300000_1.000000_4.000000_1000_Pn-mA2_\"+str(seed)+\".dat\")\n",
    "np.mean(data_Pn_m2,axis=0)"
   ]
  },
  {
   "cell_type": "code",
   "execution_count": 71,
   "metadata": {},
   "outputs": [],
   "source": [
    "data_Pn_col_sum_m2 = np.sum(data_Pn_m2,axis=0)"
   ]
  },
  {
   "cell_type": "code",
   "execution_count": 72,
   "metadata": {},
   "outputs": [],
   "source": [
    "jacknifed_Pn = np.zeros(data_Pn_m2.shape)\n",
    "for i in range(data_Pn_m2.shape[0]):\n",
    "    data_Pn_col_sum_m2_i = data_Pn_col_sum_m2 - data_Pn_m2[i]\n",
    "        \n",
    "    jacknifed_Pn[i] = data_Pn_col_sum_m2_i\n",
    "jacknifed_Pn /= np.sum(jacknifed_Pn,axis=1)[:,None]"
   ]
  },
  {
   "cell_type": "code",
   "execution_count": 73,
   "metadata": {},
   "outputs": [],
   "source": [
    "Pn_mean = np.mean(jacknifed_Pn,axis=0)\n",
    "Pn_mean /= np.sum(Pn_mean )\n",
    "N_rows_Pn = jacknifed_Pn.shape[0]\n",
    "Pn_err = np.std(jacknifed_Pn,axis=0)\n",
    "Pn_err *= np.sqrt(N_rows_Pn-1)"
   ]
  },
  {
   "cell_type": "code",
   "execution_count": 74,
   "metadata": {},
   "outputs": [
    {
     "name": "stdout",
     "output_type": "stream",
     "text": [
      "P(n=0) = 0.0087 +/- 0.0012\n",
      "P(n=1) = 0.1930 +/- 0.0050\n",
      "P(n=2) = 0.5938 +/- 0.0063\n",
      "P(n=3) = 0.1968 +/- 0.0054\n",
      "P(n=4) = 0.0077 +/- 0.0012\n"
     ]
    }
   ],
   "source": [
    "for n in range(4+1):\n",
    "    print(f'P(n={n}) = {Pn_mean[n]:0.4f} +/- {Pn_err[n]:0.4f}')"
   ]
  },
  {
   "cell_type": "code",
   "execution_count": null,
   "metadata": {},
   "outputs": [],
   "source": []
  },
  {
   "cell_type": "code",
   "execution_count": null,
   "metadata": {},
   "outputs": [],
   "source": []
  },
  {
   "cell_type": "code",
   "execution_count": null,
   "metadata": {},
   "outputs": [],
   "source": []
  },
  {
   "cell_type": "code",
   "execution_count": 160,
   "metadata": {},
   "outputs": [
    {
     "name": "stdout",
     "output_type": "stream",
     "text": [
      "[0.1        0.1647549  0.27144176 0.4472136  0.7368063  1.21392446\n",
      " 2.        ]\n",
      "[3 4 5]\n"
     ]
    },
    {
     "data": {
      "text/plain": [
       "array([0.1 , 0.2 , 0.35, 0.6 , 1.  , 1.45, 2.  , 3.  , 4.  , 5.  , 6.  ])"
      ]
     },
     "execution_count": 160,
     "metadata": {},
     "output_type": "execute_result"
    },
    {
     "data": {
      "image/png": "[encoded data removed]",
      "text/plain": [
       "<Figure size 432x288 with 1 Axes>"
      ]
     },
     "metadata": {
      "needs_background": "light"
     },
     "output_type": "display_data"
    }
   ],
   "source": [
    "x1 = np.geomspace(0.1,2.0, num=7)\n",
    "print(x1)\n",
    "x2 = np.arange(3,6,1)\n",
    "print(x2)\n",
    "x5 = np.array([0.1,0.20,0.35,0.60,1.0,1.45,2.0,3.0,4.0,5.0,6.0])\n",
    "# plt.plot(x1,np.exp(-x1),'o')\n",
    "# plt.plot(x2,np.exp(-x2),'o')\n",
    "plt.plot(x5,np.exp(-x5),'o')\n",
    "x5"
   ]
  },
  {
   "cell_type": "code",
   "execution_count": 125,
   "metadata": {},
   "outputs": [],
   "source": [
    "x = np.hstack((x1,x2))\n",
    "x[1]=0.2\n",
    "x[2]=0.3\n",
    "x[3]=0.6"
   ]
  },
  {
   "cell_type": "code",
   "execution_count": 126,
   "metadata": {},
   "outputs": [
    {
     "data": {
      "text/plain": [
       "[<matplotlib.lines.Line2D at 0x7fadb9d0f850>]"
      ]
     },
     "execution_count": 126,
     "metadata": {},
     "output_type": "execute_result"
    },
    {
     "data": {
      "image/png": "[encoded data removed]",
      "text/plain": [
       "<Figure size 432x288 with 1 Axes>"
      ]
     },
     "metadata": {
      "needs_background": "light"
     },
     "output_type": "display_data"
    }
   ],
   "source": [
    "plt.plot(x,np.exp(-x),'o')"
   ]
  },
  {
   "cell_type": "code",
   "execution_count": 82,
   "metadata": {},
   "outputs": [
    {
     "data": {
      "text/plain": [
       "[(0, 0.1),\n",
       " (1, 0.15760586001492374),\n",
       " (2, 0.2483960711104374),\n",
       " (3, 0.3914867641168864),\n",
       " (4, 0.6170060814310147),\n",
       " (5, 1.0),\n",
       " (6, 1.5326188647871062),\n",
       " (7, 2.0),\n",
       " (8, 3.806965045228559),\n",
       " (9, 6.0)]"
      ]
     },
     "execution_count": 82,
     "metadata": {},
     "output_type": "execute_result"
    }
   ],
   "source": [
    "list(enumerate(x3))"
   ]
  },
  {
   "cell_type": "code",
   "execution_count": 79,
   "metadata": {},
   "outputs": [],
   "source": [
    "# x3[5] = 1.0\n",
    "x3[5] = 1.0\n",
    "x3[7] = 2.0"
   ]
  },
  {
   "cell_type": "code",
   "execution_count": 87,
   "metadata": {},
   "outputs": [],
   "source": []
  },
  {
   "cell_type": "code",
   "execution_count": null,
   "metadata": {},
   "outputs": [],
   "source": []
  }
 ],
 "metadata": {
  "kernelspec": {
   "display_name": "Python 3",
   "language": "python",
   "name": "python3"
  },
  "language_info": {
   "codemirror_mode": {
    "name": "ipython",
    "version": 3
   },
   "file_extension": ".py",
   "mimetype": "text/x-python",
   "name": "python",
   "nbconvert_exporter": "python",
   "pygments_lexer": "ipython3",
   "version": "3.7.9"
  }
 },
 "nbformat": 4,
 "nbformat_minor": 4
}
