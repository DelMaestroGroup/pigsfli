{
 "cells": [
  {
   "cell_type": "code",
   "execution_count": 2,
   "metadata": {},
   "outputs": [],
   "source": [
    "import matplotlib.pyplot as plt\n",
    "import numpy as np"
   ]
  },
  {
   "cell_type": "code",
   "execution_count": 3,
   "metadata": {},
   "outputs": [],
   "source": [
    "np.set_printoptions(precision=8)"
   ]
  },
  {
   "cell_type": "markdown",
   "metadata": {},
   "source": [
    "### $\\beta$-scaling (but the original estimator)"
   ]
  },
  {
   "cell_type": "code",
   "execution_count": 4,
   "metadata": {},
   "outputs": [
    {
     "data": {
      "text/plain": [
       "243"
      ]
     },
     "execution_count": 4,
     "metadata": {},
     "output_type": "execute_result"
    }
   ],
   "source": [
    "data = np.loadtxt(\"3_9_2_2D_42.576569_2.000000_1.000000_100000000_17_can_SWAP.dat\")\n",
    "np.shape(data)\n",
    "data[:4]\n",
    "data.shape[0]"
   ]
  },
  {
   "cell_type": "code",
   "execution_count": 5,
   "metadata": {},
   "outputs": [
    {
     "data": {
      "text/plain": [
       "array([249026., 244084., 241473., 240005., 240412.])"
      ]
     },
     "execution_count": 5,
     "metadata": {},
     "output_type": "execute_result"
    }
   ],
   "source": [
    "P = np.sum(data,axis=0)\n",
    "P"
   ]
  },
  {
   "cell_type": "code",
   "execution_count": 6,
   "metadata": {},
   "outputs": [],
   "source": [
    "pj = np.zeros(data.shape)"
   ]
  },
  {
   "cell_type": "code",
   "execution_count": 7,
   "metadata": {},
   "outputs": [],
   "source": [
    "for i in range(data.shape[1]):\n",
    "    pj[:,i]=P[i]"
   ]
  },
  {
   "cell_type": "code",
   "execution_count": 8,
   "metadata": {},
   "outputs": [],
   "source": [
    "N_rows = data.shape[0]\n",
    "pj_bar = (pj-data)/(N_rows-1)"
   ]
  },
  {
   "cell_type": "code",
   "execution_count": 9,
   "metadata": {},
   "outputs": [],
   "source": [
    "D = 2\n",
    "l_A = 1\n",
    "m_A = l_A**D\n",
    "S = -np.log(pj_bar[:,m_A]/pj_bar[:,0])"
   ]
  },
  {
   "cell_type": "code",
   "execution_count": 10,
   "metadata": {},
   "outputs": [
    {
     "data": {
      "text/plain": [
       "0.020044876373571156"
      ]
     },
     "execution_count": 10,
     "metadata": {},
     "output_type": "execute_result"
    }
   ],
   "source": [
    "S_mean = np.mean(S)\n",
    "S_mean"
   ]
  },
  {
   "cell_type": "code",
   "execution_count": 11,
   "metadata": {},
   "outputs": [
    {
     "data": {
      "text/plain": [
       "0.003266853247075429"
      ]
     },
     "execution_count": 11,
     "metadata": {},
     "output_type": "execute_result"
    }
   ],
   "source": [
    "S_err = np.sqrt(N_rows-1)*np.std(S)\n",
    "S_err"
   ]
  },
  {
   "cell_type": "code",
   "execution_count": 12,
   "metadata": {},
   "outputs": [],
   "source": [
    "S_exact=1.573862357119216"
   ]
  },
  {
   "cell_type": "code",
   "execution_count": 13,
   "metadata": {},
   "outputs": [],
   "source": [
    "Us = np.geomspace(0.03,100.0,20)"
   ]
  },
  {
   "cell_type": "code",
   "execution_count": 14,
   "metadata": {},
   "outputs": [
    {
     "name": "stdout",
     "output_type": "stream",
     "text": [
      "100.000000\n"
     ]
    }
   ],
   "source": [
    "idx=19\n",
    "print(f'{Us[idx]:0.6f}')"
   ]
  },
  {
   "cell_type": "code",
   "execution_count": 15,
   "metadata": {},
   "outputs": [
    {
     "name": "stdout",
     "output_type": "stream",
     "text": [
      "0.020045 0.003267\n"
     ]
    }
   ],
   "source": [
    "print(\"%.6f %.6f\"%(S_mean,S_err))"
   ]
  },
  {
   "cell_type": "code",
   "execution_count": null,
   "metadata": {},
   "outputs": [],
   "source": []
  },
  {
   "cell_type": "code",
   "execution_count": 16,
   "metadata": {},
   "outputs": [],
   "source": [
    "sweep_data = np.loadtxt(\"preliminaryUSweep_l1x1.dat\")\n",
    "S2_sweep = sweep_data[:,1]\n",
    "errors_sweep = sweep_data[:,2]"
   ]
  },
  {
   "cell_type": "code",
   "execution_count": 17,
   "metadata": {},
   "outputs": [],
   "source": [
    "sweep_data2 = np.loadtxt(\"preliminaryUSweep_l2x2.dat\")\n",
    "S2_sweep2 = sweep_data2[:,1]\n",
    "errors_sweep2 = sweep_data2[:,2]"
   ]
  },
  {
   "cell_type": "code",
   "execution_count": 18,
   "metadata": {},
   "outputs": [
    {
     "data": {
      "image/png": "[encoded data removed]",
      "text/plain": [
       "<Figure size 432x288 with 1 Axes>"
      ]
     },
     "metadata": {
      "needs_background": "light"
     },
     "output_type": "display_data"
    }
   ],
   "source": [
    "plt.plot(Us[7:],S2_sweep[7:],'o',mec='dodgerblue',mfc='lightskyblue',label=r'$\\ell=1\\times1$')\n",
    "plt.errorbar(Us[7:], S2_sweep[7:], yerr=errors_sweep[7:], fmt='.', capsize=3,zorder=-1,color='dodgerblue');\n",
    "plt.plot(Us[7:],S2_sweep2[7:],'o',mec='mediumseagreen',mfc='lightgreen',label=r'$\\ell=2\\times2$')\n",
    "plt.errorbar(Us[7:], S2_sweep2[7:], yerr=errors_sweep2[7:], fmt='.', capsize=3,zorder=-1,color='mediumseagreen');\n",
    "plt.xlabel(r\"$U/t$\")\n",
    "plt.ylabel(r\"$S_2$\")\n",
    "plt.xscale(\"log\")\n",
    "plt.annotate(r'$L=3\\times3,N=9$',(0.64,0.84),xycoords='figure fraction')\n",
    "plt.annotate(r'$U=1.0,t=1.0$',(0.64,0.79),xycoords='figure fraction')\n",
    "plt.annotate(r'$\\rm{sweeps}=10^8,\\beta=2.0$',(0.64,0.74),xycoords='figure fraction')\n",
    "plt.legend(loc='b')\n",
    "plt.axvline(3.3,zorder=-1,color=\"#aaaaaa\")\n",
    "plt.savefig('preliminaryGreiner.pdf')"
   ]
  },
  {
   "cell_type": "code",
   "execution_count": null,
   "metadata": {},
   "outputs": [],
   "source": []
  },
  {
   "cell_type": "code",
   "execution_count": null,
   "metadata": {},
   "outputs": [],
   "source": []
  },
  {
   "cell_type": "code",
   "execution_count": null,
   "metadata": {},
   "outputs": [],
   "source": []
  },
  {
   "cell_type": "code",
   "execution_count": null,
   "metadata": {},
   "outputs": [],
   "source": []
  }
 ],
 "metadata": {
  "kernelspec": {
   "display_name": "Python 3",
   "language": "python",
   "name": "python3"
  },
  "language_info": {
   "codemirror_mode": {
    "name": "ipython",
    "version": 3
   },
   "file_extension": ".py",
   "mimetype": "text/x-python",
   "name": "python",
   "nbconvert_exporter": "python",
   "pygments_lexer": "ipython3",
   "version": "3.7.6"
  }
 },
 "nbformat": 4,
 "nbformat_minor": 4
}
