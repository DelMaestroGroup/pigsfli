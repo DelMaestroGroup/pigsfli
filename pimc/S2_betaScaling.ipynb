{
 "cells": [
  {
   "cell_type": "code",
   "execution_count": 40,
   "metadata": {},
   "outputs": [],
   "source": [
    "import numpy as np\n",
    "import matplotlib.pyplot as plt"
   ]
  },
  {
   "cell_type": "code",
   "execution_count": 41,
   "metadata": {},
   "outputs": [
    {
     "data": {
      "text/plain": [
       "array([[1.00000e-01, 8.42608e-01, 9.37000e-04],\n",
       "       [1.00000e+00, 2.23889e-01, 5.85000e-04],\n",
       "       [2.00000e+00, 2.22155e-01, 9.19000e-04],\n",
       "       [3.00000e+00, 2.22493e-01, 1.24200e-03],\n",
       "       [4.00000e+00, 2.20614e-01, 1.80800e-03],\n",
       "       [5.00000e+00, 2.24943e-01, 1.33500e-03]])"
      ]
     },
     "execution_count": 41,
     "metadata": {},
     "output_type": "execute_result"
    }
   ],
   "source": [
    "data = np.loadtxt(\"betaScaling_2_2_1_10.0000_1000000000_0.dat\")\n",
    "data"
   ]
  },
  {
   "cell_type": "code",
   "execution_count": 42,
   "metadata": {},
   "outputs": [
    {
     "data": {
      "text/plain": [
       "array([0.000937, 0.000585, 0.000919, 0.001242, 0.001808, 0.001335])"
      ]
     },
     "execution_count": 42,
     "metadata": {},
     "output_type": "execute_result"
    }
   ],
   "source": [
    "betas = data[:,0]\n",
    "S2s = data[:,1]\n",
    "errors = data[:,2]\n",
    "errors"
   ]
  },
  {
   "cell_type": "code",
   "execution_count": 43,
   "metadata": {},
   "outputs": [
    {
     "data": {
      "image/png": "[encoded data removed]",
      "text/plain": [
       "<Figure size 432x288 with 1 Axes>"
      ]
     },
     "metadata": {
      "needs_background": "light"
     },
     "output_type": "display_data"
    }
   ],
   "source": [
    "fig,ax1 = plt.subplots()\n",
    "plt.errorbar(betas, S2s, yerr=errors, fmt='.', capsize=3);\n",
    "ax1.plot(betas,S2s,color='lightskyblue')\n",
    "ax1.set_ylabel(r'$S_2$')\n",
    "ax1.set_xlabel(r'$\\beta$')\n",
    "ax1.axhline(0.2245498660287064,color='#cccccc',zorder=-10)\n",
    "ax1.annotate('$L=2,N=2,\\ell_A=1,U=10.0,sweeps=10^9$',(0.40,0.80),xycoords='figure fraction')\n",
    "ax1.tick_params(axis='both',direction='in')\n",
    "plt.savefig(\"betaScaling_2_2_1_10.0000_1000000000_0.pdf\")"
   ]
  },
  {
   "cell_type": "code",
   "execution_count": null,
   "metadata": {},
   "outputs": [],
   "source": []
  },
  {
   "cell_type": "code",
   "execution_count": null,
   "metadata": {},
   "outputs": [],
   "source": []
  }
 ],
 "metadata": {
  "kernelspec": {
   "display_name": "Python 3",
   "language": "python",
   "name": "python3"
  },
  "language_info": {
   "codemirror_mode": {
    "name": "ipython",
    "version": 3
   },
   "file_extension": ".py",
   "mimetype": "text/x-python",
   "name": "python",
   "nbconvert_exporter": "python",
   "pygments_lexer": "ipython3",
   "version": "3.7.6"
  }
 },
 "nbformat": 4,
 "nbformat_minor": 4
}
