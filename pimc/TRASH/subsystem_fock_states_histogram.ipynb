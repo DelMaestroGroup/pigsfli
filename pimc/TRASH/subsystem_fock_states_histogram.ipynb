{
 "cells": [
  {
   "cell_type": "code",
   "execution_count": 57,
   "metadata": {},
   "outputs": [],
   "source": [
    "import numpy as np\n",
    "import matplotlib.pyplot as plt"
   ]
  },
  {
   "cell_type": "code",
   "execution_count": 58,
   "metadata": {},
   "outputs": [
    {
     "data": {
      "text/plain": [
       "array([7462., 6966., 2439., 2400., 6792.,  456.,  136.,  275.,  191.,\n",
       "        520.,  218.,  278.,  215., 1629.])"
      ]
     },
     "execution_count": 58,
     "metadata": {},
     "output_type": "execute_result"
    }
   ],
   "source": [
    "histogram_raw = np.loadtxt(\"subsystem_fock_state_histogram_0.000000.dat\")\n",
    "histogram_raw_with_swap = np.loadtxt(\"subsystem_fock_state_histogram_0.000000_withSWAP.dat\")\n",
    "histogram_raw_with_swap"
   ]
  },
  {
   "cell_type": "code",
   "execution_count": 59,
   "metadata": {},
   "outputs": [],
   "source": [
    "subsystem_fock_states = ['0000','0101','0110','1001','1010','0202','0220','0211','2002','2020','2011','1102','1120','1111']"
   ]
  },
  {
   "cell_type": "code",
   "execution_count": 60,
   "metadata": {},
   "outputs": [],
   "source": [
    "swappables = np.zeros_like(histogram_raw)\n",
    "non_swappables = np.zeros_like(histogram_raw)\n",
    "\n",
    "swappables_with_swap = np.zeros_like(histogram_raw_with_swap)\n",
    "non_swappables_with_swap = np.zeros_like(histogram_raw_with_swap)"
   ]
  },
  {
   "cell_type": "code",
   "execution_count": 61,
   "metadata": {},
   "outputs": [],
   "source": [
    "swappables[0] = histogram_raw[0]\n",
    "swappables[1] = histogram_raw[1]\n",
    "swappables[4] = histogram_raw[4]\n",
    "swappables[5] = histogram_raw[5]\n",
    "swappables[9] = histogram_raw[9]\n",
    "swappables[13] = histogram_raw[13]\n",
    "\n",
    "swappables_with_swap[0] = histogram_raw_with_swap[0]\n",
    "swappables_with_swap[1] = histogram_raw_with_swap[1]\n",
    "swappables_with_swap[4] = histogram_raw_with_swap[4]\n",
    "swappables_with_swap[5] = histogram_raw_with_swap[5]\n",
    "swappables_with_swap[9] = histogram_raw_with_swap[9]\n",
    "swappables_with_swap[13] = histogram_raw_with_swap[13]"
   ]
  },
  {
   "cell_type": "code",
   "execution_count": 62,
   "metadata": {},
   "outputs": [],
   "source": [
    "non_swappables[2] = histogram_raw[2]\n",
    "non_swappables[3] = histogram_raw[3]\n",
    "non_swappables[6] = histogram_raw[6]\n",
    "non_swappables[7] = histogram_raw[7]\n",
    "non_swappables[8] = histogram_raw[8]\n",
    "non_swappables[10] = histogram_raw[10]\n",
    "non_swappables[11] = histogram_raw[11]\n",
    "non_swappables[12] = histogram_raw[12]\n",
    "\n",
    "non_swappables_with_swap[2] = histogram_raw_with_swap[2]\n",
    "non_swappables_with_swap[3] = histogram_raw_with_swap[3]\n",
    "non_swappables_with_swap[6] = histogram_raw_with_swap[6]\n",
    "non_swappables_with_swap[7] = histogram_raw_with_swap[7]\n",
    "non_swappables_with_swap[8] = histogram_raw_with_swap[8]\n",
    "non_swappables_with_swap[10] = histogram_raw_with_swap[10]\n",
    "non_swappables_with_swap[11] = histogram_raw_with_swap[11]\n",
    "non_swappables_with_swap[12] = histogram_raw_with_swap[12]"
   ]
  },
  {
   "cell_type": "code",
   "execution_count": 63,
   "metadata": {},
   "outputs": [],
   "source": [
    "# Normalize\n",
    "norm = np.sum(histogram_raw)\n",
    "norm_with_swap = np.sum(histogram_raw_with_swap)"
   ]
  },
  {
   "cell_type": "code",
   "execution_count": 64,
   "metadata": {},
   "outputs": [
    {
     "data": {
      "image/png": "[encoded data removed]",
      "text/plain": [
       "<Figure size 432x288 with 1 Axes>"
      ]
     },
     "metadata": {
      "needs_background": "light"
     },
     "output_type": "display_data"
    }
   ],
   "source": [
    "# plt.bar(range(len(histogram_raw)),histogram_raw,tick_label=subsystem_fock_states)\n",
    "plt.bar(range(len(histogram_raw)),swappables/norm,tick_label=subsystem_fock_states,label=r'$\\rm{swappable}$',color='salmon')\n",
    "plt.bar(range(len(histogram_raw)),non_swappables/norm,tick_label=subsystem_fock_states,label=r'$\\rm{non-swappable}$',color='blue',alpha=0.75)\n",
    "plt.bar(range(len(histogram_raw)),swappables_with_swap/norm_with_swap,tick_label=subsystem_fock_states,label=r'$\\rm{swappable}$ (with SWAP) ',color='red',alpha=0.15,zorder=10)\n",
    "plt.bar(range(len(histogram_raw)),non_swappables_with_swap/norm_with_swap,tick_label=subsystem_fock_states,label=r'$\\rm{non-swappable}$ (with SWAP)',color='lightblue',alpha=0.9,zorder=10)\n",
    "plt.xticks(rotation='vertical')\n",
    "plt.legend(loc='best')\n",
    "plt.savefig(\"subsystem_fock_states_histogram_combined.pdf\")"
   ]
  },
  {
   "cell_type": "markdown",
   "metadata": {},
   "source": [
    "### $\\langle S_2 \\rangle$"
   ]
  },
  {
   "cell_type": "code",
   "execution_count": 55,
   "metadata": {},
   "outputs": [],
   "source": [
    "swappable_sum = 0.333333*np.sum(swappables_with_swap)\n",
    "all_column_sum = 0.333333*np.sum(swappables_with_swap) + np.sum(non_swappables_with_swap)"
   ]
  },
  {
   "cell_type": "code",
   "execution_count": 56,
   "metadata": {},
   "outputs": [
    {
     "data": {
      "text/plain": [
       "0.57360279953538"
      ]
     },
     "execution_count": 56,
     "metadata": {},
     "output_type": "execute_result"
    }
   ],
   "source": [
    "-np.log(swappable_sum/all_column_sum)"
   ]
  },
  {
   "cell_type": "code",
   "execution_count": 43,
   "metadata": {},
   "outputs": [],
   "source": [
    "swappable_sum = np.sum(swappables)\n",
    "all_column_sum = np.sum(swappables) + np.sum(non_swappables)"
   ]
  },
  {
   "cell_type": "code",
   "execution_count": 44,
   "metadata": {},
   "outputs": [
    {
     "data": {
      "text/plain": [
       "0.5794732360893554"
      ]
     },
     "execution_count": 44,
     "metadata": {},
     "output_type": "execute_result"
    }
   ],
   "source": [
    "-np.log(swappable_sum/all_column_sum)"
   ]
  },
  {
   "cell_type": "code",
   "execution_count": 12,
   "metadata": {},
   "outputs": [
    {
     "data": {
      "text/plain": [
       "1.0"
      ]
     },
     "execution_count": 12,
     "metadata": {},
     "output_type": "execute_result"
    }
   ],
   "source": [
    "swappable_probs = [8/32,8/32,8/32,2/32,2/32, 4/32]\n",
    "sum(swappable_probs)\n",
    "\n",
    "# THIS IS ONLY FOR ONE REPLICA\n",
    "\n",
    "# the non-interacting system state is the tensor of both\n",
    "\n",
    "# Do this for the replica, then do the tensor with replica and get probability of joint subsytem fock state\n",
    "\n",
    "# Might be too many terms to do by hand. Try and do it with a script.\n",
    "\n",
    "# Once we have these, let's get the exact histogram from the joint wavefunction\n",
    "\n",
    "# Compare PIMC (without SWAP) with Wavefunction histogram and check they're the same"
   ]
  },
  {
   "cell_type": "code",
   "execution_count": 13,
   "metadata": {},
   "outputs": [],
   "source": [
    "from math import sqrt\n",
    "# Exact ground state\n",
    "N = sqrt(32)\n",
    "psi_coeffs = [2,sqrt(2),sqrt(2),2,2,2,2,sqrt(2),sqrt(2),2]\n",
    "psi_coeffs = [i/N for i in psi_coeffs]\n",
    "psi_labels = [\"0011\",\"0002\",\"0020\",\"0101\",\"0110\",\"1001\",\"1010\",\"2000\",\"0200\",\"1100\"]"
   ]
  },
  {
   "cell_type": "code",
   "execution_count": 25,
   "metadata": {},
   "outputs": [
    {
     "data": {
      "text/plain": [
       "[(0.12499999999999997, '0011,0011'),\n",
       " (0.08838834764831843, '0011,0002'),\n",
       " (0.08838834764831843, '0011,0020'),\n",
       " (0.12499999999999997, '0011,0101'),\n",
       " (0.12499999999999997, '0011,0110'),\n",
       " (0.12499999999999997, '0011,1001'),\n",
       " (0.12499999999999997, '0011,1010'),\n",
       " (0.08838834764831843, '0011,2000'),\n",
       " (0.08838834764831843, '0011,0200'),\n",
       " (0.12499999999999997, '0011,1100'),\n",
       " (0.08838834764831843, '0002,0011'),\n",
       " (0.0625, '0002,0002'),\n",
       " (0.0625, '0002,0020'),\n",
       " (0.08838834764831843, '0002,0101'),\n",
       " (0.08838834764831843, '0002,0110'),\n",
       " (0.08838834764831843, '0002,1001'),\n",
       " (0.08838834764831843, '0002,1010'),\n",
       " (0.0625, '0002,2000'),\n",
       " (0.0625, '0002,0200'),\n",
       " (0.08838834764831843, '0002,1100'),\n",
       " (0.08838834764831843, '0020,0011'),\n",
       " (0.0625, '0020,0002'),\n",
       " (0.0625, '0020,0020'),\n",
       " (0.08838834764831843, '0020,0101'),\n",
       " (0.08838834764831843, '0020,0110'),\n",
       " (0.08838834764831843, '0020,1001'),\n",
       " (0.08838834764831843, '0020,1010'),\n",
       " (0.0625, '0020,2000'),\n",
       " (0.0625, '0020,0200'),\n",
       " (0.08838834764831843, '0020,1100'),\n",
       " (0.12499999999999997, '0101,0011'),\n",
       " (0.08838834764831843, '0101,0002'),\n",
       " (0.08838834764831843, '0101,0020'),\n",
       " (0.12499999999999997, '0101,0101'),\n",
       " (0.12499999999999997, '0101,0110'),\n",
       " (0.12499999999999997, '0101,1001'),\n",
       " (0.12499999999999997, '0101,1010'),\n",
       " (0.08838834764831843, '0101,2000'),\n",
       " (0.08838834764831843, '0101,0200'),\n",
       " (0.12499999999999997, '0101,1100'),\n",
       " (0.12499999999999997, '0110,0011'),\n",
       " (0.08838834764831843, '0110,0002'),\n",
       " (0.08838834764831843, '0110,0020'),\n",
       " (0.12499999999999997, '0110,0101'),\n",
       " (0.12499999999999997, '0110,0110'),\n",
       " (0.12499999999999997, '0110,1001'),\n",
       " (0.12499999999999997, '0110,1010'),\n",
       " (0.08838834764831843, '0110,2000'),\n",
       " (0.08838834764831843, '0110,0200'),\n",
       " (0.12499999999999997, '0110,1100'),\n",
       " (0.12499999999999997, '1001,0011'),\n",
       " (0.08838834764831843, '1001,0002'),\n",
       " (0.08838834764831843, '1001,0020'),\n",
       " (0.12499999999999997, '1001,0101'),\n",
       " (0.12499999999999997, '1001,0110'),\n",
       " (0.12499999999999997, '1001,1001'),\n",
       " (0.12499999999999997, '1001,1010'),\n",
       " (0.08838834764831843, '1001,2000'),\n",
       " (0.08838834764831843, '1001,0200'),\n",
       " (0.12499999999999997, '1001,1100'),\n",
       " (0.12499999999999997, '1010,0011'),\n",
       " (0.08838834764831843, '1010,0002'),\n",
       " (0.08838834764831843, '1010,0020'),\n",
       " (0.12499999999999997, '1010,0101'),\n",
       " (0.12499999999999997, '1010,0110'),\n",
       " (0.12499999999999997, '1010,1001'),\n",
       " (0.12499999999999997, '1010,1010'),\n",
       " (0.08838834764831843, '1010,2000'),\n",
       " (0.08838834764831843, '1010,0200'),\n",
       " (0.12499999999999997, '1010,1100'),\n",
       " (0.08838834764831843, '2000,0011'),\n",
       " (0.0625, '2000,0002'),\n",
       " (0.0625, '2000,0020'),\n",
       " (0.08838834764831843, '2000,0101'),\n",
       " (0.08838834764831843, '2000,0110'),\n",
       " (0.08838834764831843, '2000,1001'),\n",
       " (0.08838834764831843, '2000,1010'),\n",
       " (0.0625, '2000,2000'),\n",
       " (0.0625, '2000,0200'),\n",
       " (0.08838834764831843, '2000,1100'),\n",
       " (0.08838834764831843, '0200,0011'),\n",
       " (0.0625, '0200,0002'),\n",
       " (0.0625, '0200,0020'),\n",
       " (0.08838834764831843, '0200,0101'),\n",
       " (0.08838834764831843, '0200,0110'),\n",
       " (0.08838834764831843, '0200,1001'),\n",
       " (0.08838834764831843, '0200,1010'),\n",
       " (0.0625, '0200,2000'),\n",
       " (0.0625, '0200,0200'),\n",
       " (0.08838834764831843, '0200,1100'),\n",
       " (0.12499999999999997, '1100,0011'),\n",
       " (0.08838834764831843, '1100,0002'),\n",
       " (0.08838834764831843, '1100,0020'),\n",
       " (0.12499999999999997, '1100,0101'),\n",
       " (0.12499999999999997, '1100,0110'),\n",
       " (0.12499999999999997, '1100,1001'),\n",
       " (0.12499999999999997, '1100,1010'),\n",
       " (0.08838834764831843, '1100,2000'),\n",
       " (0.08838834764831843, '1100,0200'),\n",
       " (0.12499999999999997, '1100,1100')]"
      ]
     },
     "execution_count": 25,
     "metadata": {},
     "output_type": "execute_result"
    }
   ],
   "source": [
    "psi_labels_tensored = []\n",
    "for label_i in psi_labels:\n",
    "    for label_j in psi_labels:\n",
    "        psi_labels_tensored.append(label_i+\",\"+label_j)\n",
    "        \n",
    "psi_coeffs_tensored = []\n",
    "for coeff_i in psi_coeffs:\n",
    "    for coeff_j in psi_coeffs:\n",
    "        psi_coeffs_tensored.append(coeff_i*coeff_j)\n",
    "        \n",
    "list(zip(psi_coeffs_tensored,psi_labels_tensored))"
   ]
  },
  {
   "cell_type": "code",
   "execution_count": 15,
   "metadata": {},
   "outputs": [],
   "source": [
    "# int(psi_labels_tensored[-1].split(',')[0][1])\n",
    "# Keep only the labels in which the subsystems (sites 0,1) have 2 particles in each replica\n",
    "indices_to_remove = []\n",
    "for i,tensored_label in enumerate(psi_labels_tensored):\n",
    "    n_R0 = 0\n",
    "    n_R1 = 0\n",
    "    \n",
    "    n_R0 += int(tensored_label.split(',')[0][0])\n",
    "    n_R0 += int(tensored_label.split(',')[0][1])\n",
    "    \n",
    "    n_R1 += int(tensored_label.split(',')[1][0])\n",
    "    n_R1 += int(tensored_label.split(',')[1][1])\n",
    "    \n",
    "    if not(n_R0==n_R1): indices_to_remove.append(i)\n",
    "    \n",
    "indices_to_remove = indices_to_remove[::-1]\n",
    "\n",
    "psi_labels_tensored_same_n_sector = psi_labels_tensored.copy()\n",
    "psi_coeffs_tensored_same_n_sector = psi_coeffs_tensored.copy()\n",
    "\n",
    "for i in indices_to_remove:\n",
    "    del psi_labels_tensored_same_n_sector[i]\n",
    "    del psi_coeffs_tensored_same_n_sector[i]\n",
    "    \n",
    "    "
   ]
  },
  {
   "cell_type": "code",
   "execution_count": 17,
   "metadata": {},
   "outputs": [
    {
     "data": {
      "text/plain": [
       "['0011,0011',\n",
       " '0011,0002',\n",
       " '0011,0020',\n",
       " '0002,0011',\n",
       " '0002,0002',\n",
       " '0002,0020',\n",
       " '0020,0011',\n",
       " '0020,0002',\n",
       " '0020,0020',\n",
       " '0101,0101',\n",
       " '0101,0110',\n",
       " '0101,1001',\n",
       " '0101,1010',\n",
       " '0110,0101',\n",
       " '0110,0110',\n",
       " '0110,1001',\n",
       " '0110,1010',\n",
       " '1001,0101',\n",
       " '1001,0110',\n",
       " '1001,1001',\n",
       " '1001,1010',\n",
       " '1010,0101',\n",
       " '1010,0110',\n",
       " '1010,1001',\n",
       " '1010,1010',\n",
       " '2000,2000',\n",
       " '2000,0200',\n",
       " '2000,1100',\n",
       " '0200,2000',\n",
       " '0200,0200',\n",
       " '0200,1100',\n",
       " '1100,2000',\n",
       " '1100,0200',\n",
       " '1100,1100']"
      ]
     },
     "execution_count": 17,
     "metadata": {},
     "output_type": "execute_result"
    }
   ],
   "source": [
    "psi_labels_tensored_same_n_sector"
   ]
  },
  {
   "cell_type": "code",
   "execution_count": 18,
   "metadata": {},
   "outputs": [
    {
     "data": {
      "text/plain": [
       "[0.12499999999999997,\n",
       " 0.08838834764831843,\n",
       " 0.08838834764831843,\n",
       " 0.08838834764831843,\n",
       " 0.0625,\n",
       " 0.0625,\n",
       " 0.08838834764831843,\n",
       " 0.0625,\n",
       " 0.0625,\n",
       " 0.12499999999999997,\n",
       " 0.12499999999999997,\n",
       " 0.12499999999999997,\n",
       " 0.12499999999999997,\n",
       " 0.12499999999999997,\n",
       " 0.12499999999999997,\n",
       " 0.12499999999999997,\n",
       " 0.12499999999999997,\n",
       " 0.12499999999999997,\n",
       " 0.12499999999999997,\n",
       " 0.12499999999999997,\n",
       " 0.12499999999999997,\n",
       " 0.12499999999999997,\n",
       " 0.12499999999999997,\n",
       " 0.12499999999999997,\n",
       " 0.12499999999999997,\n",
       " 0.0625,\n",
       " 0.0625,\n",
       " 0.08838834764831843,\n",
       " 0.0625,\n",
       " 0.0625,\n",
       " 0.08838834764831843,\n",
       " 0.08838834764831843,\n",
       " 0.08838834764831843,\n",
       " 0.12499999999999997]"
      ]
     },
     "execution_count": 18,
     "metadata": {},
     "output_type": "execute_result"
    }
   ],
   "source": [
    "psi_coeffs_tensored_same_n_sector"
   ]
  },
  {
   "cell_type": "code",
   "execution_count": null,
   "metadata": {},
   "outputs": [],
   "source": []
  }
 ],
 "metadata": {
  "kernelspec": {
   "display_name": "Python 3",
   "language": "python",
   "name": "python3"
  },
  "language_info": {
   "codemirror_mode": {
    "name": "ipython",
    "version": 3
   },
   "file_extension": ".py",
   "mimetype": "text/x-python",
   "name": "python",
   "nbconvert_exporter": "python",
   "pygments_lexer": "ipython3",
   "version": "3.7.6"
  }
 },
 "nbformat": 4,
 "nbformat_minor": 4
}
