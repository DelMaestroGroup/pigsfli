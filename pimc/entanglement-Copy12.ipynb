{
 "cells": [
  {
   "cell_type": "code",
   "execution_count": 13,
   "metadata": {},
   "outputs": [],
   "source": [
    "import matplotlib.pyplot as plt\n",
    "import numpy as np"
   ]
  },
  {
   "cell_type": "code",
   "execution_count": 14,
   "metadata": {},
   "outputs": [],
   "source": [
    "np.set_printoptions(precision = 8)"
   ]
  },
  {
   "cell_type": "markdown",
   "metadata": {},
   "source": [
    "### $\\beta$-scaling (but the original estimator)"
   ]
  },
  {
   "cell_type": "code",
   "execution_count": 28,
   "metadata": {},
   "outputs": [
    {
     "data": {
      "text/plain": [
       "(915, 3)"
      ]
     },
     "execution_count": 28,
     "metadata": {},
     "output_type": "execute_result"
    }
   ],
   "source": [
    "data = np.loadtxt(\"4_1_0.000000_1.000000_1.000000_10000000_26_1D_can_SWAP.dat\")\n",
    "np.shape(data)"
   ]
  },
  {
   "cell_type": "code",
   "execution_count": 29,
   "metadata": {},
   "outputs": [
    {
     "data": {
      "text/plain": [
       "201.0"
      ]
     },
     "execution_count": 29,
     "metadata": {},
     "output_type": "execute_result"
    }
   ],
   "source": [
    "norm = np.sum(data[-1])\n",
    "norm"
   ]
  },
  {
   "cell_type": "code",
   "execution_count": 30,
   "metadata": {},
   "outputs": [
    {
     "data": {
      "text/plain": [
       "array([[0.23383085, 0.43781095, 0.32835821],\n",
       "       [0.24378109, 0.46766169, 0.28855721],\n",
       "       [0.20895522, 0.56716418, 0.2238806 ],\n",
       "       [0.23383085, 0.53731343, 0.22885572],\n",
       "       [0.36318408, 0.41293532, 0.2238806 ],\n",
       "       [0.3681592 , 0.45771144, 0.17412935],\n",
       "       [0.2039801 , 0.51741294, 0.27860697],\n",
       "       [0.1840796 , 0.53233831, 0.28358209],\n",
       "       [0.24378109, 0.52736318, 0.22885572],\n",
       "       [0.30845771, 0.55721393, 0.13432836]])"
      ]
     },
     "execution_count": 30,
     "metadata": {},
     "output_type": "execute_result"
    }
   ],
   "source": [
    "swaps_raw = data/norm\n",
    "swaps_raw[0:10]"
   ]
  },
  {
   "cell_type": "code",
   "execution_count": 31,
   "metadata": {},
   "outputs": [
    {
     "data": {
      "text/plain": [
       "array([0.23917027, 0.50429274, 0.25653699])"
      ]
     },
     "execution_count": 31,
     "metadata": {},
     "output_type": "execute_result"
    }
   ],
   "source": [
    "swap = np.mean(swaps_raw,axis=0)\n",
    "swap"
   ]
  },
  {
   "cell_type": "code",
   "execution_count": 34,
   "metadata": {},
   "outputs": [
    {
     "data": {
      "text/plain": [
       "-0.7459812202334426"
      ]
     },
     "execution_count": 34,
     "metadata": {},
     "output_type": "execute_result"
    }
   ],
   "source": [
    "l_A=1\n",
    "S2 = -np.log(swap[l_A]/swap[0])\n",
    "# S2_exact = 0.47000362924573574\n",
    "S2"
   ]
  },
  {
   "cell_type": "code",
   "execution_count": 35,
   "metadata": {},
   "outputs": [
    {
     "name": "stdout",
     "output_type": "stream",
     "text": [
      "S2_PIMC = -0.7460\n"
     ]
    }
   ],
   "source": [
    "print(\"S2_PIMC = %.4f\"%(S2))\n",
    "# print(\"S2_exact = %.4f\"%(S2_exact))\n",
    "# print(\"Relative Error: %.4f%%\"%(np.abs(S2-S2_exact)/S2_exact*100))"
   ]
  },
  {
   "cell_type": "code",
   "execution_count": 9,
   "metadata": {},
   "outputs": [],
   "source": [
    "# L=4,N=4,D=1\n",
    "\n",
    "# l_A | PIMC   | ED     | relative error (%)\n",
    "#  1  | 0.1837 | 0.1845 | 0.43\n",
    "#  2  | 0.2934 | 0.2018 | 45.39\n",
    "#  3  | 0.3823 | 0.1845 | 107.21"
   ]
  },
  {
   "cell_type": "code",
   "execution_count": 10,
   "metadata": {},
   "outputs": [],
   "source": [
    "betas = [0.001,0.01,0.1,1.00,2.00,3.00,4.00]\n",
    "S2s = np.array([0.6646,0.6739,0.6908,0.6951,0.6901,0.6904,0.6907])"
   ]
  },
  {
   "cell_type": "code",
   "execution_count": 24,
   "metadata": {},
   "outputs": [
    {
     "data": {
      "image/png": "[encoded data removed]",
      "text/plain": [
       "<Figure size 432x288 with 1 Axes>"
      ]
     },
     "metadata": {
      "needs_background": "light"
     },
     "output_type": "display_data"
    }
   ],
   "source": [
    "plt.plot(betas,S2s,'o',color='lightskyblue')\n",
    "plt.plot(betas,S2s,zorder=0,alpha=0.9,color='coral')\n",
    "plt.title(r'$L=2,N=1,D=1,U=1.0,\\rm{sweeps}=10^9,\\rm{original}$')\n",
    "plt.axhline(np.log(2),zorder=-5,color='#aaaaaa')\n",
    "plt.xlabel(r'$\\beta$')\n",
    "plt.ylabel(r'$S_2$')\n",
    "plt.savefig('L2N1D1U1_EE_betaScaling.pdf')"
   ]
  },
  {
   "cell_type": "code",
   "execution_count": null,
   "metadata": {},
   "outputs": [],
   "source": []
  }
 ],
 "metadata": {
  "kernelspec": {
   "display_name": "Python 3",
   "language": "python",
   "name": "python3"
  },
  "language_info": {
   "codemirror_mode": {
    "name": "ipython",
    "version": 3
   },
   "file_extension": ".py",
   "mimetype": "text/x-python",
   "name": "python",
   "nbconvert_exporter": "python",
   "pygments_lexer": "ipython3",
   "version": "3.7.6"
  }
 },
 "nbformat": 4,
 "nbformat_minor": 4
}
