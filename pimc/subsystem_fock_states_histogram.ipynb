{
 "cells": [
  {
   "cell_type": "code",
   "execution_count": 27,
   "metadata": {},
   "outputs": [],
   "source": [
    "import numpy as np\n",
    "import matplotlib.pyplot as plt"
   ]
  },
  {
   "cell_type": "code",
   "execution_count": 38,
   "metadata": {},
   "outputs": [
    {
     "data": {
      "text/plain": [
       "array([1358133.,  860888.,  227558.,  230138.,  860960.,   40835.,\n",
       "          7826.,   18021.,    9699.,   42905.,   20980.,   19502.,\n",
       "         18530.,  157577.])"
      ]
     },
     "execution_count": 38,
     "metadata": {},
     "output_type": "execute_result"
    }
   ],
   "source": [
    "histogram_raw = np.loadtxt(\"subsystem_fock_state_histogram_0.000000.dat\")\n",
    "histogram_raw_with_swap = np.loadtxt(\"subsystem_fock_state_histogram_0.000000_withSWAP.dat\")\n",
    "histogram_raw_with_swap"
   ]
  },
  {
   "cell_type": "code",
   "execution_count": 29,
   "metadata": {},
   "outputs": [],
   "source": [
    "subsystem_fock_states = ['0000','1010','1001','0110','0101','0202','0220','0211','2002','2020','2011','1102','1120','1111']"
   ]
  },
  {
   "cell_type": "code",
   "execution_count": 39,
   "metadata": {},
   "outputs": [],
   "source": [
    "swappables = np.zeros_like(histogram_raw)\n",
    "non_swappables = np.zeros_like(histogram_raw)\n",
    "\n",
    "swappables_with_swap = np.zeros_like(histogram_raw_with_swap)\n",
    "non_swappables_with_swap = np.zeros_like(histogram_raw_with_swap)"
   ]
  },
  {
   "cell_type": "code",
   "execution_count": 40,
   "metadata": {},
   "outputs": [],
   "source": [
    "swappables[0] = histogram_raw[0]\n",
    "swappables[1] = histogram_raw[1]\n",
    "swappables[4] = histogram_raw[4]\n",
    "swappables[5] = histogram_raw[5]\n",
    "swappables[9] = histogram_raw[9]\n",
    "swappables[13] = histogram_raw[13]\n",
    "\n",
    "swappables_with_swap[0] = histogram_raw_with_swap[0]\n",
    "swappables_with_swap[1] = histogram_raw_with_swap[1]\n",
    "swappables_with_swap[4] = histogram_raw_with_swap[4]\n",
    "swappables_with_swap[5] = histogram_raw_with_swap[5]\n",
    "swappables_with_swap[9] = histogram_raw_with_swap[9]\n",
    "swappables_with_swap[13] = histogram_raw_with_swap[13]"
   ]
  },
  {
   "cell_type": "code",
   "execution_count": 41,
   "metadata": {},
   "outputs": [],
   "source": [
    "non_swappables[2] = histogram_raw[2]\n",
    "non_swappables[3] = histogram_raw[3]\n",
    "non_swappables[6] = histogram_raw[6]\n",
    "non_swappables[7] = histogram_raw[7]\n",
    "non_swappables[8] = histogram_raw[8]\n",
    "non_swappables[10] = histogram_raw[10]\n",
    "non_swappables[11] = histogram_raw[11]\n",
    "non_swappables[12] = histogram_raw[12]\n",
    "\n",
    "non_swappables_with_swap[2] = histogram_raw_with_swap[2]\n",
    "non_swappables_with_swap[3] = histogram_raw_with_swap[3]\n",
    "non_swappables_with_swap[6] = histogram_raw_with_swap[6]\n",
    "non_swappables_with_swap[7] = histogram_raw_with_swap[7]\n",
    "non_swappables_with_swap[8] = histogram_raw_with_swap[8]\n",
    "non_swappables_with_swap[10] = histogram_raw_with_swap[10]\n",
    "non_swappables_with_swap[11] = histogram_raw_with_swap[11]\n",
    "non_swappables_with_swap[12] = histogram_raw_with_swap[12]"
   ]
  },
  {
   "cell_type": "code",
   "execution_count": 56,
   "metadata": {},
   "outputs": [],
   "source": [
    "# Normalize\n",
    "norm = np.sum(histogram_raw)\n",
    "norm_with_swap = np.sum(histogram_raw_with_swap)"
   ]
  },
  {
   "cell_type": "code",
   "execution_count": 75,
   "metadata": {},
   "outputs": [
    {
     "data": {
      "image/png": "[encoded data removed]",
      "text/plain": [
       "<Figure size 432x288 with 1 Axes>"
      ]
     },
     "metadata": {
      "needs_background": "light"
     },
     "output_type": "display_data"
    }
   ],
   "source": [
    "# plt.bar(range(len(histogram_raw)),histogram_raw,tick_label=subsystem_fock_states)\n",
    "plt.bar(range(len(histogram_raw)),swappables/norm,tick_label=subsystem_fock_states,label=r'$\\rm{swappable}$',color='salmon')\n",
    "plt.bar(range(len(histogram_raw)),non_swappables/norm,tick_label=subsystem_fock_states,label=r'$\\rm{non-swappable}$',color='blue',alpha=0.75)\n",
    "plt.bar(range(len(histogram_raw)),swappables_with_swap/norm_with_swap,tick_label=subsystem_fock_states,label=r'$\\rm{swappable}$ (with SWAP) ',color='red',alpha=0.15,zorder=10)\n",
    "plt.bar(range(len(histogram_raw)),non_swappables_with_swap/norm_with_swap,tick_label=subsystem_fock_states,label=r'$\\rm{non-swappable}$ (with SWAP)',color='lightblue',alpha=0.9,zorder=10)\n",
    "plt.xticks(rotation='vertical')\n",
    "plt.legend(loc='best')\n",
    "plt.savefig(\"subsystem_fock_states_histogram_combined.png\")"
   ]
  },
  {
   "cell_type": "code",
   "execution_count": 58,
   "metadata": {},
   "outputs": [
    {
     "data": {
      "text/plain": [
       "1.0"
      ]
     },
     "execution_count": 58,
     "metadata": {},
     "output_type": "execute_result"
    }
   ],
   "source": [
    "np.sum(histogram_raw/norm)"
   ]
  },
  {
   "cell_type": "code",
   "execution_count": 59,
   "metadata": {},
   "outputs": [
    {
     "data": {
      "text/plain": [
       "0.9999999999999999"
      ]
     },
     "execution_count": 59,
     "metadata": {},
     "output_type": "execute_result"
    }
   ],
   "source": [
    "np.sum(histogram_raw_with_swap/norm_with_swap)"
   ]
  },
  {
   "cell_type": "code",
   "execution_count": 78,
   "metadata": {},
   "outputs": [
    {
     "data": {
      "text/plain": [
       "1.0"
      ]
     },
     "execution_count": 78,
     "metadata": {},
     "output_type": "execute_result"
    }
   ],
   "source": [
    "swappable_probs = [8/32,8/32,8/32,2/32,2/32, 4/32]\n",
    "sum(swappable_probs)\n",
    "\n",
    "# THIS IS ONLY FOR ONE REPLICA\n",
    "\n",
    "# the non-interacting system state is the tensor of both\n",
    "\n",
    "# Do this for the replica, then do the tensor with replica and get probability of joint subsytem fock state\n",
    "\n",
    "# Might be too many terms to do by hand. Try and do it with a script.\n",
    "\n",
    "# Once we have these, let's get the exact histogram from the joint wavefunction\n",
    "\n",
    "# Compare PIMC (without SWAP) with Wavefunction histogram and check they're the same"
   ]
  },
  {
   "cell_type": "code",
   "execution_count": null,
   "metadata": {},
   "outputs": [],
   "source": []
  },
  {
   "cell_type": "code",
   "execution_count": null,
   "metadata": {},
   "outputs": [],
   "source": []
  }
 ],
 "metadata": {
  "kernelspec": {
   "display_name": "Python 3",
   "language": "python",
   "name": "python3"
  },
  "language_info": {
   "codemirror_mode": {
    "name": "ipython",
    "version": 3
   },
   "file_extension": ".py",
   "mimetype": "text/x-python",
   "name": "python",
   "nbconvert_exporter": "python",
   "pygments_lexer": "ipython3",
   "version": "3.7.6"
  }
 },
 "nbformat": 4,
 "nbformat_minor": 4
}
